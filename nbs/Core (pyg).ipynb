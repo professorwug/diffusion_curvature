{
 "cells": [
  {
   "cell_type": "markdown",
   "id": "fba69c59e11b3cd1",
   "metadata": {},
   "source": [
    "# Implementation (Pytorch Geometric)"
   ]
  },
  {
   "cell_type": "markdown",
   "id": "207a09196b3a6419",
   "metadata": {},
   "source": [
    "This notebook provides a pytorch geometric implementation of the diffusion curvature algorithm."
   ]
  }
 ],
 "metadata": {
  "kernelspec": {
   "display_name": "python3",
   "language": "python",
   "name": "python3"
  }
 },
 "nbformat": 4,
 "nbformat_minor": 5
}
