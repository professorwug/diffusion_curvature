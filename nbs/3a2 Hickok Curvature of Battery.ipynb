{
 "cells": [
  {
   "cell_type": "code",
   "execution_count": 1,
   "metadata": {},
   "outputs": [],
   "source": [
    "#|default_exp compute_diffusion_curvature_of_battery\n",
    "from diffusion_curvature.graphs import *\n",
    "from diffusion_curvature.datasets import *\n",
    "from diffusion_curvature.core import *\n",
    "from diffusion_curvature.compute_diffusion_curvature_of_battery import *\n",
    "from fastcore.all import *\n",
    "import numpy as np\n",
    "from nbdev import show_doc\n",
    "%load_ext autoreload\n",
    "%autoreload 2"
   ]
  },
  {
   "cell_type": "code",
   "execution_count": 2,
   "metadata": {},
   "outputs": [],
   "source": [
    "from diffusion_curvature.hickok import scalar_curvature_est \n",
    "def hickock_curvature_of_pt(X, dim):\n",
    "    SC = scalar_curvature_est(\n",
    "        n = dim, #manifold dim\n",
    "        X = X, #data\n",
    "        verbose=False,\n",
    "    )\n",
    "    ks_est = SC.estimate(rmax=2, indices=[0])\n",
    "    return ks_est[0]\n"
   ]
  },
  {
   "cell_type": "code",
   "execution_count": 3,
   "metadata": {},
   "outputs": [],
   "source": [
    "from diffusion_curvature.hickok import scalar_curvature_est\n",
    "X, ks = torus(3000)\n",
    "SC = scalar_curvature_est(\n",
    "    n = 2, #manifold dim\n",
    "    X = X, #data\n",
    "    verbose=False\n",
    ")\n",
    "ks_est = SC.estimate(3.14)\n",
    "ks_est_idx = SC.estimate(3, indices=[0])"
   ]
  },
  {
   "cell_type": "code",
   "execution_count": 4,
   "metadata": {},
   "outputs": [
    {
     "data": {
      "text/plain": [
       "3.2999906049544636"
      ]
     },
     "execution_count": 4,
     "metadata": {},
     "output_type": "execute_result"
    }
   ],
   "source": [
    "ks_est_idx = hickock_curvature_of_pt(X, 2)\n",
    "ks_est_idx"
   ]
  },
  {
   "cell_type": "code",
   "execution_count": 5,
   "metadata": {},
   "outputs": [
    {
     "data": {
      "text/plain": [
       "<matplotlib.collections.PathCollection at 0x7ff8b37bc9d0>"
      ]
     },
     "execution_count": 5,
     "metadata": {},
     "output_type": "execute_result"
    },
    {
     "data": {
      "image/png": "[encoded data removed]",
      "text/plain": [
       "<Figure size 640x480 with 1 Axes>"
      ]
     },
     "metadata": {},
     "output_type": "display_data"
    }
   ],
   "source": [
    "import matplotlib.pyplot as plt\n",
    "plt.scatter(ks, ks_est)"
   ]
  },
  {
   "cell_type": "code",
   "execution_count": 6,
   "metadata": {},
   "outputs": [],
   "source": [
    "# load curvature battery\n",
    "import deepdish\n",
    "battery_file = \"/home/piriac/data/diffusion_curvature/Curvature_Colosseum_dikey.h5\"\n",
    "CC = deepdish.io.load(battery_file)"
   ]
  },
  {
   "cell_type": "code",
   "execution_count": 7,
   "metadata": {},
   "outputs": [
    {
     "data": {
      "application/vnd.jupyter.widget-view+json": {
       "model_id": "169449e39a1643138c33b7175dbd52f7",
       "version_major": 2,
       "version_minor": 0
      },
      "text/plain": [
       "intrinsic dimensions:   0%|          | 0/4 [00:00<?, ?it/s]"
      ]
     },
     "metadata": {},
     "output_type": "display_data"
    },
    {
     "data": {
      "application/vnd.jupyter.widget-view+json": {
       "model_id": "5523768799b646f2b6e5bcacb946beaf",
       "version_major": 2,
       "version_minor": 0
      },
      "text/plain": [
       "codimensions:   0%|          | 0/4 [00:00<?, ?it/s]"
      ]
     },
     "metadata": {},
     "output_type": "display_data"
    },
    {
     "data": {
      "application/vnd.jupyter.widget-view+json": {
       "model_id": "f378f48581c049eb9e5d8498041f1733",
       "version_major": 2,
       "version_minor": 0
      },
      "text/plain": [
       "Noise Levels:   0%|          | 0/6 [00:00<?, ?it/s]"
      ]
     },
     "metadata": {},
     "output_type": "display_data"
    },
    {
     "data": {
      "application/vnd.jupyter.widget-view+json": {
       "model_id": "75bbdcd1c1224235b6c807d2aa2c800c",
       "version_major": 2,
       "version_minor": 0
      },
      "text/plain": [
       "Samples:   0%|          | 0/50 [00:00<?, ?it/s]"
      ]
     },
     "metadata": {},
     "output_type": "display_data"
    },
    {
     "data": {
      "application/vnd.jupyter.widget-view+json": {
       "model_id": "e9125014f6df42a59955675b62cab000",
       "version_major": 2,
       "version_minor": 0
      },
      "text/plain": [
       "Samples:   0%|          | 0/50 [00:00<?, ?it/s]"
      ]
     },
     "metadata": {},
     "output_type": "display_data"
    },
    {
     "data": {
      "application/vnd.jupyter.widget-view+json": {
       "model_id": "ffebbd89837b42c89ce55d42519e669c",
       "version_major": 2,
       "version_minor": 0
      },
      "text/plain": [
       "Samples:   0%|          | 0/50 [00:00<?, ?it/s]"
      ]
     },
     "metadata": {},
     "output_type": "display_data"
    },
    {
     "data": {
      "application/vnd.jupyter.widget-view+json": {
       "model_id": "eabcef0fb7324e049a38e5738c4478a7",
       "version_major": 2,
       "version_minor": 0
      },
      "text/plain": [
       "Samples:   0%|          | 0/50 [00:00<?, ?it/s]"
      ]
     },
     "metadata": {},
     "output_type": "display_data"
    },
    {
     "data": {
      "application/vnd.jupyter.widget-view+json": {
       "model_id": "e9a9dfb48c1d496c822efbc3e3d8f94b",
       "version_major": 2,
       "version_minor": 0
      },
      "text/plain": [
       "Samples:   0%|          | 0/50 [00:00<?, ?it/s]"
      ]
     },
     "metadata": {},
     "output_type": "display_data"
    },
    {
     "data": {
      "application/vnd.jupyter.widget-view+json": {
       "model_id": "786163a762b747bdac355f2bfe141037",
       "version_major": 2,
       "version_minor": 0
      },
      "text/plain": [
       "Samples:   0%|          | 0/50 [00:00<?, ?it/s]"
      ]
     },
     "metadata": {},
     "output_type": "display_data"
    },
    {
     "data": {
      "application/vnd.jupyter.widget-view+json": {
       "model_id": "9200e5e7db224648a4b2b363db2f411e",
       "version_major": 2,
       "version_minor": 0
      },
      "text/plain": [
       "Noise Levels:   0%|          | 0/6 [00:00<?, ?it/s]"
      ]
     },
     "metadata": {},
     "output_type": "display_data"
    },
    {
     "data": {
      "application/vnd.jupyter.widget-view+json": {
       "model_id": "ea41db43471d4905bcac3858c071a123",
       "version_major": 2,
       "version_minor": 0
      },
      "text/plain": [
       "Samples:   0%|          | 0/50 [00:00<?, ?it/s]"
      ]
     },
     "metadata": {},
     "output_type": "display_data"
    },
    {
     "data": {
      "application/vnd.jupyter.widget-view+json": {
       "model_id": "9a6e7ae564f7486e87c4cbf338a7dc57",
       "version_major": 2,
       "version_minor": 0
      },
      "text/plain": [
       "Samples:   0%|          | 0/50 [00:00<?, ?it/s]"
      ]
     },
     "metadata": {},
     "output_type": "display_data"
    },
    {
     "data": {
      "application/vnd.jupyter.widget-view+json": {
       "model_id": "f837d96ac98944a0ba191aa91e7ee421",
       "version_major": 2,
       "version_minor": 0
      },
      "text/plain": [
       "Samples:   0%|          | 0/50 [00:00<?, ?it/s]"
      ]
     },
     "metadata": {},
     "output_type": "display_data"
    },
    {
     "data": {
      "application/vnd.jupyter.widget-view+json": {
       "model_id": "68ea6fb9acc14c469db840cbba411827",
       "version_major": 2,
       "version_minor": 0
      },
      "text/plain": [
       "Samples:   0%|          | 0/50 [00:00<?, ?it/s]"
      ]
     },
     "metadata": {},
     "output_type": "display_data"
    },
    {
     "data": {
      "application/vnd.jupyter.widget-view+json": {
       "model_id": "7a97d1d60755470f97a9be9d8bbc7694",
       "version_major": 2,
       "version_minor": 0
      },
      "text/plain": [
       "Samples:   0%|          | 0/50 [00:00<?, ?it/s]"
      ]
     },
     "metadata": {},
     "output_type": "display_data"
    },
    {
     "data": {
      "application/vnd.jupyter.widget-view+json": {
       "model_id": "393cb64753f045daa771f7ee1e7edb0f",
       "version_major": 2,
       "version_minor": 0
      },
      "text/plain": [
       "Samples:   0%|          | 0/50 [00:00<?, ?it/s]"
      ]
     },
     "metadata": {},
     "output_type": "display_data"
    },
    {
     "data": {
      "application/vnd.jupyter.widget-view+json": {
       "model_id": "c9d4b425c16247bc814c605e0bd9bb0d",
       "version_major": 2,
       "version_minor": 0
      },
      "text/plain": [
       "Noise Levels:   0%|          | 0/6 [00:00<?, ?it/s]"
      ]
     },
     "metadata": {},
     "output_type": "display_data"
    },
    {
     "data": {
      "application/vnd.jupyter.widget-view+json": {
       "model_id": "c4a41383ddbe439da8d7f7bf0d65ff52",
       "version_major": 2,
       "version_minor": 0
      },
      "text/plain": [
       "Samples:   0%|          | 0/50 [00:00<?, ?it/s]"
      ]
     },
     "metadata": {},
     "output_type": "display_data"
    },
    {
     "data": {
      "application/vnd.jupyter.widget-view+json": {
       "model_id": "7a86c13e8fb54f35a5fd82242b7ac4a8",
       "version_major": 2,
       "version_minor": 0
      },
      "text/plain": [
       "Samples:   0%|          | 0/50 [00:00<?, ?it/s]"
      ]
     },
     "metadata": {},
     "output_type": "display_data"
    },
    {
     "data": {
      "application/vnd.jupyter.widget-view+json": {
       "model_id": "cfa935961db04e6ea58e3cd33d5df601",
       "version_major": 2,
       "version_minor": 0
      },
      "text/plain": [
       "Samples:   0%|          | 0/50 [00:00<?, ?it/s]"
      ]
     },
     "metadata": {},
     "output_type": "display_data"
    },
    {
     "data": {
      "application/vnd.jupyter.widget-view+json": {
       "model_id": "52df37c888494c339947a519f34b3c95",
       "version_major": 2,
       "version_minor": 0
      },
      "text/plain": [
       "Samples:   0%|          | 0/50 [00:00<?, ?it/s]"
      ]
     },
     "metadata": {},
     "output_type": "display_data"
    },
    {
     "data": {
      "application/vnd.jupyter.widget-view+json": {
       "model_id": "fc57c3faf6584a21902a951f2722bffa",
       "version_major": 2,
       "version_minor": 0
      },
      "text/plain": [
       "Samples:   0%|          | 0/50 [00:00<?, ?it/s]"
      ]
     },
     "metadata": {},
     "output_type": "display_data"
    },
    {
     "data": {
      "application/vnd.jupyter.widget-view+json": {
       "model_id": "383d93bb5f7a45ce91a3f2c9364ab7fd",
       "version_major": 2,
       "version_minor": 0
      },
      "text/plain": [
       "Samples:   0%|          | 0/50 [00:00<?, ?it/s]"
      ]
     },
     "metadata": {},
     "output_type": "display_data"
    },
    {
     "data": {
      "application/vnd.jupyter.widget-view+json": {
       "model_id": "a39a96b4df4947e2b41dd573d440f2d2",
       "version_major": 2,
       "version_minor": 0
      },
      "text/plain": [
       "Noise Levels:   0%|          | 0/6 [00:00<?, ?it/s]"
      ]
     },
     "metadata": {},
     "output_type": "display_data"
    },
    {
     "data": {
      "application/vnd.jupyter.widget-view+json": {
       "model_id": "b3be4f77f1154316bed8d48436f7086a",
       "version_major": 2,
       "version_minor": 0
      },
      "text/plain": [
       "Samples:   0%|          | 0/50 [00:00<?, ?it/s]"
      ]
     },
     "metadata": {},
     "output_type": "display_data"
    },
    {
     "data": {
      "application/vnd.jupyter.widget-view+json": {
       "model_id": "49cbb5f0452146f7befca54df5389af3",
       "version_major": 2,
       "version_minor": 0
      },
      "text/plain": [
       "Samples:   0%|          | 0/50 [00:00<?, ?it/s]"
      ]
     },
     "metadata": {},
     "output_type": "display_data"
    },
    {
     "data": {
      "application/vnd.jupyter.widget-view+json": {
       "model_id": "3adb7d2da2b8406cba73fb4003ffa60a",
       "version_major": 2,
       "version_minor": 0
      },
      "text/plain": [
       "Samples:   0%|          | 0/50 [00:00<?, ?it/s]"
      ]
     },
     "metadata": {},
     "output_type": "display_data"
    },
    {
     "data": {
      "application/vnd.jupyter.widget-view+json": {
       "model_id": "4bc0239f25aa4f0dbeb8b995e2d50dcd",
       "version_major": 2,
       "version_minor": 0
      },
      "text/plain": [
       "Samples:   0%|          | 0/50 [00:00<?, ?it/s]"
      ]
     },
     "metadata": {},
     "output_type": "display_data"
    },
    {
     "data": {
      "application/vnd.jupyter.widget-view+json": {
       "model_id": "1712b065afae4c1ab932951c4d23ae82",
       "version_major": 2,
       "version_minor": 0
      },
      "text/plain": [
       "Samples:   0%|          | 0/50 [00:00<?, ?it/s]"
      ]
     },
     "metadata": {},
     "output_type": "display_data"
    },
    {
     "data": {
      "application/vnd.jupyter.widget-view+json": {
       "model_id": "101d31a815bb4b6d9b3baf801b1d2185",
       "version_major": 2,
       "version_minor": 0
      },
      "text/plain": [
       "Samples:   0%|          | 0/50 [00:00<?, ?it/s]"
      ]
     },
     "metadata": {},
     "output_type": "display_data"
    },
    {
     "data": {
      "application/vnd.jupyter.widget-view+json": {
       "model_id": "c876642bc9014df38081f3f697bf21fa",
       "version_major": 2,
       "version_minor": 0
      },
      "text/plain": [
       "codimensions:   0%|          | 0/4 [00:00<?, ?it/s]"
      ]
     },
     "metadata": {},
     "output_type": "display_data"
    },
    {
     "data": {
      "application/vnd.jupyter.widget-view+json": {
       "model_id": "ac15cb72dd8645f588cd1e62931f264e",
       "version_major": 2,
       "version_minor": 0
      },
      "text/plain": [
       "Noise Levels:   0%|          | 0/6 [00:00<?, ?it/s]"
      ]
     },
     "metadata": {},
     "output_type": "display_data"
    },
    {
     "data": {
      "application/vnd.jupyter.widget-view+json": {
       "model_id": "584b355a6fd64c24a2dba4d8280390cc",
       "version_major": 2,
       "version_minor": 0
      },
      "text/plain": [
       "Samples:   0%|          | 0/50 [00:00<?, ?it/s]"
      ]
     },
     "metadata": {},
     "output_type": "display_data"
    },
    {
     "data": {
      "application/vnd.jupyter.widget-view+json": {
       "model_id": "8c19e268160c48e79e9b68407dc840fa",
       "version_major": 2,
       "version_minor": 0
      },
      "text/plain": [
       "Samples:   0%|          | 0/50 [00:00<?, ?it/s]"
      ]
     },
     "metadata": {},
     "output_type": "display_data"
    },
    {
     "data": {
      "application/vnd.jupyter.widget-view+json": {
       "model_id": "92e9081a1fc041e0bc3b079b1461a505",
       "version_major": 2,
       "version_minor": 0
      },
      "text/plain": [
       "Samples:   0%|          | 0/50 [00:00<?, ?it/s]"
      ]
     },
     "metadata": {},
     "output_type": "display_data"
    },
    {
     "data": {
      "application/vnd.jupyter.widget-view+json": {
       "model_id": "02f1ad65196e46c085afef8e32d0affa",
       "version_major": 2,
       "version_minor": 0
      },
      "text/plain": [
       "Samples:   0%|          | 0/50 [00:00<?, ?it/s]"
      ]
     },
     "metadata": {},
     "output_type": "display_data"
    },
    {
     "data": {
      "application/vnd.jupyter.widget-view+json": {
       "model_id": "73c6121764734a9b8bf30579961858fe",
       "version_major": 2,
       "version_minor": 0
      },
      "text/plain": [
       "Samples:   0%|          | 0/50 [00:00<?, ?it/s]"
      ]
     },
     "metadata": {},
     "output_type": "display_data"
    },
    {
     "data": {
      "application/vnd.jupyter.widget-view+json": {
       "model_id": "d48fa90dac8944d9bd7df68fa66d457f",
       "version_major": 2,
       "version_minor": 0
      },
      "text/plain": [
       "Samples:   0%|          | 0/50 [00:00<?, ?it/s]"
      ]
     },
     "metadata": {},
     "output_type": "display_data"
    },
    {
     "data": {
      "application/vnd.jupyter.widget-view+json": {
       "model_id": "cbebe28d54d34ccfba54c81ab189602b",
       "version_major": 2,
       "version_minor": 0
      },
      "text/plain": [
       "Noise Levels:   0%|          | 0/6 [00:00<?, ?it/s]"
      ]
     },
     "metadata": {},
     "output_type": "display_data"
    },
    {
     "data": {
      "application/vnd.jupyter.widget-view+json": {
       "model_id": "dfd35ae01e0a42efa07d5f00b2ea6a08",
       "version_major": 2,
       "version_minor": 0
      },
      "text/plain": [
       "Samples:   0%|          | 0/50 [00:00<?, ?it/s]"
      ]
     },
     "metadata": {},
     "output_type": "display_data"
    },
    {
     "data": {
      "application/vnd.jupyter.widget-view+json": {
       "model_id": "8acf680fc2a8422bba6564d7348c240b",
       "version_major": 2,
       "version_minor": 0
      },
      "text/plain": [
       "Samples:   0%|          | 0/50 [00:00<?, ?it/s]"
      ]
     },
     "metadata": {},
     "output_type": "display_data"
    },
    {
     "data": {
      "application/vnd.jupyter.widget-view+json": {
       "model_id": "394c7692770a4df696ef009e47d7155b",
       "version_major": 2,
       "version_minor": 0
      },
      "text/plain": [
       "Samples:   0%|          | 0/50 [00:00<?, ?it/s]"
      ]
     },
     "metadata": {},
     "output_type": "display_data"
    },
    {
     "data": {
      "application/vnd.jupyter.widget-view+json": {
       "model_id": "4d3b680af377459690998667c1754094",
       "version_major": 2,
       "version_minor": 0
      },
      "text/plain": [
       "Samples:   0%|          | 0/50 [00:00<?, ?it/s]"
      ]
     },
     "metadata": {},
     "output_type": "display_data"
    },
    {
     "data": {
      "application/vnd.jupyter.widget-view+json": {
       "model_id": "09669b40f3db41bf92899d2fdcd0693e",
       "version_major": 2,
       "version_minor": 0
      },
      "text/plain": [
       "Samples:   0%|          | 0/50 [00:00<?, ?it/s]"
      ]
     },
     "metadata": {},
     "output_type": "display_data"
    },
    {
     "data": {
      "application/vnd.jupyter.widget-view+json": {
       "model_id": "1df8fb2d968e4eaaa776645c03225a2e",
       "version_major": 2,
       "version_minor": 0
      },
      "text/plain": [
       "Samples:   0%|          | 0/50 [00:00<?, ?it/s]"
      ]
     },
     "metadata": {},
     "output_type": "display_data"
    },
    {
     "data": {
      "application/vnd.jupyter.widget-view+json": {
       "model_id": "2eeead0ea4d44afe94b7c10c8b8f62ef",
       "version_major": 2,
       "version_minor": 0
      },
      "text/plain": [
       "Noise Levels:   0%|          | 0/6 [00:00<?, ?it/s]"
      ]
     },
     "metadata": {},
     "output_type": "display_data"
    },
    {
     "data": {
      "application/vnd.jupyter.widget-view+json": {
       "model_id": "9ebfda5dd8834123a0a2a610364e574d",
       "version_major": 2,
       "version_minor": 0
      },
      "text/plain": [
       "Samples:   0%|          | 0/50 [00:00<?, ?it/s]"
      ]
     },
     "metadata": {},
     "output_type": "display_data"
    },
    {
     "data": {
      "application/vnd.jupyter.widget-view+json": {
       "model_id": "2e4aa8ce28b84fa9b0dabe52721ef15e",
       "version_major": 2,
       "version_minor": 0
      },
      "text/plain": [
       "Samples:   0%|          | 0/50 [00:00<?, ?it/s]"
      ]
     },
     "metadata": {},
     "output_type": "display_data"
    },
    {
     "data": {
      "application/vnd.jupyter.widget-view+json": {
       "model_id": "2218faf1ba8f47498b032d1ddd521b33",
       "version_major": 2,
       "version_minor": 0
      },
      "text/plain": [
       "Samples:   0%|          | 0/50 [00:00<?, ?it/s]"
      ]
     },
     "metadata": {},
     "output_type": "display_data"
    },
    {
     "data": {
      "application/vnd.jupyter.widget-view+json": {
       "model_id": "acb134761a9f46f8a3f012e43d7acad0",
       "version_major": 2,
       "version_minor": 0
      },
      "text/plain": [
       "Samples:   0%|          | 0/50 [00:00<?, ?it/s]"
      ]
     },
     "metadata": {},
     "output_type": "display_data"
    },
    {
     "data": {
      "application/vnd.jupyter.widget-view+json": {
       "model_id": "f451b146ac9e4cbebc968baf46e16fce",
       "version_major": 2,
       "version_minor": 0
      },
      "text/plain": [
       "Samples:   0%|          | 0/50 [00:00<?, ?it/s]"
      ]
     },
     "metadata": {},
     "output_type": "display_data"
    },
    {
     "data": {
      "application/vnd.jupyter.widget-view+json": {
       "model_id": "6a04688064ee4af5b1a589f666b110bc",
       "version_major": 2,
       "version_minor": 0
      },
      "text/plain": [
       "Samples:   0%|          | 0/50 [00:00<?, ?it/s]"
      ]
     },
     "metadata": {},
     "output_type": "display_data"
    },
    {
     "data": {
      "application/vnd.jupyter.widget-view+json": {
       "model_id": "123f6e8442df4698821a090817e9d450",
       "version_major": 2,
       "version_minor": 0
      },
      "text/plain": [
       "Noise Levels:   0%|          | 0/6 [00:00<?, ?it/s]"
      ]
     },
     "metadata": {},
     "output_type": "display_data"
    },
    {
     "data": {
      "application/vnd.jupyter.widget-view+json": {
       "model_id": "87a623d5a50547ab96d487e141d978e3",
       "version_major": 2,
       "version_minor": 0
      },
      "text/plain": [
       "Samples:   0%|          | 0/50 [00:00<?, ?it/s]"
      ]
     },
     "metadata": {},
     "output_type": "display_data"
    },
    {
     "data": {
      "application/vnd.jupyter.widget-view+json": {
       "model_id": "0e29ef29e36047b28daba2f49700fb61",
       "version_major": 2,
       "version_minor": 0
      },
      "text/plain": [
       "Samples:   0%|          | 0/50 [00:00<?, ?it/s]"
      ]
     },
     "metadata": {},
     "output_type": "display_data"
    },
    {
     "data": {
      "application/vnd.jupyter.widget-view+json": {
       "model_id": "2ac547a50e6942caadd034f67e00785a",
       "version_major": 2,
       "version_minor": 0
      },
      "text/plain": [
       "Samples:   0%|          | 0/50 [00:00<?, ?it/s]"
      ]
     },
     "metadata": {},
     "output_type": "display_data"
    },
    {
     "data": {
      "application/vnd.jupyter.widget-view+json": {
       "model_id": "73134d2147ba4c4ebfc8dba10ef8ea23",
       "version_major": 2,
       "version_minor": 0
      },
      "text/plain": [
       "Samples:   0%|          | 0/50 [00:00<?, ?it/s]"
      ]
     },
     "metadata": {},
     "output_type": "display_data"
    },
    {
     "data": {
      "application/vnd.jupyter.widget-view+json": {
       "model_id": "de7725536f97427c96285125b3779a39",
       "version_major": 2,
       "version_minor": 0
      },
      "text/plain": [
       "Samples:   0%|          | 0/50 [00:00<?, ?it/s]"
      ]
     },
     "metadata": {},
     "output_type": "display_data"
    },
    {
     "data": {
      "application/vnd.jupyter.widget-view+json": {
       "model_id": "de4a7a4790834a38b4c95581151be441",
       "version_major": 2,
       "version_minor": 0
      },
      "text/plain": [
       "Samples:   0%|          | 0/50 [00:00<?, ?it/s]"
      ]
     },
     "metadata": {},
     "output_type": "display_data"
    },
    {
     "data": {
      "application/vnd.jupyter.widget-view+json": {
       "model_id": "2095ad3010104f409b757320570f6a39",
       "version_major": 2,
       "version_minor": 0
      },
      "text/plain": [
       "codimensions:   0%|          | 0/4 [00:00<?, ?it/s]"
      ]
     },
     "metadata": {},
     "output_type": "display_data"
    },
    {
     "data": {
      "application/vnd.jupyter.widget-view+json": {
       "model_id": "13db5b92b4a34e55be06ef38af3144ef",
       "version_major": 2,
       "version_minor": 0
      },
      "text/plain": [
       "Noise Levels:   0%|          | 0/6 [00:00<?, ?it/s]"
      ]
     },
     "metadata": {},
     "output_type": "display_data"
    },
    {
     "data": {
      "application/vnd.jupyter.widget-view+json": {
       "model_id": "0b0f5b40315246d98cbdfa7f4ed0dc0e",
       "version_major": 2,
       "version_minor": 0
      },
      "text/plain": [
       "Samples:   0%|          | 0/50 [00:00<?, ?it/s]"
      ]
     },
     "metadata": {},
     "output_type": "display_data"
    },
    {
     "data": {
      "application/vnd.jupyter.widget-view+json": {
       "model_id": "071e099ba32840d9ac00775bed2142be",
       "version_major": 2,
       "version_minor": 0
      },
      "text/plain": [
       "Samples:   0%|          | 0/50 [00:00<?, ?it/s]"
      ]
     },
     "metadata": {},
     "output_type": "display_data"
    },
    {
     "data": {
      "application/vnd.jupyter.widget-view+json": {
       "model_id": "dacea326ec514f5cbe87f6f7cc6c0108",
       "version_major": 2,
       "version_minor": 0
      },
      "text/plain": [
       "Samples:   0%|          | 0/50 [00:00<?, ?it/s]"
      ]
     },
     "metadata": {},
     "output_type": "display_data"
    },
    {
     "data": {
      "application/vnd.jupyter.widget-view+json": {
       "model_id": "191aed395cc948e1866613960796a749",
       "version_major": 2,
       "version_minor": 0
      },
      "text/plain": [
       "Samples:   0%|          | 0/50 [00:00<?, ?it/s]"
      ]
     },
     "metadata": {},
     "output_type": "display_data"
    },
    {
     "data": {
      "application/vnd.jupyter.widget-view+json": {
       "model_id": "541abfbb30b04aca9a2d474197a06d5b",
       "version_major": 2,
       "version_minor": 0
      },
      "text/plain": [
       "Samples:   0%|          | 0/50 [00:00<?, ?it/s]"
      ]
     },
     "metadata": {},
     "output_type": "display_data"
    },
    {
     "data": {
      "application/vnd.jupyter.widget-view+json": {
       "model_id": "743d4ce3ac6f4aafa861bfdca5f4375a",
       "version_major": 2,
       "version_minor": 0
      },
      "text/plain": [
       "Samples:   0%|          | 0/50 [00:00<?, ?it/s]"
      ]
     },
     "metadata": {},
     "output_type": "display_data"
    },
    {
     "data": {
      "application/vnd.jupyter.widget-view+json": {
       "model_id": "90842c45e4814854a1210cb61826d153",
       "version_major": 2,
       "version_minor": 0
      },
      "text/plain": [
       "Noise Levels:   0%|          | 0/6 [00:00<?, ?it/s]"
      ]
     },
     "metadata": {},
     "output_type": "display_data"
    },
    {
     "data": {
      "application/vnd.jupyter.widget-view+json": {
       "model_id": "a83af32edc2047b5ae275a9563dcf4c1",
       "version_major": 2,
       "version_minor": 0
      },
      "text/plain": [
       "Samples:   0%|          | 0/50 [00:00<?, ?it/s]"
      ]
     },
     "metadata": {},
     "output_type": "display_data"
    },
    {
     "data": {
      "application/vnd.jupyter.widget-view+json": {
       "model_id": "07452391f90747eea96610afec277d47",
       "version_major": 2,
       "version_minor": 0
      },
      "text/plain": [
       "Samples:   0%|          | 0/50 [00:00<?, ?it/s]"
      ]
     },
     "metadata": {},
     "output_type": "display_data"
    },
    {
     "data": {
      "application/vnd.jupyter.widget-view+json": {
       "model_id": "fe3a8a1981bd4e188c5decb311b44876",
       "version_major": 2,
       "version_minor": 0
      },
      "text/plain": [
       "Samples:   0%|          | 0/50 [00:00<?, ?it/s]"
      ]
     },
     "metadata": {},
     "output_type": "display_data"
    },
    {
     "data": {
      "application/vnd.jupyter.widget-view+json": {
       "model_id": "d27076d83ccf496cbb2dbd6e36d64899",
       "version_major": 2,
       "version_minor": 0
      },
      "text/plain": [
       "Samples:   0%|          | 0/50 [00:00<?, ?it/s]"
      ]
     },
     "metadata": {},
     "output_type": "display_data"
    },
    {
     "data": {
      "application/vnd.jupyter.widget-view+json": {
       "model_id": "f1ef562190c74d58bf718e20c69e2487",
       "version_major": 2,
       "version_minor": 0
      },
      "text/plain": [
       "Samples:   0%|          | 0/50 [00:00<?, ?it/s]"
      ]
     },
     "metadata": {},
     "output_type": "display_data"
    },
    {
     "data": {
      "application/vnd.jupyter.widget-view+json": {
       "model_id": "53fa96fdd7be4343aac1eb5621ea8e02",
       "version_major": 2,
       "version_minor": 0
      },
      "text/plain": [
       "Samples:   0%|          | 0/50 [00:00<?, ?it/s]"
      ]
     },
     "metadata": {},
     "output_type": "display_data"
    },
    {
     "data": {
      "application/vnd.jupyter.widget-view+json": {
       "model_id": "5ca8fb195bc34f958ca4c4dce5e559ca",
       "version_major": 2,
       "version_minor": 0
      },
      "text/plain": [
       "Noise Levels:   0%|          | 0/6 [00:00<?, ?it/s]"
      ]
     },
     "metadata": {},
     "output_type": "display_data"
    },
    {
     "data": {
      "application/vnd.jupyter.widget-view+json": {
       "model_id": "ff880e9eeef242c19969e31dacb7559d",
       "version_major": 2,
       "version_minor": 0
      },
      "text/plain": [
       "Samples:   0%|          | 0/50 [00:00<?, ?it/s]"
      ]
     },
     "metadata": {},
     "output_type": "display_data"
    },
    {
     "data": {
      "application/vnd.jupyter.widget-view+json": {
       "model_id": "85e57031d50145479f76dbd056fba97c",
       "version_major": 2,
       "version_minor": 0
      },
      "text/plain": [
       "Samples:   0%|          | 0/50 [00:00<?, ?it/s]"
      ]
     },
     "metadata": {},
     "output_type": "display_data"
    },
    {
     "data": {
      "application/vnd.jupyter.widget-view+json": {
       "model_id": "e478e034147d4fd086e1ebff008cdece",
       "version_major": 2,
       "version_minor": 0
      },
      "text/plain": [
       "Samples:   0%|          | 0/50 [00:00<?, ?it/s]"
      ]
     },
     "metadata": {},
     "output_type": "display_data"
    },
    {
     "data": {
      "application/vnd.jupyter.widget-view+json": {
       "model_id": "94ee0a1f980e4a8dae814c410e438c50",
       "version_major": 2,
       "version_minor": 0
      },
      "text/plain": [
       "Samples:   0%|          | 0/50 [00:00<?, ?it/s]"
      ]
     },
     "metadata": {},
     "output_type": "display_data"
    },
    {
     "data": {
      "application/vnd.jupyter.widget-view+json": {
       "model_id": "975670780a3b4b57befed01df76f6796",
       "version_major": 2,
       "version_minor": 0
      },
      "text/plain": [
       "Samples:   0%|          | 0/50 [00:00<?, ?it/s]"
      ]
     },
     "metadata": {},
     "output_type": "display_data"
    },
    {
     "data": {
      "application/vnd.jupyter.widget-view+json": {
       "model_id": "d68864b7525b4335a089eb83d98bb509",
       "version_major": 2,
       "version_minor": 0
      },
      "text/plain": [
       "Samples:   0%|          | 0/50 [00:00<?, ?it/s]"
      ]
     },
     "metadata": {},
     "output_type": "display_data"
    },
    {
     "data": {
      "application/vnd.jupyter.widget-view+json": {
       "model_id": "e386e96d6fe04abb8c39fb75cd27e440",
       "version_major": 2,
       "version_minor": 0
      },
      "text/plain": [
       "Noise Levels:   0%|          | 0/6 [00:00<?, ?it/s]"
      ]
     },
     "metadata": {},
     "output_type": "display_data"
    },
    {
     "data": {
      "application/vnd.jupyter.widget-view+json": {
       "model_id": "db8512bf235a4ef3920ab3c84fc6443a",
       "version_major": 2,
       "version_minor": 0
      },
      "text/plain": [
       "Samples:   0%|          | 0/50 [00:00<?, ?it/s]"
      ]
     },
     "metadata": {},
     "output_type": "display_data"
    },
    {
     "data": {
      "application/vnd.jupyter.widget-view+json": {
       "model_id": "f938606a6b3e48f2a1dbb17bebe13953",
       "version_major": 2,
       "version_minor": 0
      },
      "text/plain": [
       "Samples:   0%|          | 0/50 [00:00<?, ?it/s]"
      ]
     },
     "metadata": {},
     "output_type": "display_data"
    },
    {
     "data": {
      "application/vnd.jupyter.widget-view+json": {
       "model_id": "5883eba80c50475c8aaa764daae14cfa",
       "version_major": 2,
       "version_minor": 0
      },
      "text/plain": [
       "Samples:   0%|          | 0/50 [00:00<?, ?it/s]"
      ]
     },
     "metadata": {},
     "output_type": "display_data"
    },
    {
     "data": {
      "application/vnd.jupyter.widget-view+json": {
       "model_id": "b74a185f494d4787968ccacdcf850244",
       "version_major": 2,
       "version_minor": 0
      },
      "text/plain": [
       "Samples:   0%|          | 0/50 [00:00<?, ?it/s]"
      ]
     },
     "metadata": {},
     "output_type": "display_data"
    },
    {
     "data": {
      "application/vnd.jupyter.widget-view+json": {
       "model_id": "5787b6bf852a49c9a78429e4fc3418c3",
       "version_major": 2,
       "version_minor": 0
      },
      "text/plain": [
       "Samples:   0%|          | 0/50 [00:00<?, ?it/s]"
      ]
     },
     "metadata": {},
     "output_type": "display_data"
    },
    {
     "data": {
      "application/vnd.jupyter.widget-view+json": {
       "model_id": "7a45176668c9482bb539b804cd2a59c4",
       "version_major": 2,
       "version_minor": 0
      },
      "text/plain": [
       "Samples:   0%|          | 0/50 [00:00<?, ?it/s]"
      ]
     },
     "metadata": {},
     "output_type": "display_data"
    },
    {
     "data": {
      "application/vnd.jupyter.widget-view+json": {
       "model_id": "21f9b57a6e9b4f5f9d17e5c5abb6f55c",
       "version_major": 2,
       "version_minor": 0
      },
      "text/plain": [
       "codimensions:   0%|          | 0/4 [00:00<?, ?it/s]"
      ]
     },
     "metadata": {},
     "output_type": "display_data"
    },
    {
     "data": {
      "application/vnd.jupyter.widget-view+json": {
       "model_id": "3cea5ce3877a4df281e87ddffa962005",
       "version_major": 2,
       "version_minor": 0
      },
      "text/plain": [
       "Noise Levels:   0%|          | 0/6 [00:00<?, ?it/s]"
      ]
     },
     "metadata": {},
     "output_type": "display_data"
    },
    {
     "data": {
      "application/vnd.jupyter.widget-view+json": {
       "model_id": "6630f010ee604fefac0d12983cfba2b2",
       "version_major": 2,
       "version_minor": 0
      },
      "text/plain": [
       "Samples:   0%|          | 0/50 [00:00<?, ?it/s]"
      ]
     },
     "metadata": {},
     "output_type": "display_data"
    },
    {
     "data": {
      "application/vnd.jupyter.widget-view+json": {
       "model_id": "12b452e0cf3c46fdaffa8e2e2e5b9d23",
       "version_major": 2,
       "version_minor": 0
      },
      "text/plain": [
       "Samples:   0%|          | 0/50 [00:00<?, ?it/s]"
      ]
     },
     "metadata": {},
     "output_type": "display_data"
    },
    {
     "data": {
      "application/vnd.jupyter.widget-view+json": {
       "model_id": "a1becc85cbec49308901709d0bd1e1d0",
       "version_major": 2,
       "version_minor": 0
      },
      "text/plain": [
       "Samples:   0%|          | 0/50 [00:00<?, ?it/s]"
      ]
     },
     "metadata": {},
     "output_type": "display_data"
    },
    {
     "data": {
      "application/vnd.jupyter.widget-view+json": {
       "model_id": "4df53bf78d714e8e9647d27685984cc7",
       "version_major": 2,
       "version_minor": 0
      },
      "text/plain": [
       "Samples:   0%|          | 0/50 [00:00<?, ?it/s]"
      ]
     },
     "metadata": {},
     "output_type": "display_data"
    },
    {
     "data": {
      "application/vnd.jupyter.widget-view+json": {
       "model_id": "0a6840fd21c14a3299398c2edbb366e7",
       "version_major": 2,
       "version_minor": 0
      },
      "text/plain": [
       "Samples:   0%|          | 0/50 [00:00<?, ?it/s]"
      ]
     },
     "metadata": {},
     "output_type": "display_data"
    },
    {
     "data": {
      "application/vnd.jupyter.widget-view+json": {
       "model_id": "f4de4b73b06144c5a1f8776754e287a7",
       "version_major": 2,
       "version_minor": 0
      },
      "text/plain": [
       "Samples:   0%|          | 0/50 [00:00<?, ?it/s]"
      ]
     },
     "metadata": {},
     "output_type": "display_data"
    },
    {
     "data": {
      "application/vnd.jupyter.widget-view+json": {
       "model_id": "1184a7cc98594d09a92dd974068f0711",
       "version_major": 2,
       "version_minor": 0
      },
      "text/plain": [
       "Noise Levels:   0%|          | 0/6 [00:00<?, ?it/s]"
      ]
     },
     "metadata": {},
     "output_type": "display_data"
    },
    {
     "data": {
      "application/vnd.jupyter.widget-view+json": {
       "model_id": "ab880aaed9fe44c3873a2db5e87d05c6",
       "version_major": 2,
       "version_minor": 0
      },
      "text/plain": [
       "Samples:   0%|          | 0/50 [00:00<?, ?it/s]"
      ]
     },
     "metadata": {},
     "output_type": "display_data"
    },
    {
     "data": {
      "application/vnd.jupyter.widget-view+json": {
       "model_id": "1ae096ff4ac242c29b573e3b9ae8f137",
       "version_major": 2,
       "version_minor": 0
      },
      "text/plain": [
       "Samples:   0%|          | 0/50 [00:00<?, ?it/s]"
      ]
     },
     "metadata": {},
     "output_type": "display_data"
    },
    {
     "data": {
      "application/vnd.jupyter.widget-view+json": {
       "model_id": "c6d8e27d56f64d33bb6aa5e94f4f2928",
       "version_major": 2,
       "version_minor": 0
      },
      "text/plain": [
       "Samples:   0%|          | 0/50 [00:00<?, ?it/s]"
      ]
     },
     "metadata": {},
     "output_type": "display_data"
    },
    {
     "data": {
      "application/vnd.jupyter.widget-view+json": {
       "model_id": "6f9b9733be924fa9ba1c9ecd16cb52bd",
       "version_major": 2,
       "version_minor": 0
      },
      "text/plain": [
       "Samples:   0%|          | 0/50 [00:00<?, ?it/s]"
      ]
     },
     "metadata": {},
     "output_type": "display_data"
    },
    {
     "data": {
      "application/vnd.jupyter.widget-view+json": {
       "model_id": "7a674427836b44518c561bdca19287a9",
       "version_major": 2,
       "version_minor": 0
      },
      "text/plain": [
       "Samples:   0%|          | 0/50 [00:00<?, ?it/s]"
      ]
     },
     "metadata": {},
     "output_type": "display_data"
    },
    {
     "data": {
      "application/vnd.jupyter.widget-view+json": {
       "model_id": "6847433333924908bce4663e2d713b3a",
       "version_major": 2,
       "version_minor": 0
      },
      "text/plain": [
       "Samples:   0%|          | 0/50 [00:00<?, ?it/s]"
      ]
     },
     "metadata": {},
     "output_type": "display_data"
    },
    {
     "data": {
      "application/vnd.jupyter.widget-view+json": {
       "model_id": "38a46fd53b7049f0a78fea15ab509cf6",
       "version_major": 2,
       "version_minor": 0
      },
      "text/plain": [
       "Noise Levels:   0%|          | 0/6 [00:00<?, ?it/s]"
      ]
     },
     "metadata": {},
     "output_type": "display_data"
    },
    {
     "data": {
      "application/vnd.jupyter.widget-view+json": {
       "model_id": "cf3df045f80147679134e479c2d0eed6",
       "version_major": 2,
       "version_minor": 0
      },
      "text/plain": [
       "Samples:   0%|          | 0/50 [00:00<?, ?it/s]"
      ]
     },
     "metadata": {},
     "output_type": "display_data"
    },
    {
     "data": {
      "application/vnd.jupyter.widget-view+json": {
       "model_id": "d4846e07df7a434392ea24e27970a6db",
       "version_major": 2,
       "version_minor": 0
      },
      "text/plain": [
       "Samples:   0%|          | 0/50 [00:00<?, ?it/s]"
      ]
     },
     "metadata": {},
     "output_type": "display_data"
    },
    {
     "data": {
      "application/vnd.jupyter.widget-view+json": {
       "model_id": "113179e8ec654e3187ed69160fe8e4e5",
       "version_major": 2,
       "version_minor": 0
      },
      "text/plain": [
       "Samples:   0%|          | 0/50 [00:00<?, ?it/s]"
      ]
     },
     "metadata": {},
     "output_type": "display_data"
    },
    {
     "data": {
      "application/vnd.jupyter.widget-view+json": {
       "model_id": "5de6fb323805490f95c91485894480c3",
       "version_major": 2,
       "version_minor": 0
      },
      "text/plain": [
       "Samples:   0%|          | 0/50 [00:00<?, ?it/s]"
      ]
     },
     "metadata": {},
     "output_type": "display_data"
    },
    {
     "data": {
      "application/vnd.jupyter.widget-view+json": {
       "model_id": "f985687b031f41a8af16cd05a122a68e",
       "version_major": 2,
       "version_minor": 0
      },
      "text/plain": [
       "Samples:   0%|          | 0/50 [00:00<?, ?it/s]"
      ]
     },
     "metadata": {},
     "output_type": "display_data"
    },
    {
     "data": {
      "application/vnd.jupyter.widget-view+json": {
       "model_id": "8f7b46166118416fa136e7929656167f",
       "version_major": 2,
       "version_minor": 0
      },
      "text/plain": [
       "Samples:   0%|          | 0/50 [00:00<?, ?it/s]"
      ]
     },
     "metadata": {},
     "output_type": "display_data"
    },
    {
     "data": {
      "application/vnd.jupyter.widget-view+json": {
       "model_id": "2a08d31205c54687b5b9d236f806978f",
       "version_major": 2,
       "version_minor": 0
      },
      "text/plain": [
       "Noise Levels:   0%|          | 0/6 [00:00<?, ?it/s]"
      ]
     },
     "metadata": {},
     "output_type": "display_data"
    },
    {
     "data": {
      "application/vnd.jupyter.widget-view+json": {
       "model_id": "30690d4b507f4a92826ebc708c8d8cc9",
       "version_major": 2,
       "version_minor": 0
      },
      "text/plain": [
       "Samples:   0%|          | 0/50 [00:00<?, ?it/s]"
      ]
     },
     "metadata": {},
     "output_type": "display_data"
    },
    {
     "data": {
      "application/vnd.jupyter.widget-view+json": {
       "model_id": "e9b989ba02df4ea4a525e472082eebba",
       "version_major": 2,
       "version_minor": 0
      },
      "text/plain": [
       "Samples:   0%|          | 0/50 [00:00<?, ?it/s]"
      ]
     },
     "metadata": {},
     "output_type": "display_data"
    },
    {
     "data": {
      "application/vnd.jupyter.widget-view+json": {
       "model_id": "498579e50c8c4496909fbb64ecebc9fd",
       "version_major": 2,
       "version_minor": 0
      },
      "text/plain": [
       "Samples:   0%|          | 0/50 [00:00<?, ?it/s]"
      ]
     },
     "metadata": {},
     "output_type": "display_data"
    },
    {
     "data": {
      "application/vnd.jupyter.widget-view+json": {
       "model_id": "65f65dbc4b03441bb8d1503be30435ab",
       "version_major": 2,
       "version_minor": 0
      },
      "text/plain": [
       "Samples:   0%|          | 0/50 [00:00<?, ?it/s]"
      ]
     },
     "metadata": {},
     "output_type": "display_data"
    },
    {
     "data": {
      "application/vnd.jupyter.widget-view+json": {
       "model_id": "d470b7af343943ce98eb8fa26038e422",
       "version_major": 2,
       "version_minor": 0
      },
      "text/plain": [
       "Samples:   0%|          | 0/50 [00:00<?, ?it/s]"
      ]
     },
     "metadata": {},
     "output_type": "display_data"
    },
    {
     "data": {
      "application/vnd.jupyter.widget-view+json": {
       "model_id": "5c46a0f4a42e47d794e766670cd79091",
       "version_major": 2,
       "version_minor": 0
      },
      "text/plain": [
       "Samples:   0%|          | 0/50 [00:00<?, ?it/s]"
      ]
     },
     "metadata": {},
     "output_type": "display_data"
    }
   ],
   "source": [
    "computed_hickok_curvatures = compute_curvature_on_battery(\n",
    "    hickock_curvature_of_pt,\n",
    "    CC\n",
    ")"
   ]
  },
  {
   "cell_type": "code",
   "execution_count": 8,
   "metadata": {},
   "outputs": [
    {
     "name": "stderr",
     "output_type": "stream",
     "text": [
      "[autoreload of jaxlib.mlir.ir failed: Traceback (most recent call last):\n",
      "  File \"/home/piriac/mambaforge/envs/diffusion_curvature/lib/python3.11/site-packages/IPython/extensions/autoreload.py\", line 276, in check\n",
      "    superreload(m, reload, self.old_objects)\n",
      "  File \"/home/piriac/mambaforge/envs/diffusion_curvature/lib/python3.11/site-packages/IPython/extensions/autoreload.py\", line 475, in superreload\n",
      "    module = reload(module)\n",
      "             ^^^^^^^^^^^^^^\n",
      "  File \"/home/piriac/mambaforge/envs/diffusion_curvature/lib/python3.11/importlib/__init__.py\", line 169, in reload\n",
      "    _bootstrap._exec(spec, module)\n",
      "  File \"<frozen importlib._bootstrap>\", line 621, in _exec\n",
      "  File \"<frozen importlib._bootstrap_external>\", line 940, in exec_module\n",
      "  File \"<frozen importlib._bootstrap>\", line 241, in _call_with_frames_removed\n",
      "  File \"/home/piriac/mambaforge/envs/diffusion_curvature/lib/python3.11/site-packages/jaxlib/mlir/ir.py\", line 19, in <module>\n",
      "    @register_attribute_builder(\"BoolAttr\")\n",
      "     ^^^^^^^^^^^^^^^^^^^^^^^^^^^^^^^^^^^^^^\n",
      "  File \"/home/piriac/mambaforge/envs/diffusion_curvature/lib/python3.11/site-packages/jaxlib/mlir/ir.py\", line 13, in decorator_builder\n",
      "    AttrBuilder.insert(kind, func)\n",
      "RuntimeError: Attribute builder for 'BoolAttr' is already registered\n",
      "]\n",
      "[autoreload of jaxlib.mlir.dialects._stablehlo_ops_gen failed: Traceback (most recent call last):\n",
      "  File \"/home/piriac/mambaforge/envs/diffusion_curvature/lib/python3.11/site-packages/IPython/extensions/autoreload.py\", line 276, in check\n",
      "    superreload(m, reload, self.old_objects)\n",
      "  File \"/home/piriac/mambaforge/envs/diffusion_curvature/lib/python3.11/site-packages/IPython/extensions/autoreload.py\", line 475, in superreload\n",
      "    module = reload(module)\n",
      "             ^^^^^^^^^^^^^^\n",
      "  File \"/home/piriac/mambaforge/envs/diffusion_curvature/lib/python3.11/importlib/__init__.py\", line 169, in reload\n",
      "    _bootstrap._exec(spec, module)\n",
      "  File \"<frozen importlib._bootstrap>\", line 621, in _exec\n",
      "  File \"<frozen importlib._bootstrap_external>\", line 940, in exec_module\n",
      "  File \"<frozen importlib._bootstrap>\", line 241, in _call_with_frames_removed\n",
      "  File \"/home/piriac/mambaforge/envs/diffusion_curvature/lib/python3.11/site-packages/jaxlib/mlir/dialects/_stablehlo_ops_gen.py\", line 16, in <module>\n",
      "    @_ods_cext.register_dialect\n",
      "     ^^^^^^^^^^^^^^^^^^^^^^^^^^\n",
      "RuntimeError: Dialect namespace 'stablehlo' is already registered.\n",
      "]\n",
      "[autoreload of jaxlib.mlir.dialects._arith_ops_gen failed: Traceback (most recent call last):\n",
      "  File \"/home/piriac/mambaforge/envs/diffusion_curvature/lib/python3.11/site-packages/IPython/extensions/autoreload.py\", line 276, in check\n",
      "    superreload(m, reload, self.old_objects)\n",
      "  File \"/home/piriac/mambaforge/envs/diffusion_curvature/lib/python3.11/site-packages/IPython/extensions/autoreload.py\", line 475, in superreload\n",
      "    module = reload(module)\n",
      "             ^^^^^^^^^^^^^^\n",
      "  File \"/home/piriac/mambaforge/envs/diffusion_curvature/lib/python3.11/importlib/__init__.py\", line 169, in reload\n",
      "    _bootstrap._exec(spec, module)\n",
      "  File \"<frozen importlib._bootstrap>\", line 621, in _exec\n",
      "  File \"<frozen importlib._bootstrap_external>\", line 940, in exec_module\n",
      "  File \"<frozen importlib._bootstrap>\", line 241, in _call_with_frames_removed\n",
      "  File \"/home/piriac/mambaforge/envs/diffusion_curvature/lib/python3.11/site-packages/jaxlib/mlir/dialects/_arith_ops_gen.py\", line 16, in <module>\n",
      "    @_ods_cext.register_dialect\n",
      "     ^^^^^^^^^^^^^^^^^^^^^^^^^^\n",
      "RuntimeError: Dialect namespace 'arith' is already registered.\n",
      "]\n",
      "[autoreload of jaxlib.mlir.dialects._func_ops_gen failed: Traceback (most recent call last):\n",
      "  File \"/home/piriac/mambaforge/envs/diffusion_curvature/lib/python3.11/site-packages/IPython/extensions/autoreload.py\", line 276, in check\n",
      "    superreload(m, reload, self.old_objects)\n",
      "  File \"/home/piriac/mambaforge/envs/diffusion_curvature/lib/python3.11/site-packages/IPython/extensions/autoreload.py\", line 475, in superreload\n",
      "    module = reload(module)\n",
      "             ^^^^^^^^^^^^^^\n",
      "  File \"/home/piriac/mambaforge/envs/diffusion_curvature/lib/python3.11/importlib/__init__.py\", line 169, in reload\n",
      "    _bootstrap._exec(spec, module)\n",
      "  File \"<frozen importlib._bootstrap>\", line 621, in _exec\n",
      "  File \"<frozen importlib._bootstrap_external>\", line 940, in exec_module\n",
      "  File \"<frozen importlib._bootstrap>\", line 241, in _call_with_frames_removed\n",
      "  File \"/home/piriac/mambaforge/envs/diffusion_curvature/lib/python3.11/site-packages/jaxlib/mlir/dialects/_func_ops_gen.py\", line 16, in <module>\n",
      "    @_ods_cext.register_dialect\n",
      "     ^^^^^^^^^^^^^^^^^^^^^^^^^^\n",
      "RuntimeError: Dialect namespace 'func' is already registered.\n",
      "]\n",
      "[autoreload of jaxlib.mlir.dialects._math_ops_gen failed: Traceback (most recent call last):\n",
      "  File \"/home/piriac/mambaforge/envs/diffusion_curvature/lib/python3.11/site-packages/IPython/extensions/autoreload.py\", line 276, in check\n",
      "    superreload(m, reload, self.old_objects)\n",
      "  File \"/home/piriac/mambaforge/envs/diffusion_curvature/lib/python3.11/site-packages/IPython/extensions/autoreload.py\", line 475, in superreload\n",
      "    module = reload(module)\n",
      "             ^^^^^^^^^^^^^^\n",
      "  File \"/home/piriac/mambaforge/envs/diffusion_curvature/lib/python3.11/importlib/__init__.py\", line 169, in reload\n",
      "    _bootstrap._exec(spec, module)\n",
      "  File \"<frozen importlib._bootstrap>\", line 621, in _exec\n",
      "  File \"<frozen importlib._bootstrap_external>\", line 940, in exec_module\n",
      "  File \"<frozen importlib._bootstrap>\", line 241, in _call_with_frames_removed\n",
      "  File \"/home/piriac/mambaforge/envs/diffusion_curvature/lib/python3.11/site-packages/jaxlib/mlir/dialects/_math_ops_gen.py\", line 16, in <module>\n",
      "    @_ods_cext.register_dialect\n",
      "     ^^^^^^^^^^^^^^^^^^^^^^^^^^\n",
      "RuntimeError: Dialect namespace 'math' is already registered.\n",
      "]\n",
      "[autoreload of jaxlib.mlir.dialects._scf_ops_gen failed: Traceback (most recent call last):\n",
      "  File \"/home/piriac/mambaforge/envs/diffusion_curvature/lib/python3.11/site-packages/IPython/extensions/autoreload.py\", line 276, in check\n",
      "    superreload(m, reload, self.old_objects)\n",
      "  File \"/home/piriac/mambaforge/envs/diffusion_curvature/lib/python3.11/site-packages/IPython/extensions/autoreload.py\", line 475, in superreload\n",
      "    module = reload(module)\n",
      "             ^^^^^^^^^^^^^^\n",
      "  File \"/home/piriac/mambaforge/envs/diffusion_curvature/lib/python3.11/importlib/__init__.py\", line 169, in reload\n",
      "    _bootstrap._exec(spec, module)\n",
      "  File \"<frozen importlib._bootstrap>\", line 621, in _exec\n",
      "  File \"<frozen importlib._bootstrap_external>\", line 940, in exec_module\n",
      "  File \"<frozen importlib._bootstrap>\", line 241, in _call_with_frames_removed\n",
      "  File \"/home/piriac/mambaforge/envs/diffusion_curvature/lib/python3.11/site-packages/jaxlib/mlir/dialects/_scf_ops_gen.py\", line 16, in <module>\n",
      "    @_ods_cext.register_dialect\n",
      "     ^^^^^^^^^^^^^^^^^^^^^^^^^^\n",
      "RuntimeError: Dialect namespace 'scf' is already registered.\n",
      "]\n",
      "[autoreload of jaxlib.mlir.dialects._vector_ops_gen failed: Traceback (most recent call last):\n",
      "  File \"/home/piriac/mambaforge/envs/diffusion_curvature/lib/python3.11/site-packages/IPython/extensions/autoreload.py\", line 276, in check\n",
      "    superreload(m, reload, self.old_objects)\n",
      "  File \"/home/piriac/mambaforge/envs/diffusion_curvature/lib/python3.11/site-packages/IPython/extensions/autoreload.py\", line 475, in superreload\n",
      "    module = reload(module)\n",
      "             ^^^^^^^^^^^^^^\n",
      "  File \"/home/piriac/mambaforge/envs/diffusion_curvature/lib/python3.11/importlib/__init__.py\", line 169, in reload\n",
      "    _bootstrap._exec(spec, module)\n",
      "  File \"<frozen importlib._bootstrap>\", line 621, in _exec\n",
      "  File \"<frozen importlib._bootstrap_external>\", line 940, in exec_module\n",
      "  File \"<frozen importlib._bootstrap>\", line 241, in _call_with_frames_removed\n",
      "  File \"/home/piriac/mambaforge/envs/diffusion_curvature/lib/python3.11/site-packages/jaxlib/mlir/dialects/_vector_ops_gen.py\", line 16, in <module>\n",
      "    @_ods_cext.register_dialect\n",
      "     ^^^^^^^^^^^^^^^^^^^^^^^^^^\n",
      "RuntimeError: Dialect namespace 'vector' is already registered.\n",
      "]\n",
      "[autoreload of jaxlib.mosaic.python._tpu_gen failed: Traceback (most recent call last):\n",
      "  File \"/home/piriac/mambaforge/envs/diffusion_curvature/lib/python3.11/site-packages/IPython/extensions/autoreload.py\", line 276, in check\n",
      "    superreload(m, reload, self.old_objects)\n",
      "  File \"/home/piriac/mambaforge/envs/diffusion_curvature/lib/python3.11/site-packages/IPython/extensions/autoreload.py\", line 475, in superreload\n",
      "    module = reload(module)\n",
      "             ^^^^^^^^^^^^^^\n",
      "  File \"/home/piriac/mambaforge/envs/diffusion_curvature/lib/python3.11/importlib/__init__.py\", line 169, in reload\n",
      "    _bootstrap._exec(spec, module)\n",
      "  File \"<frozen importlib._bootstrap>\", line 621, in _exec\n",
      "  File \"<frozen importlib._bootstrap_external>\", line 940, in exec_module\n",
      "  File \"<frozen importlib._bootstrap>\", line 241, in _call_with_frames_removed\n",
      "  File \"/home/piriac/mambaforge/envs/diffusion_curvature/lib/python3.11/site-packages/jaxlib/mosaic/python/_tpu_gen.py\", line 16, in <module>\n",
      "    @_ods_cext.register_dialect\n",
      "     ^^^^^^^^^^^^^^^^^^^^^^^^^^\n",
      "RuntimeError: Dialect namespace 'tpu' is already registered.\n",
      "]\n",
      "[autoreload of jaxlib.mlir.dialects._builtin_ops_gen failed: Traceback (most recent call last):\n",
      "  File \"/home/piriac/mambaforge/envs/diffusion_curvature/lib/python3.11/site-packages/IPython/extensions/autoreload.py\", line 276, in check\n",
      "    superreload(m, reload, self.old_objects)\n",
      "  File \"/home/piriac/mambaforge/envs/diffusion_curvature/lib/python3.11/site-packages/IPython/extensions/autoreload.py\", line 475, in superreload\n",
      "    module = reload(module)\n",
      "             ^^^^^^^^^^^^^^\n",
      "  File \"/home/piriac/mambaforge/envs/diffusion_curvature/lib/python3.11/importlib/__init__.py\", line 169, in reload\n",
      "    _bootstrap._exec(spec, module)\n",
      "  File \"<frozen importlib._bootstrap>\", line 621, in _exec\n",
      "  File \"<frozen importlib._bootstrap_external>\", line 940, in exec_module\n",
      "  File \"<frozen importlib._bootstrap>\", line 241, in _call_with_frames_removed\n",
      "  File \"/home/piriac/mambaforge/envs/diffusion_curvature/lib/python3.11/site-packages/jaxlib/mlir/dialects/_builtin_ops_gen.py\", line 16, in <module>\n",
      "    @_ods_cext.register_dialect\n",
      "     ^^^^^^^^^^^^^^^^^^^^^^^^^^\n",
      "RuntimeError: Dialect namespace 'builtin' is already registered.\n",
      "]\n",
      "[autoreload of jaxlib.mlir.dialects._chlo_ops_gen failed: Traceback (most recent call last):\n",
      "  File \"/home/piriac/mambaforge/envs/diffusion_curvature/lib/python3.11/site-packages/IPython/extensions/autoreload.py\", line 276, in check\n",
      "    superreload(m, reload, self.old_objects)\n",
      "  File \"/home/piriac/mambaforge/envs/diffusion_curvature/lib/python3.11/site-packages/IPython/extensions/autoreload.py\", line 475, in superreload\n",
      "    module = reload(module)\n",
      "             ^^^^^^^^^^^^^^\n",
      "  File \"/home/piriac/mambaforge/envs/diffusion_curvature/lib/python3.11/importlib/__init__.py\", line 169, in reload\n",
      "    _bootstrap._exec(spec, module)\n",
      "  File \"<frozen importlib._bootstrap>\", line 621, in _exec\n",
      "  File \"<frozen importlib._bootstrap_external>\", line 940, in exec_module\n",
      "  File \"<frozen importlib._bootstrap>\", line 241, in _call_with_frames_removed\n",
      "  File \"/home/piriac/mambaforge/envs/diffusion_curvature/lib/python3.11/site-packages/jaxlib/mlir/dialects/_chlo_ops_gen.py\", line 16, in <module>\n",
      "    @_ods_cext.register_dialect\n",
      "     ^^^^^^^^^^^^^^^^^^^^^^^^^^\n",
      "RuntimeError: Dialect namespace 'chlo' is already registered.\n",
      "]\n",
      "[autoreload of jaxlib.mlir.dialects._mhlo_ops_gen failed: Traceback (most recent call last):\n",
      "  File \"/home/piriac/mambaforge/envs/diffusion_curvature/lib/python3.11/site-packages/IPython/extensions/autoreload.py\", line 276, in check\n",
      "    superreload(m, reload, self.old_objects)\n",
      "  File \"/home/piriac/mambaforge/envs/diffusion_curvature/lib/python3.11/site-packages/IPython/extensions/autoreload.py\", line 475, in superreload\n",
      "    module = reload(module)\n",
      "             ^^^^^^^^^^^^^^\n",
      "  File \"/home/piriac/mambaforge/envs/diffusion_curvature/lib/python3.11/importlib/__init__.py\", line 169, in reload\n",
      "    _bootstrap._exec(spec, module)\n",
      "  File \"<frozen importlib._bootstrap>\", line 621, in _exec\n",
      "  File \"<frozen importlib._bootstrap_external>\", line 940, in exec_module\n",
      "  File \"<frozen importlib._bootstrap>\", line 241, in _call_with_frames_removed\n",
      "  File \"/home/piriac/mambaforge/envs/diffusion_curvature/lib/python3.11/site-packages/jaxlib/mlir/dialects/_mhlo_ops_gen.py\", line 16, in <module>\n",
      "    @_ods_cext.register_dialect\n",
      "     ^^^^^^^^^^^^^^^^^^^^^^^^^^\n",
      "RuntimeError: Dialect namespace 'mhlo' is already registered.\n",
      "]\n",
      "[autoreload of jaxlib.mlir.dialects._ml_program_ops_gen failed: Traceback (most recent call last):\n",
      "  File \"/home/piriac/mambaforge/envs/diffusion_curvature/lib/python3.11/site-packages/IPython/extensions/autoreload.py\", line 276, in check\n",
      "    superreload(m, reload, self.old_objects)\n",
      "  File \"/home/piriac/mambaforge/envs/diffusion_curvature/lib/python3.11/site-packages/IPython/extensions/autoreload.py\", line 475, in superreload\n",
      "    module = reload(module)\n",
      "             ^^^^^^^^^^^^^^\n",
      "  File \"/home/piriac/mambaforge/envs/diffusion_curvature/lib/python3.11/importlib/__init__.py\", line 169, in reload\n",
      "    _bootstrap._exec(spec, module)\n",
      "  File \"<frozen importlib._bootstrap>\", line 621, in _exec\n",
      "  File \"<frozen importlib._bootstrap_external>\", line 940, in exec_module\n",
      "  File \"<frozen importlib._bootstrap>\", line 241, in _call_with_frames_removed\n",
      "  File \"/home/piriac/mambaforge/envs/diffusion_curvature/lib/python3.11/site-packages/jaxlib/mlir/dialects/_ml_program_ops_gen.py\", line 16, in <module>\n",
      "    @_ods_cext.register_dialect\n",
      "     ^^^^^^^^^^^^^^^^^^^^^^^^^^\n",
      "RuntimeError: Dialect namespace 'ml_program' is already registered.\n",
      "]\n",
      "[autoreload of jaxlib.mlir.dialects._sparse_tensor_ops_gen failed: Traceback (most recent call last):\n",
      "  File \"/home/piriac/mambaforge/envs/diffusion_curvature/lib/python3.11/site-packages/IPython/extensions/autoreload.py\", line 276, in check\n",
      "    superreload(m, reload, self.old_objects)\n",
      "  File \"/home/piriac/mambaforge/envs/diffusion_curvature/lib/python3.11/site-packages/IPython/extensions/autoreload.py\", line 475, in superreload\n",
      "    module = reload(module)\n",
      "             ^^^^^^^^^^^^^^\n",
      "  File \"/home/piriac/mambaforge/envs/diffusion_curvature/lib/python3.11/importlib/__init__.py\", line 169, in reload\n",
      "    _bootstrap._exec(spec, module)\n",
      "  File \"<frozen importlib._bootstrap>\", line 621, in _exec\n",
      "  File \"<frozen importlib._bootstrap_external>\", line 940, in exec_module\n",
      "  File \"<frozen importlib._bootstrap>\", line 241, in _call_with_frames_removed\n",
      "  File \"/home/piriac/mambaforge/envs/diffusion_curvature/lib/python3.11/site-packages/jaxlib/mlir/dialects/_sparse_tensor_ops_gen.py\", line 16, in <module>\n",
      "    @_ods_cext.register_dialect\n",
      "     ^^^^^^^^^^^^^^^^^^^^^^^^^^\n",
      "RuntimeError: Dialect namespace 'sparse_tensor' is already registered.\n",
      "]\n"
     ]
    },
    {
     "data": {
      "text/plain": [
       "14.954056948843835"
      ]
     },
     "execution_count": 8,
     "metadata": {},
     "output_type": "execute_result"
    }
   ],
   "source": [
    "Xsample = CC[2][3][0.5]['Xs'][8]\n",
    "hickock_curvature_of_pt(Xsample, 2)"
   ]
  },
  {
   "cell_type": "code",
   "execution_count": 12,
   "metadata": {},
   "outputs": [],
   "source": [
    "deepdish.io.save(\"/home/piriac/data/diffusion_curvature/computed_hickok_curvatures_core_r05.h5\", computed_hickok_curvatures    )"
   ]
  },
  {
   "cell_type": "code",
   "execution_count": null,
   "metadata": {},
   "outputs": [
    {
     "data": {
      "text/plain": [
       "array([[ 1.15723404,  0.36087296,  1.29502087, -0.18860508, -1.08827998],\n",
       "       [ 0.92839015, -0.26077194, -0.26277512, -0.49462707,  0.43750766],\n",
       "       [ 0.56448034, -0.53211015, -2.28451312,  2.78093679,  0.8688377 ],\n",
       "       ...,\n",
       "       [ 0.30366959, -0.32721047,  0.0741542 , -0.61731146,  0.09876861],\n",
       "       [ 1.16973289,  0.25618582, -0.37070521, -0.12000493,  0.1271559 ],\n",
       "       [-0.45691055, -0.63479481, -1.44269574,  1.97871123, -1.07033729]])"
      ]
     },
     "execution_count": 56,
     "metadata": {},
     "output_type": "execute_result"
    }
   ],
   "source": [
    "Xsample"
   ]
  },
  {
   "cell_type": "code",
   "execution_count": null,
   "metadata": {},
   "outputs": [],
   "source": [
    "SC = scalar_curvature_est(\n",
    "    n = 2, #manifold dim\n",
    "    X = Xsample, #data\n",
    "    verbose=False\n",
    ")\n",
    "ks_est = SC.estimate(2)"
   ]
  },
  {
   "cell_type": "code",
   "execution_count": null,
   "metadata": {},
   "outputs": [
    {
     "ename": "IndexError",
     "evalue": "index -2 is out of bounds for axis 0 with size 1",
     "output_type": "error",
     "traceback": [
      "\u001b[0;31m---------------------------------------------------------------------------\u001b[0m",
      "\u001b[0;31mIndexError\u001b[0m                                Traceback (most recent call last)",
      "\u001b[1;32m/home/piriac/Pumberton/Workshop/21-SUMRY-Curvature/diffusion_curvature/nbs/3a2 Hickok Curvature of Battery.ipynb Cell 12\u001b[0m line \u001b[0;36m6\n\u001b[1;32m      <a href='vscode-notebook-cell://ssh-remote%2Bathomia/home/piriac/Pumberton/Workshop/21-SUMRY-Curvature/diffusion_curvature/nbs/3a2%20Hickok%20Curvature%20of%20Battery.ipynb#X15sdnNjb2RlLXJlbW90ZQ%3D%3D?line=0'>1</a>\u001b[0m SC \u001b[39m=\u001b[39m scalar_curvature_est(\n\u001b[1;32m      <a href='vscode-notebook-cell://ssh-remote%2Bathomia/home/piriac/Pumberton/Workshop/21-SUMRY-Curvature/diffusion_curvature/nbs/3a2%20Hickok%20Curvature%20of%20Battery.ipynb#X15sdnNjb2RlLXJlbW90ZQ%3D%3D?line=1'>2</a>\u001b[0m     n \u001b[39m=\u001b[39m \u001b[39m2\u001b[39m, \u001b[39m#manifold dim\u001b[39;00m\n\u001b[1;32m      <a href='vscode-notebook-cell://ssh-remote%2Bathomia/home/piriac/Pumberton/Workshop/21-SUMRY-Curvature/diffusion_curvature/nbs/3a2%20Hickok%20Curvature%20of%20Battery.ipynb#X15sdnNjb2RlLXJlbW90ZQ%3D%3D?line=2'>3</a>\u001b[0m     X \u001b[39m=\u001b[39m Xsample, \u001b[39m#data\u001b[39;00m\n\u001b[1;32m      <a href='vscode-notebook-cell://ssh-remote%2Bathomia/home/piriac/Pumberton/Workshop/21-SUMRY-Curvature/diffusion_curvature/nbs/3a2%20Hickok%20Curvature%20of%20Battery.ipynb#X15sdnNjb2RlLXJlbW90ZQ%3D%3D?line=3'>4</a>\u001b[0m     verbose\u001b[39m=\u001b[39m\u001b[39mFalse\u001b[39;00m\n\u001b[1;32m      <a href='vscode-notebook-cell://ssh-remote%2Bathomia/home/piriac/Pumberton/Workshop/21-SUMRY-Curvature/diffusion_curvature/nbs/3a2%20Hickok%20Curvature%20of%20Battery.ipynb#X15sdnNjb2RlLXJlbW90ZQ%3D%3D?line=4'>5</a>\u001b[0m )\n\u001b[0;32m----> <a href='vscode-notebook-cell://ssh-remote%2Bathomia/home/piriac/Pumberton/Workshop/21-SUMRY-Curvature/diffusion_curvature/nbs/3a2%20Hickok%20Curvature%20of%20Battery.ipynb#X15sdnNjb2RlLXJlbW90ZQ%3D%3D?line=5'>6</a>\u001b[0m ks_est \u001b[39m=\u001b[39m SC\u001b[39m.\u001b[39;49mestimate(\u001b[39m1\u001b[39;49m)\n",
      "File \u001b[0;32m~/Pumberton/Workshop/21-SUMRY-Curvature/diffusion_curvature/diffusion_curvature/hickok.py:321\u001b[0m, in \u001b[0;36mscalar_curvature_est.estimate\u001b[0;34m(self, rmax, indices, rmin, version, with_error, avg_k)\u001b[0m\n\u001b[1;32m    319\u001b[0m         errs\u001b[39m.\u001b[39mappend(err)\n\u001b[1;32m    320\u001b[0m \u001b[39melse\u001b[39;00m:\n\u001b[0;32m--> 321\u001b[0m     Cs \u001b[39m=\u001b[39m [\u001b[39mself\u001b[39;49m\u001b[39m.\u001b[39;49mfit_quad_coeff(i, rmax, rmin, version, with_error, avg_k) \u001b[39mfor\u001b[39;49;00m i \u001b[39min\u001b[39;49;00m indices]\n\u001b[1;32m    322\u001b[0m Ss \u001b[39m=\u001b[39m [\u001b[39m-\u001b[39m\u001b[39m6\u001b[39m\u001b[39m*\u001b[39m(\u001b[39mself\u001b[39m\u001b[39m.\u001b[39mn \u001b[39m+\u001b[39m \u001b[39m2\u001b[39m)\u001b[39m*\u001b[39mC \u001b[39mfor\u001b[39;00m C \u001b[39min\u001b[39;00m Cs]\n\u001b[1;32m    323\u001b[0m \u001b[39mif\u001b[39;00m with_error:\n",
      "File \u001b[0;32m~/Pumberton/Workshop/21-SUMRY-Curvature/diffusion_curvature/diffusion_curvature/hickok.py:321\u001b[0m, in \u001b[0;36m<listcomp>\u001b[0;34m(.0)\u001b[0m\n\u001b[1;32m    319\u001b[0m         errs\u001b[39m.\u001b[39mappend(err)\n\u001b[1;32m    320\u001b[0m \u001b[39melse\u001b[39;00m:\n\u001b[0;32m--> 321\u001b[0m     Cs \u001b[39m=\u001b[39m [\u001b[39mself\u001b[39;49m\u001b[39m.\u001b[39;49mfit_quad_coeff(i, rmax, rmin, version, with_error, avg_k) \u001b[39mfor\u001b[39;00m i \u001b[39min\u001b[39;00m indices]\n\u001b[1;32m    322\u001b[0m Ss \u001b[39m=\u001b[39m [\u001b[39m-\u001b[39m\u001b[39m6\u001b[39m\u001b[39m*\u001b[39m(\u001b[39mself\u001b[39m\u001b[39m.\u001b[39mn \u001b[39m+\u001b[39m \u001b[39m2\u001b[39m)\u001b[39m*\u001b[39mC \u001b[39mfor\u001b[39;00m C \u001b[39min\u001b[39;00m Cs]\n\u001b[1;32m    323\u001b[0m \u001b[39mif\u001b[39;00m with_error:\n",
      "File \u001b[0;32m~/Pumberton/Workshop/21-SUMRY-Curvature/diffusion_curvature/diffusion_curvature/hickok.py:361\u001b[0m, in \u001b[0;36mscalar_curvature_est.fit_quad_coeff\u001b[0;34m(self, i, rmax, rmin, version, with_error, avg_k)\u001b[0m\n\u001b[1;32m    359\u001b[0m     rs \u001b[39m=\u001b[39m np\u001b[39m.\u001b[39mappend(rs, rmin) \u001b[39m# so that r[-1] = rmin. need this for the rs[i] - rs[i-1] term below.\u001b[39;00m\n\u001b[1;32m    360\u001b[0m     numerator \u001b[39m=\u001b[39m \u001b[39msum\u001b[39m(np\u001b[39m.\u001b[39marray([(r\u001b[39m*\u001b[39m\u001b[39m*\u001b[39m\u001b[39m2\u001b[39m)\u001b[39m*\u001b[39m(ball_ratios[j] \u001b[39m-\u001b[39m \u001b[39m1\u001b[39m)\u001b[39m*\u001b[39m(r \u001b[39m-\u001b[39m rs[j\u001b[39m-\u001b[39m\u001b[39m1\u001b[39m]) \u001b[39mfor\u001b[39;00m j, r \u001b[39min\u001b[39;00m \u001b[39menumerate\u001b[39m(rs[:\u001b[39m-\u001b[39m\u001b[39m1\u001b[39m])]))\n\u001b[0;32m--> 361\u001b[0m     denom \u001b[39m=\u001b[39m (rs[\u001b[39m-\u001b[39;49m\u001b[39m2\u001b[39;49m]\u001b[39m*\u001b[39m\u001b[39m*\u001b[39m\u001b[39m5\u001b[39m \u001b[39m-\u001b[39m rmin\u001b[39m*\u001b[39m\u001b[39m*\u001b[39m\u001b[39m5\u001b[39m)\u001b[39m/\u001b[39m\u001b[39m5\u001b[39m\n\u001b[1;32m    362\u001b[0m     C \u001b[39m=\u001b[39m numerator\u001b[39m/\u001b[39mdenom\n\u001b[1;32m    363\u001b[0m \u001b[39mif\u001b[39;00m with_error:\n",
      "\u001b[0;31mIndexError\u001b[0m: index -2 is out of bounds for axis 0 with size 1"
     ]
    }
   ],
   "source": [
    "SC = scalar_curvature_est(\n",
    "    n = 2, #manifold dim\n",
    "    X = Xsample, #data\n",
    "    verbose=False\n",
    ")\n",
    "ks_est = SC.estimate(1)"
   ]
  },
  {
   "cell_type": "code",
   "execution_count": null,
   "metadata": {},
   "outputs": [
    {
     "ename": "IndexError",
     "evalue": "index -2 is out of bounds for axis 0 with size 1",
     "output_type": "error",
     "traceback": [
      "\u001b[0;31m---------------------------------------------------------------------------\u001b[0m",
      "\u001b[0;31mIndexError\u001b[0m                                Traceback (most recent call last)",
      "\u001b[1;32m/home/piriac/Pumberton/Workshop/21-SUMRY-Curvature/diffusion_curvature/nbs/3a2 Hickok Curvature of Battery.ipynb Cell 13\u001b[0m line \u001b[0;36m6\n\u001b[1;32m      <a href='vscode-notebook-cell://ssh-remote%2Bathomia/home/piriac/Pumberton/Workshop/21-SUMRY-Curvature/diffusion_curvature/nbs/3a2%20Hickok%20Curvature%20of%20Battery.ipynb#X20sdnNjb2RlLXJlbW90ZQ%3D%3D?line=0'>1</a>\u001b[0m SC \u001b[39m=\u001b[39m scalar_curvature_est(\n\u001b[1;32m      <a href='vscode-notebook-cell://ssh-remote%2Bathomia/home/piriac/Pumberton/Workshop/21-SUMRY-Curvature/diffusion_curvature/nbs/3a2%20Hickok%20Curvature%20of%20Battery.ipynb#X20sdnNjb2RlLXJlbW90ZQ%3D%3D?line=1'>2</a>\u001b[0m     n \u001b[39m=\u001b[39m \u001b[39m2\u001b[39m, \u001b[39m#manifold dim\u001b[39;00m\n\u001b[1;32m      <a href='vscode-notebook-cell://ssh-remote%2Bathomia/home/piriac/Pumberton/Workshop/21-SUMRY-Curvature/diffusion_curvature/nbs/3a2%20Hickok%20Curvature%20of%20Battery.ipynb#X20sdnNjb2RlLXJlbW90ZQ%3D%3D?line=2'>3</a>\u001b[0m     X \u001b[39m=\u001b[39m Xsample, \u001b[39m#data\u001b[39;00m\n\u001b[1;32m      <a href='vscode-notebook-cell://ssh-remote%2Bathomia/home/piriac/Pumberton/Workshop/21-SUMRY-Curvature/diffusion_curvature/nbs/3a2%20Hickok%20Curvature%20of%20Battery.ipynb#X20sdnNjb2RlLXJlbW90ZQ%3D%3D?line=3'>4</a>\u001b[0m     verbose\u001b[39m=\u001b[39m\u001b[39mFalse\u001b[39;00m\n\u001b[1;32m      <a href='vscode-notebook-cell://ssh-remote%2Bathomia/home/piriac/Pumberton/Workshop/21-SUMRY-Curvature/diffusion_curvature/nbs/3a2%20Hickok%20Curvature%20of%20Battery.ipynb#X20sdnNjb2RlLXJlbW90ZQ%3D%3D?line=4'>5</a>\u001b[0m )\n\u001b[0;32m----> <a href='vscode-notebook-cell://ssh-remote%2Bathomia/home/piriac/Pumberton/Workshop/21-SUMRY-Curvature/diffusion_curvature/nbs/3a2%20Hickok%20Curvature%20of%20Battery.ipynb#X20sdnNjb2RlLXJlbW90ZQ%3D%3D?line=5'>6</a>\u001b[0m ks_est \u001b[39m=\u001b[39m SC\u001b[39m.\u001b[39;49mestimate(\u001b[39m0.5\u001b[39;49m)\n",
      "File \u001b[0;32m~/Pumberton/Workshop/21-SUMRY-Curvature/diffusion_curvature/diffusion_curvature/hickok.py:321\u001b[0m, in \u001b[0;36mscalar_curvature_est.estimate\u001b[0;34m(self, rmax, indices, rmin, version, with_error, avg_k)\u001b[0m\n\u001b[1;32m    319\u001b[0m         errs\u001b[39m.\u001b[39mappend(err)\n\u001b[1;32m    320\u001b[0m \u001b[39melse\u001b[39;00m:\n\u001b[0;32m--> 321\u001b[0m     Cs \u001b[39m=\u001b[39m [\u001b[39mself\u001b[39;49m\u001b[39m.\u001b[39;49mfit_quad_coeff(i, rmax, rmin, version, with_error, avg_k) \u001b[39mfor\u001b[39;49;00m i \u001b[39min\u001b[39;49;00m indices]\n\u001b[1;32m    322\u001b[0m Ss \u001b[39m=\u001b[39m [\u001b[39m-\u001b[39m\u001b[39m6\u001b[39m\u001b[39m*\u001b[39m(\u001b[39mself\u001b[39m\u001b[39m.\u001b[39mn \u001b[39m+\u001b[39m \u001b[39m2\u001b[39m)\u001b[39m*\u001b[39mC \u001b[39mfor\u001b[39;00m C \u001b[39min\u001b[39;00m Cs]\n\u001b[1;32m    323\u001b[0m \u001b[39mif\u001b[39;00m with_error:\n",
      "File \u001b[0;32m~/Pumberton/Workshop/21-SUMRY-Curvature/diffusion_curvature/diffusion_curvature/hickok.py:321\u001b[0m, in \u001b[0;36m<listcomp>\u001b[0;34m(.0)\u001b[0m\n\u001b[1;32m    319\u001b[0m         errs\u001b[39m.\u001b[39mappend(err)\n\u001b[1;32m    320\u001b[0m \u001b[39melse\u001b[39;00m:\n\u001b[0;32m--> 321\u001b[0m     Cs \u001b[39m=\u001b[39m [\u001b[39mself\u001b[39;49m\u001b[39m.\u001b[39;49mfit_quad_coeff(i, rmax, rmin, version, with_error, avg_k) \u001b[39mfor\u001b[39;00m i \u001b[39min\u001b[39;00m indices]\n\u001b[1;32m    322\u001b[0m Ss \u001b[39m=\u001b[39m [\u001b[39m-\u001b[39m\u001b[39m6\u001b[39m\u001b[39m*\u001b[39m(\u001b[39mself\u001b[39m\u001b[39m.\u001b[39mn \u001b[39m+\u001b[39m \u001b[39m2\u001b[39m)\u001b[39m*\u001b[39mC \u001b[39mfor\u001b[39;00m C \u001b[39min\u001b[39;00m Cs]\n\u001b[1;32m    323\u001b[0m \u001b[39mif\u001b[39;00m with_error:\n",
      "File \u001b[0;32m~/Pumberton/Workshop/21-SUMRY-Curvature/diffusion_curvature/diffusion_curvature/hickok.py:361\u001b[0m, in \u001b[0;36mscalar_curvature_est.fit_quad_coeff\u001b[0;34m(self, i, rmax, rmin, version, with_error, avg_k)\u001b[0m\n\u001b[1;32m    359\u001b[0m     rs \u001b[39m=\u001b[39m np\u001b[39m.\u001b[39mappend(rs, rmin) \u001b[39m# so that r[-1] = rmin. need this for the rs[i] - rs[i-1] term below.\u001b[39;00m\n\u001b[1;32m    360\u001b[0m     numerator \u001b[39m=\u001b[39m \u001b[39msum\u001b[39m(np\u001b[39m.\u001b[39marray([(r\u001b[39m*\u001b[39m\u001b[39m*\u001b[39m\u001b[39m2\u001b[39m)\u001b[39m*\u001b[39m(ball_ratios[j] \u001b[39m-\u001b[39m \u001b[39m1\u001b[39m)\u001b[39m*\u001b[39m(r \u001b[39m-\u001b[39m rs[j\u001b[39m-\u001b[39m\u001b[39m1\u001b[39m]) \u001b[39mfor\u001b[39;00m j, r \u001b[39min\u001b[39;00m \u001b[39menumerate\u001b[39m(rs[:\u001b[39m-\u001b[39m\u001b[39m1\u001b[39m])]))\n\u001b[0;32m--> 361\u001b[0m     denom \u001b[39m=\u001b[39m (rs[\u001b[39m-\u001b[39;49m\u001b[39m2\u001b[39;49m]\u001b[39m*\u001b[39m\u001b[39m*\u001b[39m\u001b[39m5\u001b[39m \u001b[39m-\u001b[39m rmin\u001b[39m*\u001b[39m\u001b[39m*\u001b[39m\u001b[39m5\u001b[39m)\u001b[39m/\u001b[39m\u001b[39m5\u001b[39m\n\u001b[1;32m    362\u001b[0m     C \u001b[39m=\u001b[39m numerator\u001b[39m/\u001b[39mdenom\n\u001b[1;32m    363\u001b[0m \u001b[39mif\u001b[39;00m with_error:\n",
      "\u001b[0;31mIndexError\u001b[0m: index -2 is out of bounds for axis 0 with size 1"
     ]
    }
   ],
   "source": [
    "SC = scalar_curvature_est(\n",
    "    n = 2, #manifold dim\n",
    "    X = Xsample, #data\n",
    "    verbose=False\n",
    ")\n",
    "ks_est = SC.estimate(0.5)"
   ]
  },
  {
   "cell_type": "code",
   "execution_count": 13,
   "metadata": {},
   "outputs": [
    {
     "data": {
      "application/vnd.jupyter.widget-view+json": {
       "model_id": "1143a0be155c404ea799d23140553d0e",
       "version_major": 2,
       "version_minor": 0
      },
      "text/plain": [
       "intrinsic dimensions:   0%|          | 0/4 [00:00<?, ?it/s]"
      ]
     },
     "metadata": {},
     "output_type": "display_data"
    },
    {
     "data": {
      "application/vnd.jupyter.widget-view+json": {
       "model_id": "0457f6225893468fa39820928399cd8e",
       "version_major": 2,
       "version_minor": 0
      },
      "text/plain": [
       "codimensions:   0%|          | 0/4 [00:00<?, ?it/s]"
      ]
     },
     "metadata": {},
     "output_type": "display_data"
    },
    {
     "data": {
      "application/vnd.jupyter.widget-view+json": {
       "model_id": "10818625b3584ff3a77d7ec8ff2152ee",
       "version_major": 2,
       "version_minor": 0
      },
      "text/plain": [
       "Noise Levels:   0%|          | 0/6 [00:00<?, ?it/s]"
      ]
     },
     "metadata": {},
     "output_type": "display_data"
    },
    {
     "data": {
      "application/vnd.jupyter.widget-view+json": {
       "model_id": "454af35ed8314d6db8d42020577c69ac",
       "version_major": 2,
       "version_minor": 0
      },
      "text/plain": [
       "Noise Levels:   0%|          | 0/6 [00:00<?, ?it/s]"
      ]
     },
     "metadata": {},
     "output_type": "display_data"
    },
    {
     "data": {
      "application/vnd.jupyter.widget-view+json": {
       "model_id": "b04d4da955f742848ee655e642dbb226",
       "version_major": 2,
       "version_minor": 0
      },
      "text/plain": [
       "Noise Levels:   0%|          | 0/6 [00:00<?, ?it/s]"
      ]
     },
     "metadata": {},
     "output_type": "display_data"
    },
    {
     "data": {
      "application/vnd.jupyter.widget-view+json": {
       "model_id": "13b2fa8564a544129fd408cc48e32b5b",
       "version_major": 2,
       "version_minor": 0
      },
      "text/plain": [
       "Noise Levels:   0%|          | 0/6 [00:00<?, ?it/s]"
      ]
     },
     "metadata": {},
     "output_type": "display_data"
    },
    {
     "data": {
      "application/vnd.jupyter.widget-view+json": {
       "model_id": "9587f642299c4a718f8407f6ace991ff",
       "version_major": 2,
       "version_minor": 0
      },
      "text/plain": [
       "codimensions:   0%|          | 0/4 [00:00<?, ?it/s]"
      ]
     },
     "metadata": {},
     "output_type": "display_data"
    },
    {
     "data": {
      "application/vnd.jupyter.widget-view+json": {
       "model_id": "034c377c0f3d4409b3fd4cb1940d184b",
       "version_major": 2,
       "version_minor": 0
      },
      "text/plain": [
       "Noise Levels:   0%|          | 0/6 [00:00<?, ?it/s]"
      ]
     },
     "metadata": {},
     "output_type": "display_data"
    },
    {
     "data": {
      "application/vnd.jupyter.widget-view+json": {
       "model_id": "f4d577d890ac41de8fc8b1114d11904a",
       "version_major": 2,
       "version_minor": 0
      },
      "text/plain": [
       "Noise Levels:   0%|          | 0/6 [00:00<?, ?it/s]"
      ]
     },
     "metadata": {},
     "output_type": "display_data"
    },
    {
     "data": {
      "application/vnd.jupyter.widget-view+json": {
       "model_id": "b177b6e57dce4955a1c05165b08bb959",
       "version_major": 2,
       "version_minor": 0
      },
      "text/plain": [
       "Noise Levels:   0%|          | 0/6 [00:00<?, ?it/s]"
      ]
     },
     "metadata": {},
     "output_type": "display_data"
    },
    {
     "data": {
      "application/vnd.jupyter.widget-view+json": {
       "model_id": "77fb015175ce47da97768670e27d7227",
       "version_major": 2,
       "version_minor": 0
      },
      "text/plain": [
       "Noise Levels:   0%|          | 0/6 [00:00<?, ?it/s]"
      ]
     },
     "metadata": {},
     "output_type": "display_data"
    },
    {
     "data": {
      "application/vnd.jupyter.widget-view+json": {
       "model_id": "e4749fd4103544e2a325fe475f330f18",
       "version_major": 2,
       "version_minor": 0
      },
      "text/plain": [
       "codimensions:   0%|          | 0/4 [00:00<?, ?it/s]"
      ]
     },
     "metadata": {},
     "output_type": "display_data"
    },
    {
     "data": {
      "application/vnd.jupyter.widget-view+json": {
       "model_id": "0817d0096051461fb7c88ac4fc2ecb8c",
       "version_major": 2,
       "version_minor": 0
      },
      "text/plain": [
       "Noise Levels:   0%|          | 0/6 [00:00<?, ?it/s]"
      ]
     },
     "metadata": {},
     "output_type": "display_data"
    },
    {
     "data": {
      "application/vnd.jupyter.widget-view+json": {
       "model_id": "4c4b9c171b7348a1ac60b1539c9277e8",
       "version_major": 2,
       "version_minor": 0
      },
      "text/plain": [
       "Noise Levels:   0%|          | 0/6 [00:00<?, ?it/s]"
      ]
     },
     "metadata": {},
     "output_type": "display_data"
    },
    {
     "data": {
      "application/vnd.jupyter.widget-view+json": {
       "model_id": "86ff8e2e38c94e9e8fffae3b464f4103",
       "version_major": 2,
       "version_minor": 0
      },
      "text/plain": [
       "Noise Levels:   0%|          | 0/6 [00:00<?, ?it/s]"
      ]
     },
     "metadata": {},
     "output_type": "display_data"
    },
    {
     "data": {
      "application/vnd.jupyter.widget-view+json": {
       "model_id": "719327303cab498eadf2ebe7e0c9c943",
       "version_major": 2,
       "version_minor": 0
      },
      "text/plain": [
       "Noise Levels:   0%|          | 0/6 [00:00<?, ?it/s]"
      ]
     },
     "metadata": {},
     "output_type": "display_data"
    },
    {
     "data": {
      "application/vnd.jupyter.widget-view+json": {
       "model_id": "9dac05ca362245c7a95caf37d89b2ecb",
       "version_major": 2,
       "version_minor": 0
      },
      "text/plain": [
       "codimensions:   0%|          | 0/4 [00:00<?, ?it/s]"
      ]
     },
     "metadata": {},
     "output_type": "display_data"
    },
    {
     "data": {
      "application/vnd.jupyter.widget-view+json": {
       "model_id": "63279be38cb94495b5faf3c10dca98a1",
       "version_major": 2,
       "version_minor": 0
      },
      "text/plain": [
       "Noise Levels:   0%|          | 0/6 [00:00<?, ?it/s]"
      ]
     },
     "metadata": {},
     "output_type": "display_data"
    },
    {
     "data": {
      "application/vnd.jupyter.widget-view+json": {
       "model_id": "082084613b0748ed8a60ffb287e95ee6",
       "version_major": 2,
       "version_minor": 0
      },
      "text/plain": [
       "Noise Levels:   0%|          | 0/6 [00:00<?, ?it/s]"
      ]
     },
     "metadata": {},
     "output_type": "display_data"
    },
    {
     "data": {
      "application/vnd.jupyter.widget-view+json": {
       "model_id": "8b604911f41345e4b7f2b6195c177129",
       "version_major": 2,
       "version_minor": 0
      },
      "text/plain": [
       "Noise Levels:   0%|          | 0/6 [00:00<?, ?it/s]"
      ]
     },
     "metadata": {},
     "output_type": "display_data"
    },
    {
     "data": {
      "application/vnd.jupyter.widget-view+json": {
       "model_id": "db2808fa8ed04f74bc95922e6fe09229",
       "version_major": 2,
       "version_minor": 0
      },
      "text/plain": [
       "Noise Levels:   0%|          | 0/6 [00:00<?, ?it/s]"
      ]
     },
     "metadata": {},
     "output_type": "display_data"
    }
   ],
   "source": [
    "hc_curvature_correlations = compute_correlations(computed_hickok_curvatures, CC)"
   ]
  },
  {
   "cell_type": "code",
   "execution_count": 15,
   "metadata": {},
   "outputs": [],
   "source": [
    "#|export\n",
    "# Make a latex table of the correlations, both r and p values, with dimension in the rows and noise level in the columns\n",
    "from tabulate import tabulate\n",
    "def result_table(\n",
    "        correlations, # dictionary of correlations\n",
    "        c:int, # codimension\n",
    "        style = 'fancy_grid'\n",
    "        ):\n",
    "    noise_levels = correlations[correlations.keys().__iter__().__next__()][c].keys()\n",
    "    print(\"Codimension = \",c)\n",
    "    table = tabulate(\n",
    "        [[d] + [f\"{correlations[d][c][noise_level]['r']:.{3}f}/{correlations[d][c][noise_level]['p']:.{3}f}\" for noise_level in noise_levels] for d in correlations.keys()],\n",
    "        headers=['dim'] + [f\"Noise = {nl}\" for nl in noise_levels],\n",
    "        tablefmt=style, #latex_raw\n",
    "        floatfmt=\".2f\",\n",
    "        )\n",
    "    print(table)\n",
    "    return table"
   ]
  },
  {
   "cell_type": "code",
   "execution_count": 16,
   "metadata": {},
   "outputs": [
    {
     "name": "stdout",
     "output_type": "stream",
     "text": [
      "Codimension =  1\n",
      "╒═══════╤═══════════════╤════════════════╤═══════════════╤═══════════════╤═══════════════╤═══════════════╕\n",
      "│   dim │ Noise = 0.0   │ Noise = 0.05   │ Noise = 0.1   │ Noise = 0.2   │ Noise = 0.3   │ Noise = 0.5   │\n",
      "╞═══════╪═══════════════╪════════════════╪═══════════════╪═══════════════╪═══════════════╪═══════════════╡\n",
      "│     2 │ 0.885/0.000   │ 0.815/0.000    │ 0.720/0.000   │ 0.553/0.000   │ 0.502/0.000   │ 0.250/0.081   │\n",
      "├───────┼───────────────┼────────────────┼───────────────┼───────────────┼───────────────┼───────────────┤\n",
      "│     3 │ 0.785/0.000   │ 0.689/0.000    │ 0.534/0.000   │ 0.304/0.032   │ 0.218/0.129   │ 0.036/0.806   │\n",
      "├───────┼───────────────┼────────────────┼───────────────┼───────────────┼───────────────┼───────────────┤\n",
      "│     4 │ 0.397/0.004   │ 0.184/0.200    │ 0.331/0.019   │ 0.228/0.111   │ 0.179/0.213   │ -0.035/0.811  │\n",
      "├───────┼───────────────┼────────────────┼───────────────┼───────────────┼───────────────┼───────────────┤\n",
      "│     5 │ 0.089/0.538   │ -0.073/0.614   │ -0.374/0.007  │ 0.098/0.499   │ 0.208/0.147   │ 0.197/0.171   │\n",
      "╘═══════╧═══════════════╧════════════════╧═══════════════╧═══════════════╧═══════════════╧═══════════════╛\n"
     ]
    }
   ],
   "source": [
    "table = result_table(hc_curvature_correlations, c=1)"
   ]
  },
  {
   "cell_type": "code",
   "execution_count": 17,
   "metadata": {},
   "outputs": [
    {
     "name": "stdout",
     "output_type": "stream",
     "text": [
      "Codimension =  2\n",
      "╒═══════╤═══════════════╤════════════════╤═══════════════╤═══════════════╤═══════════════╤═══════════════╕\n",
      "│   dim │ Noise = 0.0   │ Noise = 0.05   │ Noise = 0.1   │ Noise = 0.2   │ Noise = 0.3   │ Noise = 0.5   │\n",
      "╞═══════╪═══════════════╪════════════════╪═══════════════╪═══════════════╪═══════════════╪═══════════════╡\n",
      "│     2 │ 0.795/0.000   │ 0.782/0.000    │ 0.344/0.014   │ 0.191/0.183   │ 0.072/0.617   │ 0.143/0.322   │\n",
      "├───────┼───────────────┼────────────────┼───────────────┼───────────────┼───────────────┼───────────────┤\n",
      "│     3 │ 0.378/0.007   │ 0.103/0.478    │ 0.058/0.691   │ 0.186/0.197   │ -0.111/0.444  │ 0.302/0.033   │\n",
      "├───────┼───────────────┼────────────────┼───────────────┼───────────────┼───────────────┼───────────────┤\n",
      "│     4 │ 0.138/0.338   │ 0.195/0.175    │ -0.332/0.019  │ 0.110/0.447   │ -0.049/0.737  │ 0.055/0.703   │\n",
      "├───────┼───────────────┼────────────────┼───────────────┼───────────────┼───────────────┼───────────────┤\n",
      "│     5 │ 0.250/0.080   │ -0.182/0.205   │ 0.030/0.838   │ -0.125/0.388  │ 0.201/0.162   │ 0.066/0.650   │\n",
      "╘═══════╧═══════════════╧════════════════╧═══════════════╧═══════════════╧═══════════════╧═══════════════╛\n"
     ]
    }
   ],
   "source": [
    "table = result_table(hc_curvature_correlations, c=2)"
   ]
  },
  {
   "cell_type": "code",
   "execution_count": 18,
   "metadata": {},
   "outputs": [
    {
     "name": "stdout",
     "output_type": "stream",
     "text": [
      "Codimension =  3\n",
      "╒═══════╤═══════════════╤════════════════╤═══════════════╤═══════════════╤═══════════════╤═══════════════╕\n",
      "│   dim │ Noise = 0.0   │ Noise = 0.05   │ Noise = 0.1   │ Noise = 0.2   │ Noise = 0.3   │ Noise = 0.5   │\n",
      "╞═══════╪═══════════════╪════════════════╪═══════════════╪═══════════════╪═══════════════╪═══════════════╡\n",
      "│     2 │ 0.570/0.000   │ 0.350/0.013    │ -0.016/0.914  │ -0.090/0.532  │ -0.018/0.904  │ -0.134/0.354  │\n",
      "├───────┼───────────────┼────────────────┼───────────────┼───────────────┼───────────────┼───────────────┤\n",
      "│     3 │ 0.197/0.169   │ -0.113/0.434   │ 0.181/0.210   │ -0.090/0.533  │ 0.109/0.452   │ 0.194/0.178   │\n",
      "├───────┼───────────────┼────────────────┼───────────────┼───────────────┼───────────────┼───────────────┤\n",
      "│     4 │ 0.006/0.968   │ 0.151/0.294    │ -0.012/0.936  │ -0.052/0.722  │ -0.024/0.868  │ 0.113/0.436   │\n",
      "├───────┼───────────────┼────────────────┼───────────────┼───────────────┼───────────────┼───────────────┤\n",
      "│     5 │ -0.235/0.101  │ 0.157/0.276    │ 0.039/0.788   │ 0.157/0.277   │ 0.246/0.086   │ 0.386/0.006   │\n",
      "╘═══════╧═══════════════╧════════════════╧═══════════════╧═══════════════╧═══════════════╧═══════════════╛\n"
     ]
    }
   ],
   "source": [
    "table = result_table(hc_curvature_correlations, c=3)"
   ]
  },
  {
   "cell_type": "code",
   "execution_count": 19,
   "metadata": {},
   "outputs": [
    {
     "name": "stdout",
     "output_type": "stream",
     "text": [
      "Codimension =  1\n",
      "\\begin{tabular}{rllllll}\n",
      "\\hline\n",
      "   dim & Noise = 0.0   & Noise = 0.05   & Noise = 0.1   & Noise = 0.2   & Noise = 0.3   & Noise = 0.5   \\\\\n",
      "\\hline\n",
      "     2 & 0.885/0.000   & 0.815/0.000    & 0.720/0.000   & 0.553/0.000   & 0.502/0.000   & 0.250/0.081   \\\\\n",
      "     3 & 0.785/0.000   & 0.689/0.000    & 0.534/0.000   & 0.304/0.032   & 0.218/0.129   & 0.036/0.806   \\\\\n",
      "     4 & 0.397/0.004   & 0.184/0.200    & 0.331/0.019   & 0.228/0.111   & 0.179/0.213   & -0.035/0.811  \\\\\n",
      "     5 & 0.089/0.538   & -0.073/0.614   & -0.374/0.007  & 0.098/0.499   & 0.208/0.147   & 0.197/0.171   \\\\\n",
      "\\hline\n",
      "\\end{tabular}\n",
      "Codimension =  2\n",
      "\\begin{tabular}{rllllll}\n",
      "\\hline\n",
      "   dim & Noise = 0.0   & Noise = 0.05   & Noise = 0.1   & Noise = 0.2   & Noise = 0.3   & Noise = 0.5   \\\\\n",
      "\\hline\n",
      "     2 & 0.795/0.000   & 0.782/0.000    & 0.344/0.014   & 0.191/0.183   & 0.072/0.617   & 0.143/0.322   \\\\\n",
      "     3 & 0.378/0.007   & 0.103/0.478    & 0.058/0.691   & 0.186/0.197   & -0.111/0.444  & 0.302/0.033   \\\\\n",
      "     4 & 0.138/0.338   & 0.195/0.175    & -0.332/0.019  & 0.110/0.447   & -0.049/0.737  & 0.055/0.703   \\\\\n",
      "     5 & 0.250/0.080   & -0.182/0.205   & 0.030/0.838   & -0.125/0.388  & 0.201/0.162   & 0.066/0.650   \\\\\n",
      "\\hline\n",
      "\\end{tabular}\n",
      "Codimension =  3\n",
      "\\begin{tabular}{rllllll}\n",
      "\\hline\n",
      "   dim & Noise = 0.0   & Noise = 0.05   & Noise = 0.1   & Noise = 0.2   & Noise = 0.3   & Noise = 0.5   \\\\\n",
      "\\hline\n",
      "     2 & 0.570/0.000   & 0.350/0.013    & -0.016/0.914  & -0.090/0.532  & -0.018/0.904  & -0.134/0.354  \\\\\n",
      "     3 & 0.197/0.169   & -0.113/0.434   & 0.181/0.210   & -0.090/0.533  & 0.109/0.452   & 0.194/0.178   \\\\\n",
      "     4 & 0.006/0.968   & 0.151/0.294    & -0.012/0.936  & -0.052/0.722  & -0.024/0.868  & 0.113/0.436   \\\\\n",
      "     5 & -0.235/0.101  & 0.157/0.276    & 0.039/0.788   & 0.157/0.277   & 0.246/0.086   & 0.386/0.006   \\\\\n",
      "\\hline\n",
      "\\end{tabular}\n"
     ]
    }
   ],
   "source": [
    "table_latex = result_table(hc_curvature_correlations, c=1, style='latex_raw')\n",
    "table_latex += result_table(hc_curvature_correlations, c=2, style='latex_raw')\n",
    "table_latex += result_table(hc_curvature_correlations, c=3, style='latex_raw')"
   ]
  },
  {
   "cell_type": "code",
   "execution_count": null,
   "metadata": {},
   "outputs": [],
   "source": []
  }
 ],
 "metadata": {
  "kernelspec": {
   "display_name": "diffusion_curvature",
   "language": "python",
   "name": "python3"
  },
  "language_info": {
   "codemirror_mode": {
    "name": "ipython",
    "version": 3
   },
   "file_extension": ".py",
   "mimetype": "text/x-python",
   "name": "python",
   "nbconvert_exporter": "python",
   "pygments_lexer": "ipython3",
   "version": "3.11.5"
  }
 },
 "nbformat": 4,
 "nbformat_minor": 2
}
