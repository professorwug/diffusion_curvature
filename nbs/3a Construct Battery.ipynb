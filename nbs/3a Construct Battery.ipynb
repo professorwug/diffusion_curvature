{
 "cells": [
  {
   "cell_type": "code",
   "execution_count": null,
   "metadata": {},
   "outputs": [],
   "source": [
    "#|default_exp construct_battery\n",
    "from diffusion_curvature.graphs import *\n",
    "from diffusion_curvature.datasets import *\n",
    "from diffusion_curvature.core import *\n",
    "from fastcore.all import *\n",
    "import numpy as np\n",
    "from nbdev import show_doc\n",
    "%load_ext autoreload\n",
    "%autoreload 2"
   ]
  },
  {
   "cell_type": "markdown",
   "metadata": {},
   "source": [
    "# 3a Construct Battery"
   ]
  },
  {
   "cell_type": "code",
   "execution_count": null,
   "metadata": {},
   "outputs": [],
   "source": [
    "#|export\n",
    "from tqdm.auto import trange, tqdm\n",
    "from diffusion_curvature.random_surfaces import samples_from_random_surface\n",
    "from functools import partial\n",
    "def create_battery(\n",
    "        intrinsic_dims = [3,4,5,6],\n",
    "        codimensions = [1,2],\n",
    "        num_manifolds_per_dim = 10,\n",
    "        noise_levels = [0.0, 0.05, 0.1,0.2,0.3,0.5],\n",
    "):\n",
    "    CC = {}\n",
    "    CC['dims'] = intrinsic_dims\n",
    "    for d in tqdm(intrinsic_dims, desc=\"Intrinsic Dimension\"):\n",
    "        n_samples = 1000*2**d if d > 3 else 5000 # TODO: Rough heuristic\n",
    "        CC[d] = {}\n",
    "        CC[d]['codims'] = codimensions\n",
    "        for c in codimensions:\n",
    "            CC[d][c] = {}\n",
    "            CC[d][c]['noise_levels'] = noise_levels\n",
    "            for noise_level in tqdm(noise_levels, desc=\"Noise Level\", leave=False):\n",
    "                CC[d][c][noise_level] = {}\n",
    "                CC[d][c][noise_level][\"Xs\"] = []\n",
    "                CC[d][c][noise_level][\"k\"] = []\n",
    "                N = d+c\n",
    "                for i in trange(num_manifolds_per_dim, leave=False):\n",
    "                    X, k = samples_from_random_surface(n_samples, d, N, degree=2, noise_level=noise_level)\n",
    "                    # Turns out doing it in parallel messes with the random number generator\n",
    "                    # specified_sampler = partial(samples_from_random_surface, n_samples, d, N, degree=2, noise_level=noise_level)\n",
    "                    # results = perform_trials()\n",
    "                    CC[d][c][noise_level][\"Xs\"].append(X)\n",
    "                    CC[d][c][noise_level][\"k\"].append(k)\n",
    "    return CC"
   ]
  },
  {
   "cell_type": "code",
   "execution_count": null,
   "metadata": {},
   "outputs": [],
   "source": [
    "#|export\n",
    "import os\n",
    "from fastcore.all import *\n",
    "import deepdish\n",
    "\n",
    "@call_parse\n",
    "def main(\n",
    "        filename:str=\"/home/piriac/data/diffusion_curvature/Curvature_Colosseum.h5\", # path to the sampled toy manifolds\n",
    "        intrinsic_dims:list=[2,3,4,5], # intrinsic dimensions of the toy manifolds\n",
    "        codimensions:list=[1,2,3,4], # codimensions of the toy manifolds\n",
    "        num_manifolds_per_dim:int=50, # number of toy manifolds per intrinsic dimension\n",
    "        noise_levels:list = [0.0, 0.05, 0.1,0.2,0.3,0.5],\n",
    "\n",
    "):\n",
    "    \"\"\"Constructs a battery of toy manifolds and saves it to disk in HDF5 format\"\"\"\n",
    "    print(f\"Sampling from {num_manifolds_per_dim} manifolds in dims {intrinsic_dims} with codims {codimensions} and noise level {noise_levels}. Saving to {filename}\")\n",
    "    CC = create_battery(\n",
    "        intrinsic_dims=intrinsic_dims,\n",
    "        codimensions = codimensions,\n",
    "        num_manifolds_per_dim=num_manifolds_per_dim,\n",
    "        noise_levels=noise_levels,\n",
    "    )\n",
    "    deepdish.io.save(filename, CC)\n",
    "    \n",
    "    "
   ]
  },
  {
   "cell_type": "code",
   "execution_count": null,
   "metadata": {},
   "outputs": [
    {
     "name": "stdout",
     "output_type": "stream",
     "text": [
      "Sampling from 3 manifolds in dims [2, 3, 4] with codims [1, 2] and noise level [0.0, 0.05, 0.1]. Saving to /home/piriac/data/diffusion_curvature/Curvature_Colosseum_test.h5\n"
     ]
    },
    {
     "data": {
      "application/vnd.jupyter.widget-view+json": {
       "model_id": "58449c11dd8a4a1ba68b555ecfcbdd2b",
       "version_major": 2,
       "version_minor": 0
      },
      "text/plain": [
       "Intrinsic Dimension:   0%|          | 0/3 [00:00<?, ?it/s]"
      ]
     },
     "metadata": {},
     "output_type": "display_data"
    },
    {
     "data": {
      "application/vnd.jupyter.widget-view+json": {
       "model_id": "d154a916349e4e8eb3242e897b72671b",
       "version_major": 2,
       "version_minor": 0
      },
      "text/plain": [
       "Noise Level:   0%|          | 0/3 [00:00<?, ?it/s]"
      ]
     },
     "metadata": {},
     "output_type": "display_data"
    },
    {
     "data": {
      "application/vnd.jupyter.widget-view+json": {
       "model_id": "50b783e74bd940e79ea584442aa637bf",
       "version_major": 2,
       "version_minor": 0
      },
      "text/plain": [
       "Noise Level:   0%|          | 0/3 [00:00<?, ?it/s]"
      ]
     },
     "metadata": {},
     "output_type": "display_data"
    },
    {
     "data": {
      "application/vnd.jupyter.widget-view+json": {
       "model_id": "004a59b7a14f4ccabf3c37a47c672222",
       "version_major": 2,
       "version_minor": 0
      },
      "text/plain": [
       "Noise Level:   0%|          | 0/3 [00:00<?, ?it/s]"
      ]
     },
     "metadata": {},
     "output_type": "display_data"
    },
    {
     "data": {
      "application/vnd.jupyter.widget-view+json": {
       "model_id": "e595adc7d5d54cc2968a1de6d922d04e",
       "version_major": 2,
       "version_minor": 0
      },
      "text/plain": [
       "Noise Level:   0%|          | 0/3 [00:00<?, ?it/s]"
      ]
     },
     "metadata": {},
     "output_type": "display_data"
    },
    {
     "data": {
      "application/vnd.jupyter.widget-view+json": {
       "model_id": "ab0d3f0dab404577a959ee0d6c2ffe48",
       "version_major": 2,
       "version_minor": 0
      },
      "text/plain": [
       "Noise Level:   0%|          | 0/3 [00:00<?, ?it/s]"
      ]
     },
     "metadata": {},
     "output_type": "display_data"
    },
    {
     "data": {
      "application/vnd.jupyter.widget-view+json": {
       "model_id": "1a79b5d49f4d4f6988cf8241e1f7b0c8",
       "version_major": 2,
       "version_minor": 0
      },
      "text/plain": [
       "Noise Level:   0%|          | 0/3 [00:00<?, ?it/s]"
      ]
     },
     "metadata": {},
     "output_type": "display_data"
    }
   ],
   "source": [
    "main(\n",
    "    filename='/home/piriac/data/diffusion_curvature/Curvature_Colosseum_test.h5',\n",
    "    intrinsic_dims=[2,3,4],\n",
    "    num_manifolds_per_dim=3,\n",
    "    noise_levels=[0.0, 0.05, 0.1],\n",
    ")"
   ]
  }
 ],
 "metadata": {
  "kernelspec": {
   "display_name": "python3",
   "language": "python",
   "name": "python3"
  }
 },
 "nbformat": 4,
 "nbformat_minor": 4
}
