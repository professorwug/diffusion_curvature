{
 "cells": [
  {
   "cell_type": "code",
   "execution_count": 1,
   "metadata": {},
   "outputs": [],
   "source": [
    "#|default_exp construct_battery\n",
    "from diffusion_curvature.graphs import *\n",
    "from diffusion_curvature.datasets import *\n",
    "from diffusion_curvature.core import *\n",
    "from fastcore.all import *\n",
    "import numpy as np\n",
    "from nbdev import show_doc\n",
    "%load_ext autoreload\n",
    "%autoreload 2"
   ]
  },
  {
   "cell_type": "markdown",
   "metadata": {},
   "source": [
    "# 3a Construct Battery"
   ]
  },
  {
   "cell_type": "code",
   "execution_count": 2,
   "metadata": {},
   "outputs": [],
   "source": [
    "#|export\n",
    "from tqdm.auto import trange, tqdm\n",
    "from diffusion_curvature.random_surfaces import samples_from_random_surface\n",
    "from functools import partial\n",
    "def create_battery(\n",
    "        intrinsic_dims = [3,4,5,6],\n",
    "        codimensions = [1,2],\n",
    "        num_manifolds_per_dim = 10,\n",
    "        noise_levels = [0.0, 0.05, 0.1,0.2,0.3,0.5],\n",
    "):\n",
    "    CC = {}\n",
    "    CC['dims'] = intrinsic_dims\n",
    "    for d in tqdm(intrinsic_dims, desc=\"Intrinsic Dimension\"):\n",
    "        n_samples = 1000*2**d if d > 3 else 5000 # TODO: Rough heuristic\n",
    "        CC[d] = {}\n",
    "        CC[d]['codims'] = codimensions\n",
    "        for c in codimensions:\n",
    "            CC[d][c] = {}\n",
    "            CC[d][c]['noise_levels'] = noise_levels\n",
    "            for noise_level in tqdm(noise_levels, desc=\"Noise Level\", leave=False):\n",
    "                CC[d][c][noise_level] = {}\n",
    "                CC[d][c][noise_level][\"Xs\"] = []\n",
    "                CC[d][c][noise_level][\"k\"] = []\n",
    "                N = d+c\n",
    "                for i in trange(num_manifolds_per_dim, leave=False):\n",
    "                    X, k = samples_from_random_surface(n_samples, d, N, degree=2, noise_level=noise_level)\n",
    "                    # Turns out doing it in parallel messes with the random number generator\n",
    "                    # specified_sampler = partial(samples_from_random_surface, n_samples, d, N, degree=2, noise_level=noise_level)\n",
    "                    # results = perform_trials()\n",
    "                    CC[d][c][noise_level][\"Xs\"].append(X)\n",
    "                    CC[d][c][noise_level][\"k\"].append(k)\n",
    "    return CC"
   ]
  },
  {
   "cell_type": "code",
   "execution_count": 3,
   "metadata": {},
   "outputs": [],
   "source": [
    "#|export\n",
    "import os\n",
    "from fastcore.all import *\n",
    "import deepdish\n",
    "\n",
    "@call_parse\n",
    "def main(\n",
    "        filename:str=\"/home/piriac/data/diffusion_curvature/Curvature_Colosseum.h5\", # path to the sampled toy manifolds\n",
    "        intrinsic_dims:list=[2,3,4,5], # intrinsic dimensions of the toy manifolds\n",
    "        codimensions:list=[1,2,3,4], # codimensions of the toy manifolds\n",
    "        num_manifolds_per_dim:int=50, # number of toy manifolds per intrinsic dimension\n",
    "        noise_levels:list = [0.0, 0.05, 0.1,0.2,0.3,0.5],\n",
    "\n",
    "):\n",
    "    \"\"\"Constructs a battery of toy manifolds and saves it to disk in HDF5 format\"\"\"\n",
    "    print(f\"Sampling from {num_manifolds_per_dim} manifolds in dims {intrinsic_dims} with codims {codimensions} and noise level {noise_levels}. Saving to {filename}\")\n",
    "    CC = create_battery(\n",
    "        intrinsic_dims=intrinsic_dims,\n",
    "        codimensions = codimensions,\n",
    "        num_manifolds_per_dim=num_manifolds_per_dim,\n",
    "        noise_levels=noise_levels,\n",
    "    )\n",
    "    deepdish.io.save(filename, CC)\n",
    "    \n",
    "    "
   ]
  },
  {
   "cell_type": "code",
   "execution_count": 6,
   "metadata": {},
   "outputs": [
    {
     "name": "stdout",
     "output_type": "stream",
     "text": [
      "Sampling from 50 manifolds in dims [2, 3] with codims [1] and noise level [0.0]. Saving to /home/piriac/data/diffusion_curvature/Curvature_Colosseum_LowD_HighSampled.h5\n"
     ]
    },
    {
     "data": {
      "application/vnd.jupyter.widget-view+json": {
       "model_id": "21dcfb5651284daf8da3b44a7376360f",
       "version_major": 2,
       "version_minor": 0
      },
      "text/plain": [
       "Intrinsic Dimension:   0%|          | 0/2 [00:00<?, ?it/s]"
      ]
     },
     "metadata": {},
     "output_type": "display_data"
    },
    {
     "data": {
      "application/vnd.jupyter.widget-view+json": {
       "model_id": "",
       "version_major": 2,
       "version_minor": 0
      },
      "text/plain": [
       "Noise Level:   0%|          | 0/1 [00:00<?, ?it/s]"
      ]
     },
     "metadata": {},
     "output_type": "display_data"
    },
    {
     "data": {
      "application/vnd.jupyter.widget-view+json": {
       "model_id": "",
       "version_major": 2,
       "version_minor": 0
      },
      "text/plain": [
       "  0%|          | 0/50 [00:00<?, ?it/s]"
      ]
     },
     "metadata": {},
     "output_type": "display_data"
    },
    {
     "data": {
      "application/vnd.jupyter.widget-view+json": {
       "model_id": "",
       "version_major": 2,
       "version_minor": 0
      },
      "text/plain": [
       "Noise Level:   0%|          | 0/1 [00:00<?, ?it/s]"
      ]
     },
     "metadata": {},
     "output_type": "display_data"
    },
    {
     "data": {
      "application/vnd.jupyter.widget-view+json": {
       "model_id": "",
       "version_major": 2,
       "version_minor": 0
      },
      "text/plain": [
       "  0%|          | 0/50 [00:00<?, ?it/s]"
      ]
     },
     "metadata": {},
     "output_type": "display_data"
    }
   ],
   "source": [
    "main(\n",
    "    filename='/home/piriac/data/diffusion_curvature/Curvature_Colosseum_LowD_HighSampled.h5',\n",
    "    intrinsic_dims=[2,3],\n",
    "    codimensions= [1],\n",
    "    num_manifolds_per_dim=50,\n",
    "    noise_levels=[0.0],\n",
    ")"
   ]
  },
  {
   "cell_type": "code",
   "execution_count": null,
   "metadata": {},
   "outputs": [],
   "source": []
  }
 ],
 "metadata": {
  "kernelspec": {
   "display_name": "Python [conda env:diffusion_curvature]",
   "language": "python",
   "name": "conda-env-diffusion_curvature-py"
  },
  "language_info": {
   "codemirror_mode": {
    "name": "ipython",
    "version": 3
   },
   "file_extension": ".py",
   "mimetype": "text/x-python",
   "name": "python",
   "nbconvert_exporter": "python",
   "pygments_lexer": "ipython3",
   "version": "3.11.6"
  }
 },
 "nbformat": 4,
 "nbformat_minor": 4
}
