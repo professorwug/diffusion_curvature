{
 "cells": [
  {
   "cell_type": "markdown",
   "id": "acdf3057-b82f-475f-aa25-33680283c94c",
   "metadata": {},
   "source": [
    "# Explorations in Lazy-first Diffusion Curvature"
   ]
  },
  {
   "cell_type": "code",
   "execution_count": 2,
   "id": "dc32b40c-096a-494a-849a-95110410e893",
   "metadata": {},
   "outputs": [],
   "source": [
    "from diffusion_curvature.datasets import *"
   ]
  },
  {
   "cell_type": "code",
   "execution_count": 4,
   "id": "9934350b-9e30-4c5b-9ecb-76a301e68cd7",
   "metadata": {},
   "outputs": [
    {
     "ename": "SyntaxError",
     "evalue": "invalid syntax (380248663.py, line 4)",
     "output_type": "error",
     "traceback": [
      "\u001b[0;36m  Cell \u001b[0;32mIn[4], line 4\u001b[0;36m\u001b[0m\n\u001b[0;31m    k = 10,\u001b[0m\n\u001b[0m    ^\u001b[0m\n\u001b[0;31mSyntaxError\u001b[0m\u001b[0;31m:\u001b[0m invalid syntax\n"
     ]
    }
   ],
   "source": [
    "from sklearn.metrics import pairwise_distances\n",
    "def knn_kernel(\n",
    "    X\n",
    "    k = 10,\n",
    "):\n",
    "    D = pairwise_distances(X)\n",
    "    \n",
    "    "
   ]
  },
  {
   "cell_type": "code",
   "execution_count": null,
   "id": "7c0cd61b-b9ba-413e-bbbb-a85bdf064dc6",
   "metadata": {},
   "outputs": [],
   "source": []
  }
 ],
 "metadata": {
  "kernelspec": {
   "display_name": "diffusion-curvature",
   "language": "python",
   "name": "diffusion-curvature"
  },
  "language_info": {
   "codemirror_mode": {
    "name": "ipython",
    "version": 3
   },
   "file_extension": ".py",
   "mimetype": "text/x-python",
   "name": "python",
   "nbconvert_exporter": "python",
   "pygments_lexer": "ipython3",
   "version": "3.11.6"
  }
 },
 "nbformat": 4,
 "nbformat_minor": 5
}
