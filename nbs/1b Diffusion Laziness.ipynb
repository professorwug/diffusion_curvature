{
 "cells": [
  {
   "cell_type": "code",
   "execution_count": 2,
   "metadata": {},
   "outputs": [
    {
     "name": "stdout",
     "output_type": "stream",
     "text": [
      "The autoreload extension is already loaded. To reload it, use:\n",
      "  %reload_ext autoreload\n"
     ]
    }
   ],
   "source": [
    "#| default_exp diffusion_laziness\n",
    "# Diffusion Curvature utils\n",
    "from diffusion_curvature.utils import *\n",
    "from diffusion_curvature.datasets import *\n",
    "# Python necessities\n",
    "import numpy as np\n",
    "import jax\n",
    "import jax.numpy as jnp\n",
    "from fastcore.all import *\n",
    "import matplotlib.pyplot as plt\n",
    "# Notebook Helpers\n",
    "from nbdev.showdoc import *\n",
    "from tqdm.notebook import trange, tqdm\n",
    "%load_ext autoreload\n",
    "%autoreload 2"
   ]
  },
  {
   "cell_type": "markdown",
   "metadata": {},
   "source": [
    "# Diffusion Laziness Estimators\n",
    "> What's the shape of this diffusion?"
   ]
  },
  {
   "cell_type": "markdown",
   "metadata": {},
   "source": [
    "# Wasserstein Spread of Diffusion"
   ]
  },
  {
   "cell_type": "code",
   "execution_count": 3,
   "metadata": {},
   "outputs": [],
   "source": [
    "#|export\n",
    "import jax.numpy as jnp\n",
    "from jax import jit\n",
    "\n",
    "@jit\n",
    "def wasserstein_spread_of_diffusion(\n",
    "                D, # manifold geodesic distances\n",
    "                Pt, # powered diffusion matrix/t-step ehat diffusions\n",
    "                ):\n",
    "        \"\"\"\n",
    "        Returns how \"spread out\" each diffusion is, with wasserstein distance\n",
    "        Presumes that the manifold distances have been separately calculated\n",
    "        \"\"\"\n",
    "        return jnp.sum(D * Pt, axis=-1)"
   ]
  },
  {
   "cell_type": "markdown",
   "metadata": {},
   "source": [
    "### Benchmarking"
   ]
  },
  {
   "cell_type": "code",
   "execution_count": 25,
   "metadata": {},
   "outputs": [],
   "source": [
    "D = np.random.rand(1000,1000)\n",
    "Pt = np.random.rand(1000,1000)\n",
    "Pt = Pt / np.sum(Pt, axis=1)[:,None]"
   ]
  },
  {
   "cell_type": "code",
   "execution_count": 7,
   "metadata": {},
   "outputs": [
    {
     "name": "stdout",
     "output_type": "stream",
     "text": [
      "898 µs ± 8.72 µs per loop (mean ± std. dev. of 7 runs, 1,000 loops each)\n"
     ]
    }
   ],
   "source": [
    "%%timeit\n",
    "wasserstein_spread_of_diffusion(D,Pt)"
   ]
  },
  {
   "cell_type": "code",
   "execution_count": 10,
   "metadata": {},
   "outputs": [],
   "source": [
    "key = jax.random.PRNGKey(0)\n",
    "Djax = jax.random.normal(key, (1000, 1000))\n",
    "key = jax.random.PRNGKey(10)\n",
    "Ptjax = jax.random.normal(key, (1000, 1000))"
   ]
  },
  {
   "cell_type": "code",
   "execution_count": 11,
   "metadata": {},
   "outputs": [
    {
     "data": {
      "text/plain": [
       "Array(False, dtype=bool)"
      ]
     },
     "execution_count": 11,
     "metadata": {},
     "output_type": "execute_result"
    }
   ],
   "source": [
    "jnp.allclose(Djax,Ptjax)"
   ]
  },
  {
   "cell_type": "code",
   "execution_count": 12,
   "metadata": {},
   "outputs": [
    {
     "name": "stdout",
     "output_type": "stream",
     "text": [
      "20.8 µs ± 429 ns per loop (mean ± std. dev. of 7 runs, 100,000 loops each)\n"
     ]
    }
   ],
   "source": [
    "%%timeit\n",
    "wasserstein_spread_of_diffusion(Djax,Ptjax)"
   ]
  },
  {
   "cell_type": "markdown",
   "metadata": {},
   "source": [
    "Wow, it's nearly two orders of magnitude faster when using jax arrays."
   ]
  },
  {
   "cell_type": "markdown",
   "metadata": {},
   "source": [
    "# Entropy of Diffusion"
   ]
  },
  {
   "cell_type": "code",
   "execution_count": 14,
   "metadata": {},
   "outputs": [],
   "source": [
    "#|export\n",
    "import jax.scipy\n",
    "import jax.numpy as jnp\n",
    "# def entropy_of_diffusion(Pt):\n",
    "#         \"\"\"\n",
    "#         Returns the pointwise entropy of diffusion from the powered diffusion matrix in the input\n",
    "#         Assumes that Pt sums to 1\n",
    "#         \"\"\"\n",
    "#         Pt = (Pt + 1e-10) /(1 + 1e-10*Pt.shape[0]) # ensure, for differentiability, that there are no zeros in Pt, but that it still sums to 1.\n",
    "#         entropy_elementwise = jax.scipy.special.entr(Pt)\n",
    "#         entropy_of_rows = jnp.sum(entropy_elementwise, axis=-1)\n",
    "#         # normalize so max value is 1\n",
    "#         entropy_of_rows = entropy_of_rows / (-jnp.log(1/Pt.shape[0]))\n",
    "#         return entropy_of_rows\n",
    "def entropy_of_diffusion(Pt, epsilon=1e-10):\n",
    "        \"\"\"\n",
    "        Returns the pointwise entropy of diffusion from the powered diffusion matrix in the input\n",
    "        Assumes that Pt sums to 1\n",
    "        \"\"\"\n",
    "        # Pt = (Pt + 1e-10) /(1 + 1e-10*Pt.shape[0]) # ensure, for differentiability, that there are no zeros in Pt, but that it still sums to 1.\n",
    "        entropy_elementwise = jax.scipy.special.entr(Pt)\n",
    "        entropy_of_rows = jnp.sum(entropy_elementwise, axis=-1)\n",
    "        # normalize so max value is 1\n",
    "        # entropy_of_rows = entropy_of_rows / (-jnp.log(1/jnp.sum(Pt>epsilon, axis=-1)))\n",
    "        return entropy_of_rows"
   ]
  },
  {
   "cell_type": "code",
   "execution_count": 27,
   "metadata": {},
   "outputs": [],
   "source": [
    "from scipy.stats import entropy\n",
    "assert jnp.allclose(entropy_of_diffusion(Pt),entropy(Pt,axis=1))"
   ]
  },
  {
   "cell_type": "code",
   "execution_count": null,
   "metadata": {},
   "outputs": [],
   "source": []
  }
 ],
 "metadata": {
  "kernelspec": {
   "display_name": "diffusion_curvature",
   "language": "python",
   "name": "python3"
  },
  "language_info": {
   "codemirror_mode": {
    "name": "ipython",
    "version": 3
   },
   "file_extension": ".py",
   "mimetype": "text/x-python",
   "name": "python",
   "nbconvert_exporter": "python",
   "pygments_lexer": "ipython3",
   "version": "3.11.5"
  },
  "orig_nbformat": 4
 },
 "nbformat": 4,
 "nbformat_minor": 2
}
