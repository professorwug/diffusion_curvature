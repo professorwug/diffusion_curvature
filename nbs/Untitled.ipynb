{
 "cells": [
  {
   "cell_type": "code",
   "execution_count": null,
   "id": "7311100b-0834-4794-b94d-e54d24bfee6b",
   "metadata": {},
   "outputs": [],
   "source": [
    "#| default_exp experiments\n",
    "import numpy as np\n",
    "import matplotlib.pyplot as plt\n",
    "from fastcore.all import *\n",
    "# Project Specific Utils\n",
    "from diffusion_curvature.utils import *"
   ]
  },
  {
   "cell_type": "code",
   "execution_count": null,
   "id": "725b5e56-3f8b-4445-b923-868098856aec",
   "metadata": {},
   "outputs": [],
   "source": [
    "a = np.random.rand(20)*2-1"
   ]
  },
  {
   "cell_type": "code",
   "execution_count": null,
   "id": "1ed8dca5-c147-46c1-940c-6a5acd3e2e55",
   "metadata": {},
   "outputs": [
    {
     "data": {
      "text/plain": [
       "array([0., 0., 1., 0., 2., 2., 2., 0., 1., 2., 2., 0., 0., 1., 2., 0., 2.,\n",
       "       2., 2., 2.])"
      ]
     },
     "execution_count": null,
     "metadata": {},
     "output_type": "execute_result"
    }
   ],
   "source": [
    "np.ceil((np.abs(a) - a))"
   ]
  },
  {
   "cell_type": "code",
   "execution_count": null,
   "id": "11204d0b-422c-40c5-ab6c-ec7978d37299",
   "metadata": {},
   "outputs": [
    {
     "data": {
      "text/plain": [
       "array([1, 0, 0, 1, 0, 1, 0, 1, 0, 0, 1, 1, 1, 0, 0, 0, 0, 1, 1, 0])"
      ]
     },
     "execution_count": null,
     "metadata": {},
     "output_type": "execute_result"
    }
   ],
   "source": [
    "Your request seems to contain two separate commands: writing a function that greets a user, and executing a numpy expression.\n",
    "\n",
    "1. Here's the function that asks for the user's name and prints a greeting:\n",
    "\n",
    "```python\n",
    "def greet_user():\n",
    "    name = input(\"Please enter your name: \")\n",
    "    print(f\"Hello, {name}! Nice to meet you!\")\n",
    "```\n",
    "You can call this function with `greet_user()`. This will prompt the user to enter their name and then print a greeting that includes their name.\n",
    "\n",
    "2. The numpy expression you've given appears to compare the sign of a variable `a` with the sign of a random array of 20 elements (values ranging from -1 to 1) and returns an array of integers (0 if signs are different, 1 if they are the same):\n",
    "\n",
    "```python\n",
    "import numpy as np\n",
    "\n",
    "a = # your value here\n",
    "result = (np.sign(a) == np.sign(np.random.rand(20)*2-1)).astype(int)\n",
    "print(result)\n",
    "```\n",
    "\n",
    "Remember to replace `# your value here` with the actual value you want for `a`."
   ]
  },
  {
   "cell_type": "code",
   "execution_count": null,
   "id": "6e59f3ff-759f-4293-b584-6e672858d253",
   "metadata": {},
   "outputs": [],
   "source": []
  }
 ],
 "metadata": {
  "kernelspec": {
   "display_name": "diffusion-curvature",
   "language": "python",
   "name": "diffusion-curvature"
  }
 },
 "nbformat": 4,
 "nbformat_minor": 5
}
