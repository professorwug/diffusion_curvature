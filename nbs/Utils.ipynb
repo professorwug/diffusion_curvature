{
 "cells": [
  {
   "cell_type": "code",
   "execution_count": null,
   "metadata": {},
   "outputs": [],
   "source": [
    "#| default_exp utils\n",
    "# Diffusion Curvature utils\n",
    "# Python necessities\n",
    "import numpy as np\n",
    "from fastcore.all import *\n",
    "import matplotlib.pyplot as plt\n",
    "# Notebook Helpers\n",
    "from nbdev.showdoc import *\n",
    "from tqdm.notebook import trange, tqdm\n",
    "%load_ext autoreload\n",
    "%autoreload 2"
   ]
  },
  {
   "cell_type": "markdown",
   "metadata": {},
   "source": [
    "# Utils\n",
    "> Handy snippets for graph learning, some specific to diffusion curvature, some more general purpose."
   ]
  },
  {
   "cell_type": "markdown",
   "metadata": {},
   "source": [
    "Most are self explanatory. A small description is appended to those that aren't."
   ]
  },
  {
   "cell_type": "code",
   "execution_count": null,
   "metadata": {},
   "outputs": [],
   "source": [
    "#| export\n",
    "import numpy as np\n",
    "def kronecker_delta(\n",
    "        length, # length of array. If you pass an array or list, length is set to size of the first dimension.\n",
    "        idx=None # idx to make nonzero. If none, fills a random idx.\n",
    "        ):\n",
    "    \"\"\" returns np array of len with all zeroes except idx. \"\"\"\n",
    "    if not isinstance(length,int): length = len(length)\n",
    "    if idx is None: idx = np.random.randint(0,length)\n",
    "    x = np.zeros(length)\n",
    "    x[idx]=1\n",
    "    return x"
   ]
  },
  {
   "cell_type": "code",
   "execution_count": null,
   "metadata": {},
   "outputs": [],
   "source": [
    "#| export\n",
    "# For plotting 2D and 3D graphs\n",
    "import plotly\n",
    "import plotly.graph_objs as go\n",
    "import plotly.express as px\n",
    "import pandas as pd\n",
    "import matplotlib.pyplot as plt\n",
    "from mpl_toolkits import mplot3d\n",
    "\n",
    "def plot_3d(X,distribution=None, title=\"\",lim=None,use_plotly=False, zlim = None, colorbar = False, cmap=\"plasma\"):\n",
    "    if distribution is None:\n",
    "        distribution = np.zeros(len(X))\n",
    "    if lim is None:\n",
    "        lim = np.max(np.linalg.norm(X,axis=1))\n",
    "    if zlim is None:\n",
    "        zlim = lim\n",
    "    if use_plotly:\n",
    "        d = {'x':X[:,0],'y':X[:,1],'z':X[:,2],'colors':distribution}\n",
    "        df = pd.DataFrame(data=d)\n",
    "        fig = px.scatter_3d(df, x='x',y='y',z='z',color='colors', title=title, range_x=[-lim,lim], range_y=[-lim,lim],range_z=[-zlim,zlim])\n",
    "        fig.show()\n",
    "    else:\n",
    "        fig = plt.figure(figsize=(10,10))\n",
    "        ax = fig.add_subplot(111,projection='3d')\n",
    "        ax.axes.set_xlim3d(left=-lim, right=lim)\n",
    "        ax.axes.set_ylim3d(bottom=-lim, top=lim)\n",
    "        ax.axes.set_zlim3d(bottom=-zlim, top=zlim)\n",
    "        im = ax.scatter(X[:,0],X[:,1],X[:,2],c=distribution,cmap=cmap)\n",
    "        ax.set_title(title)\n",
    "        if colorbar: fig.colorbar(im, ax=ax)\n",
    "        plt.show()"
   ]
  },
  {
   "cell_type": "code",
   "execution_count": null,
   "metadata": {},
   "outputs": [],
   "source": [
    "#|export\n",
    "def perform_trials(fn,n_trials=10, **kwargs):\n",
    "    outs = []\n",
    "    for i in range(n_trials):\n",
    "        outs.append(fn(**kwargs))\n",
    "    return outs"
   ]
  },
  {
   "cell_type": "code",
   "execution_count": null,
   "metadata": {},
   "outputs": [],
   "source": [
    "#|export\n",
    "import seaborn as sns\n",
    "import matplotlib.pyplot as plt\n",
    "\n",
    "def plot_array(ratios, title=\"\"):\n",
    "    sns.set(style=\"darkgrid\")  # Set the seaborn style\n",
    "\n",
    "    # Create a figure and axes\n",
    "    fig, ax = plt.subplots()\n",
    "    # Compute the mean and standard deviation for the estimated array\n",
    "    mean_estimated = np.mean(ratios, axis=0)\n",
    "    std_estimated = np.std(ratios, axis=0)\n",
    "\n",
    "    # Plot estimated as a line with error bars\n",
    "    ax.errorbar(np.arange(ratios.shape[1]), mean_estimated, yerr=std_estimated, label=\"Estimated\")\n",
    "\n",
    "    # Set the labels for x-axis and y-axis\n",
    "    ax.set_xlabel(\"Radius\")\n",
    "    ax.set_ylabel(\"Volume of n-sphere\")\n",
    "\n",
    "    # Set the title of the plot\n",
    "    ax.set_title(title)\n",
    "\n",
    "    # Display the legend\n",
    "    ax.legend()\n",
    "\n",
    "    # Show the plot\n",
    "    plt.show()"
   ]
  }
 ],
 "metadata": {
  "language_info": {
   "name": "python"
  }
 },
 "nbformat": 4,
 "nbformat_minor": 2
}
