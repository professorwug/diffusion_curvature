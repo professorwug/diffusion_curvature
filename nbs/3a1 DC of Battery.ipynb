{
 "cells": [
  {
   "cell_type": "code",
   "execution_count": 7,
   "metadata": {},
   "outputs": [
    {
     "name": "stdout",
     "output_type": "stream",
     "text": [
      "The autoreload extension is already loaded. To reload it, use:\n",
      "  %reload_ext autoreload\n"
     ]
    }
   ],
   "source": [
    "#|default_exp compute_diffusion_curvature_of_battery\n",
    "from diffusion_curvature.graphs import *\n",
    "from diffusion_curvature.datasets import *\n",
    "from diffusion_curvature.core import *\n",
    "from fastcore.all import *\n",
    "import numpy as np\n",
    "from nbdev import show_doc\n",
    "%load_ext autoreload\n",
    "%autoreload 2"
   ]
  },
  {
   "cell_type": "markdown",
   "metadata": {},
   "source": [
    "# 3a1 Computing the diffusion curvature of the battery"
   ]
  },
  {
   "cell_type": "code",
   "execution_count": 8,
   "metadata": {},
   "outputs": [],
   "source": [
    "name = \"t32nodecayMeanFixedk15t25-fixedDimensionBug\""
   ]
  },
  {
   "cell_type": "code",
   "execution_count": 9,
   "metadata": {},
   "outputs": [],
   "source": [
    "import graphtools\n",
    "# from diffusion_curvature.graphtools import DiffusionCurvature\n",
    "from diffusion_curvature.core import DiffusionCurvature\n",
    "# def diffusion_curvature_of_pt_graphtools(u):\n",
    "#     X = u[0]\n",
    "#     dim = u[1]\n",
    "#     G = graphtools.Graph(X, anisotropy=1, knn=15)\n",
    "#     DC = DiffusionCurvature(t=15)\n",
    "#     G = DC.curvature(G, dimension=dim)\n",
    "#     return G.ks[0]\n",
    "def diffusion_curvature_of_pt(X, dim):\n",
    "    G = graphtools.Graph(X, anisotropy=1, knn=15, decay=None).to_pygsp()\n",
    "    DC = DiffusionCurvature(\n",
    "        laziness_method=\"Entropic\",\n",
    "        flattening_method=\"Mean Fixed\",\n",
    "        comparison_method=\"Subtraction\",\n",
    "        points_per_cluster=None, # construct separate comparison spaces around each point\n",
    "        comparison_space_size_factor=1\n",
    "    )\n",
    "    ks = DC.curvature(G, t=25, dim=dim, knn=15, idx=0)\n",
    "    return ks\n"
   ]
  },
  {
   "cell_type": "code",
   "execution_count": 10,
   "metadata": {},
   "outputs": [],
   "source": [
    "# load curvature battery\n",
    "import deepdish\n",
    "battery_file = \"/home/piriac/data/diffusion_curvature/Curvature_Colosseum_dikey.h5\"\n",
    "CC = deepdish.io.load(battery_file)"
   ]
  },
  {
   "cell_type": "code",
   "execution_count": 11,
   "metadata": {},
   "outputs": [],
   "source": [
    "#|export\n",
    "from tqdm.auto import tqdm, trange\n",
    "from fastcore.all import *\n",
    "# from fastprogress.fastprogress import master_bar, progress_bar\n",
    "# Iterate through the battery and compute the diffusion curvature\n",
    "# store it in a new dictionary\n",
    "def compute_curvature_on_battery(\n",
    "        curvature_function, # fn that, given X and dim, returns the curvature of the first point\n",
    "        CC, # the battery dictionary\n",
    "        ):\n",
    "    computed_curvature = {}\n",
    "    for d in tqdm(CC['dims'], desc=\"intrinsic dimensions\"):\n",
    "        computed_curvature[d] = {}\n",
    "        for c in tqdm(CC[d]['codims'], leave=False, desc='codimensions'):\n",
    "            computed_curvature[d][c] = {}\n",
    "            for noise_level in tqdm(CC[d][c]['noise_levels'], leave=False, desc=\"Noise Levels\"):\n",
    "                computed_curvature[d][c][noise_level] = {}\n",
    "                computed_curvature[d][c][noise_level]['k'] = []\n",
    "                # apply curvature function in parallel\n",
    "                # us = [(CC[d][c][noise_level]['Xs'][i], d) for i in range(len(CC[d][c][noise_level]['Xs']))]\n",
    "                # ks = parallel(curvature_function, us, n_workers=25)\n",
    "                # computed_curvature[d][c][noise_level]['k'] = ks\n",
    "                for i in trange(len(CC[d][c][noise_level]['Xs']), leave=False, desc=\"Samples\"):\n",
    "                    X = CC[d][c][noise_level]['Xs'][i]\n",
    "                    k = curvature_function(X, d)\n",
    "                    computed_curvature[d][c][noise_level]['k'].append(k)\n",
    "    return computed_curvature"
   ]
  },
  {
   "cell_type": "code",
   "execution_count": 12,
   "metadata": {},
   "outputs": [
    {
     "data": {
      "application/vnd.jupyter.widget-view+json": {
       "model_id": "cd822116a7664c13bd326b321c12ade7",
       "version_major": 2,
       "version_minor": 0
      },
      "text/plain": [
       "intrinsic dimensions:   0%|          | 0/4 [00:00<?, ?it/s]"
      ]
     },
     "metadata": {},
     "output_type": "display_data"
    },
    {
     "data": {
      "application/vnd.jupyter.widget-view+json": {
       "model_id": "a9cc07e1d35341158d19631f17034f07",
       "version_major": 2,
       "version_minor": 0
      },
      "text/plain": [
       "codimensions:   0%|          | 0/4 [00:00<?, ?it/s]"
      ]
     },
     "metadata": {},
     "output_type": "display_data"
    },
    {
     "data": {
      "application/vnd.jupyter.widget-view+json": {
       "model_id": "36722ba64f0a423a86e77bf6d2204733",
       "version_major": 2,
       "version_minor": 0
      },
      "text/plain": [
       "Noise Levels:   0%|          | 0/6 [00:00<?, ?it/s]"
      ]
     },
     "metadata": {},
     "output_type": "display_data"
    },
    {
     "data": {
      "application/vnd.jupyter.widget-view+json": {
       "model_id": "8d119761fc7c47ce85993162a71fd19c",
       "version_major": 2,
       "version_minor": 0
      },
      "text/plain": [
       "Samples:   0%|          | 0/50 [00:00<?, ?it/s]"
      ]
     },
     "metadata": {},
     "output_type": "display_data"
    },
    {
     "data": {
      "application/vnd.jupyter.widget-view+json": {
       "model_id": "02bc1d35333542ec8912da6439a19818",
       "version_major": 2,
       "version_minor": 0
      },
      "text/plain": [
       "Samples:   0%|          | 0/50 [00:00<?, ?it/s]"
      ]
     },
     "metadata": {},
     "output_type": "display_data"
    },
    {
     "data": {
      "application/vnd.jupyter.widget-view+json": {
       "model_id": "98dba08c944d429499867c7c7f6e2d94",
       "version_major": 2,
       "version_minor": 0
      },
      "text/plain": [
       "Samples:   0%|          | 0/50 [00:00<?, ?it/s]"
      ]
     },
     "metadata": {},
     "output_type": "display_data"
    },
    {
     "data": {
      "application/vnd.jupyter.widget-view+json": {
       "model_id": "9e13d21f9cba43509d433d17ad7aaf74",
       "version_major": 2,
       "version_minor": 0
      },
      "text/plain": [
       "Samples:   0%|          | 0/50 [00:00<?, ?it/s]"
      ]
     },
     "metadata": {},
     "output_type": "display_data"
    },
    {
     "data": {
      "application/vnd.jupyter.widget-view+json": {
       "model_id": "5b7722bc101d4b548beb1a7e61ca7bbd",
       "version_major": 2,
       "version_minor": 0
      },
      "text/plain": [
       "Samples:   0%|          | 0/50 [00:00<?, ?it/s]"
      ]
     },
     "metadata": {},
     "output_type": "display_data"
    },
    {
     "data": {
      "application/vnd.jupyter.widget-view+json": {
       "model_id": "d40304524e6b46259cc8b447c650cbae",
       "version_major": 2,
       "version_minor": 0
      },
      "text/plain": [
       "Samples:   0%|          | 0/50 [00:00<?, ?it/s]"
      ]
     },
     "metadata": {},
     "output_type": "display_data"
    },
    {
     "data": {
      "application/vnd.jupyter.widget-view+json": {
       "model_id": "6390f09edda648028811f5bf30c2209c",
       "version_major": 2,
       "version_minor": 0
      },
      "text/plain": [
       "Noise Levels:   0%|          | 0/6 [00:00<?, ?it/s]"
      ]
     },
     "metadata": {},
     "output_type": "display_data"
    },
    {
     "data": {
      "application/vnd.jupyter.widget-view+json": {
       "model_id": "108a510a51fe43b9aea2dbddf371a14f",
       "version_major": 2,
       "version_minor": 0
      },
      "text/plain": [
       "Samples:   0%|          | 0/50 [00:00<?, ?it/s]"
      ]
     },
     "metadata": {},
     "output_type": "display_data"
    },
    {
     "data": {
      "application/vnd.jupyter.widget-view+json": {
       "model_id": "1d7163483e3949f38bc16573b31ee2a1",
       "version_major": 2,
       "version_minor": 0
      },
      "text/plain": [
       "Samples:   0%|          | 0/50 [00:00<?, ?it/s]"
      ]
     },
     "metadata": {},
     "output_type": "display_data"
    },
    {
     "data": {
      "application/vnd.jupyter.widget-view+json": {
       "model_id": "3ae3862d50e74484bf7a5344e09d76f8",
       "version_major": 2,
       "version_minor": 0
      },
      "text/plain": [
       "Samples:   0%|          | 0/50 [00:00<?, ?it/s]"
      ]
     },
     "metadata": {},
     "output_type": "display_data"
    },
    {
     "data": {
      "application/vnd.jupyter.widget-view+json": {
       "model_id": "fefedb5295e7486f839e68b90259b14c",
       "version_major": 2,
       "version_minor": 0
      },
      "text/plain": [
       "Samples:   0%|          | 0/50 [00:00<?, ?it/s]"
      ]
     },
     "metadata": {},
     "output_type": "display_data"
    },
    {
     "data": {
      "application/vnd.jupyter.widget-view+json": {
       "model_id": "7a7de898703d4336a3caab96312a21d3",
       "version_major": 2,
       "version_minor": 0
      },
      "text/plain": [
       "Samples:   0%|          | 0/50 [00:00<?, ?it/s]"
      ]
     },
     "metadata": {},
     "output_type": "display_data"
    },
    {
     "data": {
      "application/vnd.jupyter.widget-view+json": {
       "model_id": "1fc400feddeb43a29f7656ea5cb0e01c",
       "version_major": 2,
       "version_minor": 0
      },
      "text/plain": [
       "Samples:   0%|          | 0/50 [00:00<?, ?it/s]"
      ]
     },
     "metadata": {},
     "output_type": "display_data"
    },
    {
     "data": {
      "application/vnd.jupyter.widget-view+json": {
       "model_id": "2ddcf6e3059e43af856c32be38747a14",
       "version_major": 2,
       "version_minor": 0
      },
      "text/plain": [
       "Noise Levels:   0%|          | 0/6 [00:00<?, ?it/s]"
      ]
     },
     "metadata": {},
     "output_type": "display_data"
    },
    {
     "data": {
      "application/vnd.jupyter.widget-view+json": {
       "model_id": "d6bcb7c67d984e69bba7d8f6741b020e",
       "version_major": 2,
       "version_minor": 0
      },
      "text/plain": [
       "Samples:   0%|          | 0/50 [00:00<?, ?it/s]"
      ]
     },
     "metadata": {},
     "output_type": "display_data"
    },
    {
     "data": {
      "application/vnd.jupyter.widget-view+json": {
       "model_id": "d68cd56ebbfe429ab2323f6423f66acd",
       "version_major": 2,
       "version_minor": 0
      },
      "text/plain": [
       "Samples:   0%|          | 0/50 [00:00<?, ?it/s]"
      ]
     },
     "metadata": {},
     "output_type": "display_data"
    },
    {
     "data": {
      "application/vnd.jupyter.widget-view+json": {
       "model_id": "9223e3d9a81b4d52a7073a58a55c34ea",
       "version_major": 2,
       "version_minor": 0
      },
      "text/plain": [
       "Samples:   0%|          | 0/50 [00:00<?, ?it/s]"
      ]
     },
     "metadata": {},
     "output_type": "display_data"
    },
    {
     "data": {
      "application/vnd.jupyter.widget-view+json": {
       "model_id": "5256a67956d04ff2b6f7d7405db02579",
       "version_major": 2,
       "version_minor": 0
      },
      "text/plain": [
       "Samples:   0%|          | 0/50 [00:00<?, ?it/s]"
      ]
     },
     "metadata": {},
     "output_type": "display_data"
    },
    {
     "data": {
      "application/vnd.jupyter.widget-view+json": {
       "model_id": "e6f2408815d8460cb77d2fcab1ad660d",
       "version_major": 2,
       "version_minor": 0
      },
      "text/plain": [
       "Samples:   0%|          | 0/50 [00:00<?, ?it/s]"
      ]
     },
     "metadata": {},
     "output_type": "display_data"
    },
    {
     "data": {
      "application/vnd.jupyter.widget-view+json": {
       "model_id": "56b1307524eb4054ae59faf6b392cfb7",
       "version_major": 2,
       "version_minor": 0
      },
      "text/plain": [
       "Samples:   0%|          | 0/50 [00:00<?, ?it/s]"
      ]
     },
     "metadata": {},
     "output_type": "display_data"
    },
    {
     "data": {
      "application/vnd.jupyter.widget-view+json": {
       "model_id": "fd3a1d370d76428db5efc472188ba64e",
       "version_major": 2,
       "version_minor": 0
      },
      "text/plain": [
       "Noise Levels:   0%|          | 0/6 [00:00<?, ?it/s]"
      ]
     },
     "metadata": {},
     "output_type": "display_data"
    },
    {
     "data": {
      "application/vnd.jupyter.widget-view+json": {
       "model_id": "d40b9eedf02542429191358d3fd53d0f",
       "version_major": 2,
       "version_minor": 0
      },
      "text/plain": [
       "Samples:   0%|          | 0/50 [00:00<?, ?it/s]"
      ]
     },
     "metadata": {},
     "output_type": "display_data"
    },
    {
     "data": {
      "application/vnd.jupyter.widget-view+json": {
       "model_id": "e2ac20d6034d43c48bb7c1ea05010009",
       "version_major": 2,
       "version_minor": 0
      },
      "text/plain": [
       "Samples:   0%|          | 0/50 [00:00<?, ?it/s]"
      ]
     },
     "metadata": {},
     "output_type": "display_data"
    },
    {
     "data": {
      "application/vnd.jupyter.widget-view+json": {
       "model_id": "857edcb1e2e9485d8b4b46c07be4aff0",
       "version_major": 2,
       "version_minor": 0
      },
      "text/plain": [
       "Samples:   0%|          | 0/50 [00:00<?, ?it/s]"
      ]
     },
     "metadata": {},
     "output_type": "display_data"
    },
    {
     "data": {
      "application/vnd.jupyter.widget-view+json": {
       "model_id": "26265d6f029f49f4babd42eaab4ce9f8",
       "version_major": 2,
       "version_minor": 0
      },
      "text/plain": [
       "Samples:   0%|          | 0/50 [00:00<?, ?it/s]"
      ]
     },
     "metadata": {},
     "output_type": "display_data"
    },
    {
     "data": {
      "application/vnd.jupyter.widget-view+json": {
       "model_id": "2ec5c126fdd84649bb4086f25ed05a58",
       "version_major": 2,
       "version_minor": 0
      },
      "text/plain": [
       "Samples:   0%|          | 0/50 [00:00<?, ?it/s]"
      ]
     },
     "metadata": {},
     "output_type": "display_data"
    },
    {
     "data": {
      "application/vnd.jupyter.widget-view+json": {
       "model_id": "eaeb63d3e54149949b3912e73f3f85a4",
       "version_major": 2,
       "version_minor": 0
      },
      "text/plain": [
       "Samples:   0%|          | 0/50 [00:00<?, ?it/s]"
      ]
     },
     "metadata": {},
     "output_type": "display_data"
    },
    {
     "data": {
      "application/vnd.jupyter.widget-view+json": {
       "model_id": "47c703987d3549038a0fe3b9dd0c09f1",
       "version_major": 2,
       "version_minor": 0
      },
      "text/plain": [
       "codimensions:   0%|          | 0/4 [00:00<?, ?it/s]"
      ]
     },
     "metadata": {},
     "output_type": "display_data"
    },
    {
     "data": {
      "application/vnd.jupyter.widget-view+json": {
       "model_id": "49abe5214b184feb8ab9962eb4ffc4c5",
       "version_major": 2,
       "version_minor": 0
      },
      "text/plain": [
       "Noise Levels:   0%|          | 0/6 [00:00<?, ?it/s]"
      ]
     },
     "metadata": {},
     "output_type": "display_data"
    },
    {
     "data": {
      "application/vnd.jupyter.widget-view+json": {
       "model_id": "84045a2be41b48139a11a27fb0539386",
       "version_major": 2,
       "version_minor": 0
      },
      "text/plain": [
       "Samples:   0%|          | 0/50 [00:00<?, ?it/s]"
      ]
     },
     "metadata": {},
     "output_type": "display_data"
    },
    {
     "data": {
      "application/vnd.jupyter.widget-view+json": {
       "model_id": "4ea116e6e2a24e43a6f25c34ce2409a4",
       "version_major": 2,
       "version_minor": 0
      },
      "text/plain": [
       "Samples:   0%|          | 0/50 [00:00<?, ?it/s]"
      ]
     },
     "metadata": {},
     "output_type": "display_data"
    },
    {
     "data": {
      "application/vnd.jupyter.widget-view+json": {
       "model_id": "4a96ae3280b544d0b3dc6a4510bbaade",
       "version_major": 2,
       "version_minor": 0
      },
      "text/plain": [
       "Samples:   0%|          | 0/50 [00:00<?, ?it/s]"
      ]
     },
     "metadata": {},
     "output_type": "display_data"
    },
    {
     "data": {
      "application/vnd.jupyter.widget-view+json": {
       "model_id": "0506eb2150e64b24a67ddee4a86c3498",
       "version_major": 2,
       "version_minor": 0
      },
      "text/plain": [
       "Samples:   0%|          | 0/50 [00:00<?, ?it/s]"
      ]
     },
     "metadata": {},
     "output_type": "display_data"
    },
    {
     "data": {
      "application/vnd.jupyter.widget-view+json": {
       "model_id": "3f076767ceb3402e905444b112242a87",
       "version_major": 2,
       "version_minor": 0
      },
      "text/plain": [
       "Samples:   0%|          | 0/50 [00:00<?, ?it/s]"
      ]
     },
     "metadata": {},
     "output_type": "display_data"
    },
    {
     "data": {
      "application/vnd.jupyter.widget-view+json": {
       "model_id": "6bea925eced84d3d8cac7b0b1da0cf25",
       "version_major": 2,
       "version_minor": 0
      },
      "text/plain": [
       "Samples:   0%|          | 0/50 [00:00<?, ?it/s]"
      ]
     },
     "metadata": {},
     "output_type": "display_data"
    },
    {
     "data": {
      "application/vnd.jupyter.widget-view+json": {
       "model_id": "74416d2e05234ae785f86898fcd6f685",
       "version_major": 2,
       "version_minor": 0
      },
      "text/plain": [
       "Noise Levels:   0%|          | 0/6 [00:00<?, ?it/s]"
      ]
     },
     "metadata": {},
     "output_type": "display_data"
    },
    {
     "data": {
      "application/vnd.jupyter.widget-view+json": {
       "model_id": "21e1b8515a39477084538dadbbf2d301",
       "version_major": 2,
       "version_minor": 0
      },
      "text/plain": [
       "Samples:   0%|          | 0/50 [00:00<?, ?it/s]"
      ]
     },
     "metadata": {},
     "output_type": "display_data"
    },
    {
     "data": {
      "application/vnd.jupyter.widget-view+json": {
       "model_id": "cb7561e17b284cbd85671269e6cb5c6a",
       "version_major": 2,
       "version_minor": 0
      },
      "text/plain": [
       "Samples:   0%|          | 0/50 [00:00<?, ?it/s]"
      ]
     },
     "metadata": {},
     "output_type": "display_data"
    },
    {
     "data": {
      "application/vnd.jupyter.widget-view+json": {
       "model_id": "e59c32c5d2b0467dac24a34d8fe30c0b",
       "version_major": 2,
       "version_minor": 0
      },
      "text/plain": [
       "Samples:   0%|          | 0/50 [00:00<?, ?it/s]"
      ]
     },
     "metadata": {},
     "output_type": "display_data"
    },
    {
     "data": {
      "application/vnd.jupyter.widget-view+json": {
       "model_id": "ea98b26a82af4bc7bfb74f20768d2c16",
       "version_major": 2,
       "version_minor": 0
      },
      "text/plain": [
       "Samples:   0%|          | 0/50 [00:00<?, ?it/s]"
      ]
     },
     "metadata": {},
     "output_type": "display_data"
    },
    {
     "data": {
      "application/vnd.jupyter.widget-view+json": {
       "model_id": "a940da78bec949549d5e31fbcb207c73",
       "version_major": 2,
       "version_minor": 0
      },
      "text/plain": [
       "Samples:   0%|          | 0/50 [00:00<?, ?it/s]"
      ]
     },
     "metadata": {},
     "output_type": "display_data"
    },
    {
     "data": {
      "application/vnd.jupyter.widget-view+json": {
       "model_id": "6ffbde61b5664e48acaa4af12c822de5",
       "version_major": 2,
       "version_minor": 0
      },
      "text/plain": [
       "Samples:   0%|          | 0/50 [00:00<?, ?it/s]"
      ]
     },
     "metadata": {},
     "output_type": "display_data"
    },
    {
     "data": {
      "application/vnd.jupyter.widget-view+json": {
       "model_id": "ea2f8fe834164fcfa92fd96ad8a5a35f",
       "version_major": 2,
       "version_minor": 0
      },
      "text/plain": [
       "Noise Levels:   0%|          | 0/6 [00:00<?, ?it/s]"
      ]
     },
     "metadata": {},
     "output_type": "display_data"
    },
    {
     "data": {
      "application/vnd.jupyter.widget-view+json": {
       "model_id": "606205fcd8d64a3cb9e756b84c85833a",
       "version_major": 2,
       "version_minor": 0
      },
      "text/plain": [
       "Samples:   0%|          | 0/50 [00:00<?, ?it/s]"
      ]
     },
     "metadata": {},
     "output_type": "display_data"
    },
    {
     "data": {
      "application/vnd.jupyter.widget-view+json": {
       "model_id": "7a6e7c84ff6a436b99fad5f1936425f8",
       "version_major": 2,
       "version_minor": 0
      },
      "text/plain": [
       "Samples:   0%|          | 0/50 [00:00<?, ?it/s]"
      ]
     },
     "metadata": {},
     "output_type": "display_data"
    },
    {
     "data": {
      "application/vnd.jupyter.widget-view+json": {
       "model_id": "1608fb76e61046ceb1fe6e589a3724fe",
       "version_major": 2,
       "version_minor": 0
      },
      "text/plain": [
       "Samples:   0%|          | 0/50 [00:00<?, ?it/s]"
      ]
     },
     "metadata": {},
     "output_type": "display_data"
    },
    {
     "data": {
      "application/vnd.jupyter.widget-view+json": {
       "model_id": "f2acb5b14d3844c8aac3b031f7d9ce34",
       "version_major": 2,
       "version_minor": 0
      },
      "text/plain": [
       "Samples:   0%|          | 0/50 [00:00<?, ?it/s]"
      ]
     },
     "metadata": {},
     "output_type": "display_data"
    },
    {
     "data": {
      "application/vnd.jupyter.widget-view+json": {
       "model_id": "f103ac2f954b4e1eb519428392f716a6",
       "version_major": 2,
       "version_minor": 0
      },
      "text/plain": [
       "Samples:   0%|          | 0/50 [00:00<?, ?it/s]"
      ]
     },
     "metadata": {},
     "output_type": "display_data"
    },
    {
     "data": {
      "application/vnd.jupyter.widget-view+json": {
       "model_id": "7b75f4f6fecb447fa1c0282cb9a40f2c",
       "version_major": 2,
       "version_minor": 0
      },
      "text/plain": [
       "Samples:   0%|          | 0/50 [00:00<?, ?it/s]"
      ]
     },
     "metadata": {},
     "output_type": "display_data"
    },
    {
     "data": {
      "application/vnd.jupyter.widget-view+json": {
       "model_id": "da4b49568f264fc7b2f33f2a69460449",
       "version_major": 2,
       "version_minor": 0
      },
      "text/plain": [
       "Noise Levels:   0%|          | 0/6 [00:00<?, ?it/s]"
      ]
     },
     "metadata": {},
     "output_type": "display_data"
    },
    {
     "data": {
      "application/vnd.jupyter.widget-view+json": {
       "model_id": "ad0cc8d29b894240979075eec0af0bd4",
       "version_major": 2,
       "version_minor": 0
      },
      "text/plain": [
       "Samples:   0%|          | 0/50 [00:00<?, ?it/s]"
      ]
     },
     "metadata": {},
     "output_type": "display_data"
    },
    {
     "data": {
      "application/vnd.jupyter.widget-view+json": {
       "model_id": "de4e3ea010c744f3a2335cd820bb4fc9",
       "version_major": 2,
       "version_minor": 0
      },
      "text/plain": [
       "Samples:   0%|          | 0/50 [00:00<?, ?it/s]"
      ]
     },
     "metadata": {},
     "output_type": "display_data"
    },
    {
     "data": {
      "application/vnd.jupyter.widget-view+json": {
       "model_id": "0df1813997de40e49cfcf29f277f3ba3",
       "version_major": 2,
       "version_minor": 0
      },
      "text/plain": [
       "Samples:   0%|          | 0/50 [00:00<?, ?it/s]"
      ]
     },
     "metadata": {},
     "output_type": "display_data"
    },
    {
     "data": {
      "application/vnd.jupyter.widget-view+json": {
       "model_id": "c3160d44438a40bfb9ad396073120816",
       "version_major": 2,
       "version_minor": 0
      },
      "text/plain": [
       "Samples:   0%|          | 0/50 [00:00<?, ?it/s]"
      ]
     },
     "metadata": {},
     "output_type": "display_data"
    },
    {
     "data": {
      "application/vnd.jupyter.widget-view+json": {
       "model_id": "0084f230bbb84b1d9eb9e79e4e9e3824",
       "version_major": 2,
       "version_minor": 0
      },
      "text/plain": [
       "Samples:   0%|          | 0/50 [00:00<?, ?it/s]"
      ]
     },
     "metadata": {},
     "output_type": "display_data"
    },
    {
     "data": {
      "application/vnd.jupyter.widget-view+json": {
       "model_id": "bd5b1e4a86504b119f78f2c074d13b58",
       "version_major": 2,
       "version_minor": 0
      },
      "text/plain": [
       "Samples:   0%|          | 0/50 [00:00<?, ?it/s]"
      ]
     },
     "metadata": {},
     "output_type": "display_data"
    },
    {
     "data": {
      "application/vnd.jupyter.widget-view+json": {
       "model_id": "cb947f6cfbb740b19e7632eca806e94b",
       "version_major": 2,
       "version_minor": 0
      },
      "text/plain": [
       "codimensions:   0%|          | 0/4 [00:00<?, ?it/s]"
      ]
     },
     "metadata": {},
     "output_type": "display_data"
    },
    {
     "data": {
      "application/vnd.jupyter.widget-view+json": {
       "model_id": "e2b641df1e7c4c3e841aade84122675f",
       "version_major": 2,
       "version_minor": 0
      },
      "text/plain": [
       "Noise Levels:   0%|          | 0/6 [00:00<?, ?it/s]"
      ]
     },
     "metadata": {},
     "output_type": "display_data"
    },
    {
     "data": {
      "application/vnd.jupyter.widget-view+json": {
       "model_id": "969143bd92a4423180d4f6b6cb45308e",
       "version_major": 2,
       "version_minor": 0
      },
      "text/plain": [
       "Samples:   0%|          | 0/50 [00:00<?, ?it/s]"
      ]
     },
     "metadata": {},
     "output_type": "display_data"
    },
    {
     "data": {
      "application/vnd.jupyter.widget-view+json": {
       "model_id": "97ad266305214b4f9be44d9947e6064f",
       "version_major": 2,
       "version_minor": 0
      },
      "text/plain": [
       "Samples:   0%|          | 0/50 [00:00<?, ?it/s]"
      ]
     },
     "metadata": {},
     "output_type": "display_data"
    },
    {
     "data": {
      "application/vnd.jupyter.widget-view+json": {
       "model_id": "28ee704242bb4e459b6485e030bf1608",
       "version_major": 2,
       "version_minor": 0
      },
      "text/plain": [
       "Samples:   0%|          | 0/50 [00:00<?, ?it/s]"
      ]
     },
     "metadata": {},
     "output_type": "display_data"
    },
    {
     "data": {
      "application/vnd.jupyter.widget-view+json": {
       "model_id": "d6a0198b60e44d4e830231a42b083799",
       "version_major": 2,
       "version_minor": 0
      },
      "text/plain": [
       "Samples:   0%|          | 0/50 [00:00<?, ?it/s]"
      ]
     },
     "metadata": {},
     "output_type": "display_data"
    },
    {
     "data": {
      "application/vnd.jupyter.widget-view+json": {
       "model_id": "0e76b9185f334af59b55eff64c6ced67",
       "version_major": 2,
       "version_minor": 0
      },
      "text/plain": [
       "Samples:   0%|          | 0/50 [00:00<?, ?it/s]"
      ]
     },
     "metadata": {},
     "output_type": "display_data"
    },
    {
     "data": {
      "application/vnd.jupyter.widget-view+json": {
       "model_id": "931f7911ad2a404192a13a57a8ffd1d2",
       "version_major": 2,
       "version_minor": 0
      },
      "text/plain": [
       "Samples:   0%|          | 0/50 [00:00<?, ?it/s]"
      ]
     },
     "metadata": {},
     "output_type": "display_data"
    },
    {
     "data": {
      "application/vnd.jupyter.widget-view+json": {
       "model_id": "e58db6a37d6e43bda15885526cda0078",
       "version_major": 2,
       "version_minor": 0
      },
      "text/plain": [
       "Noise Levels:   0%|          | 0/6 [00:00<?, ?it/s]"
      ]
     },
     "metadata": {},
     "output_type": "display_data"
    },
    {
     "data": {
      "application/vnd.jupyter.widget-view+json": {
       "model_id": "6dd6c7678a5744c3859785c6d59a172b",
       "version_major": 2,
       "version_minor": 0
      },
      "text/plain": [
       "Samples:   0%|          | 0/50 [00:00<?, ?it/s]"
      ]
     },
     "metadata": {},
     "output_type": "display_data"
    },
    {
     "data": {
      "application/vnd.jupyter.widget-view+json": {
       "model_id": "13e87c8ccde847d897483c1c0ea6dc16",
       "version_major": 2,
       "version_minor": 0
      },
      "text/plain": [
       "Samples:   0%|          | 0/50 [00:00<?, ?it/s]"
      ]
     },
     "metadata": {},
     "output_type": "display_data"
    },
    {
     "data": {
      "application/vnd.jupyter.widget-view+json": {
       "model_id": "e21f931a64d545de98066b08de94fe37",
       "version_major": 2,
       "version_minor": 0
      },
      "text/plain": [
       "Samples:   0%|          | 0/50 [00:00<?, ?it/s]"
      ]
     },
     "metadata": {},
     "output_type": "display_data"
    },
    {
     "data": {
      "application/vnd.jupyter.widget-view+json": {
       "model_id": "0fe109b68aeb4bd9bb2a2379f80ff9fc",
       "version_major": 2,
       "version_minor": 0
      },
      "text/plain": [
       "Samples:   0%|          | 0/50 [00:00<?, ?it/s]"
      ]
     },
     "metadata": {},
     "output_type": "display_data"
    },
    {
     "data": {
      "application/vnd.jupyter.widget-view+json": {
       "model_id": "2fa946c01beb4fbe941d34b09a6392a6",
       "version_major": 2,
       "version_minor": 0
      },
      "text/plain": [
       "Samples:   0%|          | 0/50 [00:00<?, ?it/s]"
      ]
     },
     "metadata": {},
     "output_type": "display_data"
    },
    {
     "data": {
      "application/vnd.jupyter.widget-view+json": {
       "model_id": "735a5b0f14eb409f81eb3346e3e0c297",
       "version_major": 2,
       "version_minor": 0
      },
      "text/plain": [
       "Samples:   0%|          | 0/50 [00:00<?, ?it/s]"
      ]
     },
     "metadata": {},
     "output_type": "display_data"
    },
    {
     "data": {
      "application/vnd.jupyter.widget-view+json": {
       "model_id": "26097f8e824743baab440f77427c2e25",
       "version_major": 2,
       "version_minor": 0
      },
      "text/plain": [
       "Noise Levels:   0%|          | 0/6 [00:00<?, ?it/s]"
      ]
     },
     "metadata": {},
     "output_type": "display_data"
    },
    {
     "data": {
      "application/vnd.jupyter.widget-view+json": {
       "model_id": "ba0078915f194e4cbac0f07d29eadf56",
       "version_major": 2,
       "version_minor": 0
      },
      "text/plain": [
       "Samples:   0%|          | 0/50 [00:00<?, ?it/s]"
      ]
     },
     "metadata": {},
     "output_type": "display_data"
    },
    {
     "data": {
      "application/vnd.jupyter.widget-view+json": {
       "model_id": "c12b77bd72ea4309b671f8148c3926fe",
       "version_major": 2,
       "version_minor": 0
      },
      "text/plain": [
       "Samples:   0%|          | 0/50 [00:00<?, ?it/s]"
      ]
     },
     "metadata": {},
     "output_type": "display_data"
    },
    {
     "data": {
      "application/vnd.jupyter.widget-view+json": {
       "model_id": "93b688d91109472bbd5f4ade18bb28bb",
       "version_major": 2,
       "version_minor": 0
      },
      "text/plain": [
       "Samples:   0%|          | 0/50 [00:00<?, ?it/s]"
      ]
     },
     "metadata": {},
     "output_type": "display_data"
    },
    {
     "data": {
      "application/vnd.jupyter.widget-view+json": {
       "model_id": "8d7e1ce97dbd4c9699c7ce234a38fbea",
       "version_major": 2,
       "version_minor": 0
      },
      "text/plain": [
       "Samples:   0%|          | 0/50 [00:00<?, ?it/s]"
      ]
     },
     "metadata": {},
     "output_type": "display_data"
    },
    {
     "data": {
      "application/vnd.jupyter.widget-view+json": {
       "model_id": "73124edf41df462e9b0e00e9e155c362",
       "version_major": 2,
       "version_minor": 0
      },
      "text/plain": [
       "Samples:   0%|          | 0/50 [00:00<?, ?it/s]"
      ]
     },
     "metadata": {},
     "output_type": "display_data"
    },
    {
     "data": {
      "application/vnd.jupyter.widget-view+json": {
       "model_id": "c665e78e5de142619423b8552049898b",
       "version_major": 2,
       "version_minor": 0
      },
      "text/plain": [
       "Samples:   0%|          | 0/50 [00:00<?, ?it/s]"
      ]
     },
     "metadata": {},
     "output_type": "display_data"
    },
    {
     "data": {
      "application/vnd.jupyter.widget-view+json": {
       "model_id": "06977ac98461491099a3614ecfefddb4",
       "version_major": 2,
       "version_minor": 0
      },
      "text/plain": [
       "Noise Levels:   0%|          | 0/6 [00:00<?, ?it/s]"
      ]
     },
     "metadata": {},
     "output_type": "display_data"
    },
    {
     "data": {
      "application/vnd.jupyter.widget-view+json": {
       "model_id": "5e91a967e8914173bb08cf7a29f8a30d",
       "version_major": 2,
       "version_minor": 0
      },
      "text/plain": [
       "Samples:   0%|          | 0/50 [00:00<?, ?it/s]"
      ]
     },
     "metadata": {},
     "output_type": "display_data"
    },
    {
     "data": {
      "application/vnd.jupyter.widget-view+json": {
       "model_id": "15b2eb50949b4cb3b0ea34fb6f867bf2",
       "version_major": 2,
       "version_minor": 0
      },
      "text/plain": [
       "Samples:   0%|          | 0/50 [00:00<?, ?it/s]"
      ]
     },
     "metadata": {},
     "output_type": "display_data"
    },
    {
     "data": {
      "application/vnd.jupyter.widget-view+json": {
       "model_id": "f42bca025ceb4d3a95f9a5f177dd0cdc",
       "version_major": 2,
       "version_minor": 0
      },
      "text/plain": [
       "Samples:   0%|          | 0/50 [00:00<?, ?it/s]"
      ]
     },
     "metadata": {},
     "output_type": "display_data"
    },
    {
     "data": {
      "application/vnd.jupyter.widget-view+json": {
       "model_id": "cf6e1f2b2faa4b2e9a82b6c51c637f05",
       "version_major": 2,
       "version_minor": 0
      },
      "text/plain": [
       "Samples:   0%|          | 0/50 [00:00<?, ?it/s]"
      ]
     },
     "metadata": {},
     "output_type": "display_data"
    },
    {
     "data": {
      "application/vnd.jupyter.widget-view+json": {
       "model_id": "3472c785c16846f7b50f070659697785",
       "version_major": 2,
       "version_minor": 0
      },
      "text/plain": [
       "Samples:   0%|          | 0/50 [00:00<?, ?it/s]"
      ]
     },
     "metadata": {},
     "output_type": "display_data"
    },
    {
     "data": {
      "application/vnd.jupyter.widget-view+json": {
       "model_id": "ce3bffc175dc44809b88f45f45e656aa",
       "version_major": 2,
       "version_minor": 0
      },
      "text/plain": [
       "Samples:   0%|          | 0/50 [00:00<?, ?it/s]"
      ]
     },
     "metadata": {},
     "output_type": "display_data"
    },
    {
     "data": {
      "application/vnd.jupyter.widget-view+json": {
       "model_id": "e7a58774e8f942a0a46c4bfdf082812d",
       "version_major": 2,
       "version_minor": 0
      },
      "text/plain": [
       "codimensions:   0%|          | 0/4 [00:00<?, ?it/s]"
      ]
     },
     "metadata": {},
     "output_type": "display_data"
    },
    {
     "data": {
      "application/vnd.jupyter.widget-view+json": {
       "model_id": "4750d664f10d4c688e11c141e31d36d8",
       "version_major": 2,
       "version_minor": 0
      },
      "text/plain": [
       "Noise Levels:   0%|          | 0/6 [00:00<?, ?it/s]"
      ]
     },
     "metadata": {},
     "output_type": "display_data"
    },
    {
     "data": {
      "application/vnd.jupyter.widget-view+json": {
       "model_id": "69285442218c498f9f1b4b02fd818c86",
       "version_major": 2,
       "version_minor": 0
      },
      "text/plain": [
       "Samples:   0%|          | 0/50 [00:00<?, ?it/s]"
      ]
     },
     "metadata": {},
     "output_type": "display_data"
    },
    {
     "data": {
      "application/vnd.jupyter.widget-view+json": {
       "model_id": "40d274805dc548ee9c9b4bca573392a8",
       "version_major": 2,
       "version_minor": 0
      },
      "text/plain": [
       "Samples:   0%|          | 0/50 [00:00<?, ?it/s]"
      ]
     },
     "metadata": {},
     "output_type": "display_data"
    },
    {
     "data": {
      "application/vnd.jupyter.widget-view+json": {
       "model_id": "b51b5da9bc3342029d479b1d1dd77e42",
       "version_major": 2,
       "version_minor": 0
      },
      "text/plain": [
       "Samples:   0%|          | 0/50 [00:00<?, ?it/s]"
      ]
     },
     "metadata": {},
     "output_type": "display_data"
    },
    {
     "data": {
      "application/vnd.jupyter.widget-view+json": {
       "model_id": "f1a9af08d65d4d73b05a57e9fa54fba1",
       "version_major": 2,
       "version_minor": 0
      },
      "text/plain": [
       "Samples:   0%|          | 0/50 [00:00<?, ?it/s]"
      ]
     },
     "metadata": {},
     "output_type": "display_data"
    },
    {
     "data": {
      "application/vnd.jupyter.widget-view+json": {
       "model_id": "86e0be89e5b1418d89a2e5b737af6304",
       "version_major": 2,
       "version_minor": 0
      },
      "text/plain": [
       "Samples:   0%|          | 0/50 [00:00<?, ?it/s]"
      ]
     },
     "metadata": {},
     "output_type": "display_data"
    },
    {
     "data": {
      "application/vnd.jupyter.widget-view+json": {
       "model_id": "8d3043a4c23d418d906f0a22652155d2",
       "version_major": 2,
       "version_minor": 0
      },
      "text/plain": [
       "Samples:   0%|          | 0/50 [00:00<?, ?it/s]"
      ]
     },
     "metadata": {},
     "output_type": "display_data"
    },
    {
     "data": {
      "application/vnd.jupyter.widget-view+json": {
       "model_id": "bca70ff572034db0a524613380352281",
       "version_major": 2,
       "version_minor": 0
      },
      "text/plain": [
       "Noise Levels:   0%|          | 0/6 [00:00<?, ?it/s]"
      ]
     },
     "metadata": {},
     "output_type": "display_data"
    },
    {
     "data": {
      "application/vnd.jupyter.widget-view+json": {
       "model_id": "676588db54c14779b10b94812e2293a9",
       "version_major": 2,
       "version_minor": 0
      },
      "text/plain": [
       "Samples:   0%|          | 0/50 [00:00<?, ?it/s]"
      ]
     },
     "metadata": {},
     "output_type": "display_data"
    },
    {
     "data": {
      "application/vnd.jupyter.widget-view+json": {
       "model_id": "fd8c21832d874e88ad8717031de9a6fc",
       "version_major": 2,
       "version_minor": 0
      },
      "text/plain": [
       "Samples:   0%|          | 0/50 [00:00<?, ?it/s]"
      ]
     },
     "metadata": {},
     "output_type": "display_data"
    },
    {
     "data": {
      "application/vnd.jupyter.widget-view+json": {
       "model_id": "ac320c3c631e417ab66db5e344a42215",
       "version_major": 2,
       "version_minor": 0
      },
      "text/plain": [
       "Samples:   0%|          | 0/50 [00:00<?, ?it/s]"
      ]
     },
     "metadata": {},
     "output_type": "display_data"
    },
    {
     "data": {
      "application/vnd.jupyter.widget-view+json": {
       "model_id": "3a3a669894d342018efee4d01882dcec",
       "version_major": 2,
       "version_minor": 0
      },
      "text/plain": [
       "Samples:   0%|          | 0/50 [00:00<?, ?it/s]"
      ]
     },
     "metadata": {},
     "output_type": "display_data"
    },
    {
     "data": {
      "application/vnd.jupyter.widget-view+json": {
       "model_id": "0c14e94b45b3407e8b9c5c5c5e600744",
       "version_major": 2,
       "version_minor": 0
      },
      "text/plain": [
       "Samples:   0%|          | 0/50 [00:00<?, ?it/s]"
      ]
     },
     "metadata": {},
     "output_type": "display_data"
    },
    {
     "data": {
      "application/vnd.jupyter.widget-view+json": {
       "model_id": "c7bfd61792d04493ad818ccf8b68a3a8",
       "version_major": 2,
       "version_minor": 0
      },
      "text/plain": [
       "Samples:   0%|          | 0/50 [00:00<?, ?it/s]"
      ]
     },
     "metadata": {},
     "output_type": "display_data"
    },
    {
     "data": {
      "application/vnd.jupyter.widget-view+json": {
       "model_id": "01dd09118c534a49bbfe4bbe1551593a",
       "version_major": 2,
       "version_minor": 0
      },
      "text/plain": [
       "Noise Levels:   0%|          | 0/6 [00:00<?, ?it/s]"
      ]
     },
     "metadata": {},
     "output_type": "display_data"
    },
    {
     "data": {
      "application/vnd.jupyter.widget-view+json": {
       "model_id": "cf450d42ae974957b4bb66ebc115350f",
       "version_major": 2,
       "version_minor": 0
      },
      "text/plain": [
       "Samples:   0%|          | 0/50 [00:00<?, ?it/s]"
      ]
     },
     "metadata": {},
     "output_type": "display_data"
    },
    {
     "data": {
      "application/vnd.jupyter.widget-view+json": {
       "model_id": "3c91fc44821d4131befea395bda3c32e",
       "version_major": 2,
       "version_minor": 0
      },
      "text/plain": [
       "Samples:   0%|          | 0/50 [00:00<?, ?it/s]"
      ]
     },
     "metadata": {},
     "output_type": "display_data"
    },
    {
     "data": {
      "application/vnd.jupyter.widget-view+json": {
       "model_id": "51f18f8e1799430997746a667d58dd4a",
       "version_major": 2,
       "version_minor": 0
      },
      "text/plain": [
       "Samples:   0%|          | 0/50 [00:00<?, ?it/s]"
      ]
     },
     "metadata": {},
     "output_type": "display_data"
    },
    {
     "data": {
      "application/vnd.jupyter.widget-view+json": {
       "model_id": "eff7fc20113b4d1587f6b193048ec344",
       "version_major": 2,
       "version_minor": 0
      },
      "text/plain": [
       "Samples:   0%|          | 0/50 [00:00<?, ?it/s]"
      ]
     },
     "metadata": {},
     "output_type": "display_data"
    },
    {
     "data": {
      "application/vnd.jupyter.widget-view+json": {
       "model_id": "56ebbe6d27334711879281d26ba03385",
       "version_major": 2,
       "version_minor": 0
      },
      "text/plain": [
       "Samples:   0%|          | 0/50 [00:00<?, ?it/s]"
      ]
     },
     "metadata": {},
     "output_type": "display_data"
    },
    {
     "data": {
      "application/vnd.jupyter.widget-view+json": {
       "model_id": "0b13cdf469be4a0097c47f0f9e1f79ea",
       "version_major": 2,
       "version_minor": 0
      },
      "text/plain": [
       "Samples:   0%|          | 0/50 [00:00<?, ?it/s]"
      ]
     },
     "metadata": {},
     "output_type": "display_data"
    },
    {
     "data": {
      "application/vnd.jupyter.widget-view+json": {
       "model_id": "c2a67406ffee448e9c2a0b4948e6f0c8",
       "version_major": 2,
       "version_minor": 0
      },
      "text/plain": [
       "Noise Levels:   0%|          | 0/6 [00:00<?, ?it/s]"
      ]
     },
     "metadata": {},
     "output_type": "display_data"
    },
    {
     "data": {
      "application/vnd.jupyter.widget-view+json": {
       "model_id": "ff905faf004548549e3e8fdab0e66074",
       "version_major": 2,
       "version_minor": 0
      },
      "text/plain": [
       "Samples:   0%|          | 0/50 [00:00<?, ?it/s]"
      ]
     },
     "metadata": {},
     "output_type": "display_data"
    },
    {
     "data": {
      "application/vnd.jupyter.widget-view+json": {
       "model_id": "69ccb776221d41918d489810564a4264",
       "version_major": 2,
       "version_minor": 0
      },
      "text/plain": [
       "Samples:   0%|          | 0/50 [00:00<?, ?it/s]"
      ]
     },
     "metadata": {},
     "output_type": "display_data"
    },
    {
     "data": {
      "application/vnd.jupyter.widget-view+json": {
       "model_id": "79cd4c9f7ec94d0b80df651a1dddb90d",
       "version_major": 2,
       "version_minor": 0
      },
      "text/plain": [
       "Samples:   0%|          | 0/50 [00:00<?, ?it/s]"
      ]
     },
     "metadata": {},
     "output_type": "display_data"
    },
    {
     "data": {
      "application/vnd.jupyter.widget-view+json": {
       "model_id": "a3d501aa7c6c4aafa105e714bd364d48",
       "version_major": 2,
       "version_minor": 0
      },
      "text/plain": [
       "Samples:   0%|          | 0/50 [00:00<?, ?it/s]"
      ]
     },
     "metadata": {},
     "output_type": "display_data"
    },
    {
     "data": {
      "application/vnd.jupyter.widget-view+json": {
       "model_id": "7584a8203b564550b66c9c34ef5d8a6f",
       "version_major": 2,
       "version_minor": 0
      },
      "text/plain": [
       "Samples:   0%|          | 0/50 [00:00<?, ?it/s]"
      ]
     },
     "metadata": {},
     "output_type": "display_data"
    },
    {
     "data": {
      "application/vnd.jupyter.widget-view+json": {
       "model_id": "2f4e1ac7c9ef456aa66cc63326c3a711",
       "version_major": 2,
       "version_minor": 0
      },
      "text/plain": [
       "Samples:   0%|          | 0/50 [00:00<?, ?it/s]"
      ]
     },
     "metadata": {},
     "output_type": "display_data"
    }
   ],
   "source": [
    "saved_calcs = f\"/home/piriac/data/diffusion_curvature/computed_diffusion_curvatures_core_{name}.h5\"\n",
    "if os.path.exists(saved_calcs):\n",
    "    print(f\"Loading saved calculations from {saved_calcs}\")\n",
    "    computed_diffusion_curvatures = deepdish.io.load(saved_calcs)\n",
    "else:\n",
    "    computed_diffusion_curvatures = compute_curvature_on_battery(diffusion_curvature_of_pt, CC)\n",
    "    deepdish.io.save(f\"/home/piriac/data/diffusion_curvature/computed_diffusion_curvatures_core_{name}.h5\", computed_diffusion_curvatures)"
   ]
  },
  {
   "cell_type": "markdown",
   "metadata": {},
   "source": [
    "# Pearson Correlations"
   ]
  },
  {
   "cell_type": "code",
   "execution_count": 25,
   "metadata": {},
   "outputs": [],
   "source": [
    "#|export\n",
    "# compute the pearson correlations between the computed curvature and the true curvature\n",
    "from scipy.stats import pearsonr\n",
    "def compute_correlations(\n",
    "        computed_curvature, # the computed curvature\n",
    "        CC, # the battery dictionary\n",
    "        ):\n",
    "    correlations = {}\n",
    "    for d in tqdm(CC['dims'], desc=\"intrinsic dimensions\"):\n",
    "        correlations[d] = {}\n",
    "        for c in tqdm(CC[d]['codims'], leave=False, desc='codimensions'):\n",
    "            correlations[d][c] = {}\n",
    "            for noise_level in tqdm(CC[d][c]['noise_levels'], leave=False, desc=\"Noise Levels\"):\n",
    "                correlations[d][c][noise_level] = {}\n",
    "                correlations[d][c][noise_level]['r'] = []\n",
    "                correlations[d][c][noise_level]['p'] = []\n",
    "                # for i in trange(len(CC[d][c][noise_level]['Xs']), leave=False, desc=\"Samples\"):\n",
    "                k = computed_curvature[d][c][noise_level]['k']\n",
    "                k_true = CC[d][c][noise_level]['k']\n",
    "                r, p = pearsonr(k, k_true)\n",
    "                correlations[d][c][noise_level]['r'] = r\n",
    "                correlations[d][c][noise_level]['p'] = p\n",
    "    return correlations"
   ]
  },
  {
   "cell_type": "code",
   "execution_count": 26,
   "metadata": {},
   "outputs": [
    {
     "data": {
      "application/vnd.jupyter.widget-view+json": {
       "model_id": "fabc16dea9a6468688507359f74582b8",
       "version_major": 2,
       "version_minor": 0
      },
      "text/plain": [
       "intrinsic dimensions:   0%|          | 0/4 [00:00<?, ?it/s]"
      ]
     },
     "metadata": {},
     "output_type": "display_data"
    },
    {
     "data": {
      "application/vnd.jupyter.widget-view+json": {
       "model_id": "4794afebd02544178d82bbadc3a11f55",
       "version_major": 2,
       "version_minor": 0
      },
      "text/plain": [
       "codimensions:   0%|          | 0/4 [00:00<?, ?it/s]"
      ]
     },
     "metadata": {},
     "output_type": "display_data"
    },
    {
     "data": {
      "application/vnd.jupyter.widget-view+json": {
       "model_id": "63427c428f70423e82b09662b86527a6",
       "version_major": 2,
       "version_minor": 0
      },
      "text/plain": [
       "Noise Levels:   0%|          | 0/6 [00:00<?, ?it/s]"
      ]
     },
     "metadata": {},
     "output_type": "display_data"
    },
    {
     "data": {
      "application/vnd.jupyter.widget-view+json": {
       "model_id": "14d15b4e936b40f28ed53ee8df7d212d",
       "version_major": 2,
       "version_minor": 0
      },
      "text/plain": [
       "Noise Levels:   0%|          | 0/6 [00:00<?, ?it/s]"
      ]
     },
     "metadata": {},
     "output_type": "display_data"
    },
    {
     "data": {
      "application/vnd.jupyter.widget-view+json": {
       "model_id": "d81e15b1b8894558b9bc22b45081f6ec",
       "version_major": 2,
       "version_minor": 0
      },
      "text/plain": [
       "Noise Levels:   0%|          | 0/6 [00:00<?, ?it/s]"
      ]
     },
     "metadata": {},
     "output_type": "display_data"
    },
    {
     "data": {
      "application/vnd.jupyter.widget-view+json": {
       "model_id": "1a2d5d99a36342d8b66b7580264cf8f9",
       "version_major": 2,
       "version_minor": 0
      },
      "text/plain": [
       "Noise Levels:   0%|          | 0/6 [00:00<?, ?it/s]"
      ]
     },
     "metadata": {},
     "output_type": "display_data"
    },
    {
     "data": {
      "application/vnd.jupyter.widget-view+json": {
       "model_id": "6b756da68eea4e5c9bc35cc7d30c67f9",
       "version_major": 2,
       "version_minor": 0
      },
      "text/plain": [
       "codimensions:   0%|          | 0/4 [00:00<?, ?it/s]"
      ]
     },
     "metadata": {},
     "output_type": "display_data"
    },
    {
     "data": {
      "application/vnd.jupyter.widget-view+json": {
       "model_id": "7c939d683e9942e99512a50a2bfdd4c9",
       "version_major": 2,
       "version_minor": 0
      },
      "text/plain": [
       "Noise Levels:   0%|          | 0/6 [00:00<?, ?it/s]"
      ]
     },
     "metadata": {},
     "output_type": "display_data"
    },
    {
     "data": {
      "application/vnd.jupyter.widget-view+json": {
       "model_id": "a1680083dc8d445ea19e62320e13421f",
       "version_major": 2,
       "version_minor": 0
      },
      "text/plain": [
       "Noise Levels:   0%|          | 0/6 [00:00<?, ?it/s]"
      ]
     },
     "metadata": {},
     "output_type": "display_data"
    },
    {
     "data": {
      "application/vnd.jupyter.widget-view+json": {
       "model_id": "691991737c5d488d9119a9bb7ee8db47",
       "version_major": 2,
       "version_minor": 0
      },
      "text/plain": [
       "Noise Levels:   0%|          | 0/6 [00:00<?, ?it/s]"
      ]
     },
     "metadata": {},
     "output_type": "display_data"
    },
    {
     "data": {
      "application/vnd.jupyter.widget-view+json": {
       "model_id": "9325b8451fb043198e466b4e6a1c8741",
       "version_major": 2,
       "version_minor": 0
      },
      "text/plain": [
       "Noise Levels:   0%|          | 0/6 [00:00<?, ?it/s]"
      ]
     },
     "metadata": {},
     "output_type": "display_data"
    },
    {
     "data": {
      "application/vnd.jupyter.widget-view+json": {
       "model_id": "1a6ba7caf2214f9d967622a352ab96b8",
       "version_major": 2,
       "version_minor": 0
      },
      "text/plain": [
       "codimensions:   0%|          | 0/4 [00:00<?, ?it/s]"
      ]
     },
     "metadata": {},
     "output_type": "display_data"
    },
    {
     "data": {
      "application/vnd.jupyter.widget-view+json": {
       "model_id": "f02fbb273d7c4367a481e15d3f18ad0a",
       "version_major": 2,
       "version_minor": 0
      },
      "text/plain": [
       "Noise Levels:   0%|          | 0/6 [00:00<?, ?it/s]"
      ]
     },
     "metadata": {},
     "output_type": "display_data"
    },
    {
     "data": {
      "application/vnd.jupyter.widget-view+json": {
       "model_id": "68d9a4e2ab9a4daea61ab54ec7cb2886",
       "version_major": 2,
       "version_minor": 0
      },
      "text/plain": [
       "Noise Levels:   0%|          | 0/6 [00:00<?, ?it/s]"
      ]
     },
     "metadata": {},
     "output_type": "display_data"
    },
    {
     "data": {
      "application/vnd.jupyter.widget-view+json": {
       "model_id": "6f7b7db9c8fe4a7c8ba5d195b84265c7",
       "version_major": 2,
       "version_minor": 0
      },
      "text/plain": [
       "Noise Levels:   0%|          | 0/6 [00:00<?, ?it/s]"
      ]
     },
     "metadata": {},
     "output_type": "display_data"
    },
    {
     "data": {
      "application/vnd.jupyter.widget-view+json": {
       "model_id": "d2c245d9b26447fda8e1354ab5bc1ddc",
       "version_major": 2,
       "version_minor": 0
      },
      "text/plain": [
       "Noise Levels:   0%|          | 0/6 [00:00<?, ?it/s]"
      ]
     },
     "metadata": {},
     "output_type": "display_data"
    },
    {
     "data": {
      "application/vnd.jupyter.widget-view+json": {
       "model_id": "f7f5e7afa11841c6b049152da5739580",
       "version_major": 2,
       "version_minor": 0
      },
      "text/plain": [
       "codimensions:   0%|          | 0/4 [00:00<?, ?it/s]"
      ]
     },
     "metadata": {},
     "output_type": "display_data"
    },
    {
     "data": {
      "application/vnd.jupyter.widget-view+json": {
       "model_id": "6e5f6bf365b742f29631eb4b2da12f25",
       "version_major": 2,
       "version_minor": 0
      },
      "text/plain": [
       "Noise Levels:   0%|          | 0/6 [00:00<?, ?it/s]"
      ]
     },
     "metadata": {},
     "output_type": "display_data"
    },
    {
     "data": {
      "application/vnd.jupyter.widget-view+json": {
       "model_id": "b09558448a3949e293b2dffb722c1ca6",
       "version_major": 2,
       "version_minor": 0
      },
      "text/plain": [
       "Noise Levels:   0%|          | 0/6 [00:00<?, ?it/s]"
      ]
     },
     "metadata": {},
     "output_type": "display_data"
    },
    {
     "data": {
      "application/vnd.jupyter.widget-view+json": {
       "model_id": "7b58ecdecc544ad4830261f1061c056d",
       "version_major": 2,
       "version_minor": 0
      },
      "text/plain": [
       "Noise Levels:   0%|          | 0/6 [00:00<?, ?it/s]"
      ]
     },
     "metadata": {},
     "output_type": "display_data"
    },
    {
     "data": {
      "application/vnd.jupyter.widget-view+json": {
       "model_id": "b010979e46084c499df7194ae4db5be7",
       "version_major": 2,
       "version_minor": 0
      },
      "text/plain": [
       "Noise Levels:   0%|          | 0/6 [00:00<?, ?it/s]"
      ]
     },
     "metadata": {},
     "output_type": "display_data"
    }
   ],
   "source": [
    "dc_curvature_correlations = compute_correlations(computed_diffusion_curvatures, CC)"
   ]
  },
  {
   "cell_type": "code",
   "execution_count": 27,
   "metadata": {},
   "outputs": [],
   "source": [
    "#|export\n",
    "# Make a latex table of the correlations, both r and p values, with dimension in the rows and noise level in the columns\n",
    "from tabulate import tabulate\n",
    "def result_table(\n",
    "        correlations, # dictionary of correlations\n",
    "        c:int, # codimension\n",
    "        style = 'fancy_grid',\n",
    "        keys = ['r','p']\n",
    "        ):\n",
    "    noise_levels = correlations[correlations.keys().__iter__().__next__()][c].keys()\n",
    "    print(\"Codimension = \",c)\n",
    "    table = tabulate(\n",
    "        [[d] + [f\"{correlations[d][c][noise_level][keys[0]]:.{3}f}{'/' + str(correlations[d][c][noise_level][keys[1]])[:4] if len(keys) > 1 else ''}\" for noise_level in noise_levels] for d in correlations.keys()],\n",
    "        headers=['dim'] + [f\"Noise = {nl}\" for nl in noise_levels],\n",
    "        tablefmt=style, #latex_raw\n",
    "        floatfmt=\".2f\",\n",
    "        )\n",
    "    print(table)\n",
    "    return table"
   ]
  },
  {
   "cell_type": "code",
   "execution_count": 28,
   "metadata": {},
   "outputs": [
    {
     "name": "stdout",
     "output_type": "stream",
     "text": [
      "Codimension =  1\n",
      "╒═══════╤═══════════════╤════════════════╤═══════════════╤═══════════════╤═══════════════╤═══════════════╕\n",
      "│   dim │ Noise = 0.0   │ Noise = 0.05   │ Noise = 0.1   │ Noise = 0.2   │ Noise = 0.3   │ Noise = 0.5   │\n",
      "╞═══════╪═══════════════╪════════════════╪═══════════════╪═══════════════╪═══════════════╪═══════════════╡\n",
      "│     2 │ 0.750/3.70    │ 0.738/9.51     │ 0.451/0.00    │ 0.583/8.74    │ 0.465/0.00    │ 0.405/0.00    │\n",
      "├───────┼───────────────┼────────────────┼───────────────┼───────────────┼───────────────┼───────────────┤\n",
      "│     3 │ 0.712/6.66    │ 0.575/1.23     │ 0.638/6.22    │ 0.449/0.00    │ 0.477/0.00    │ 0.405/0.00    │\n",
      "├───────┼───────────────┼────────────────┼───────────────┼───────────────┼───────────────┼───────────────┤\n",
      "│     4 │ 0.606/3.12    │ 0.624/1.30     │ 0.625/1.19    │ 0.375/0.00    │ 0.437/0.00    │ 0.486/0.00    │\n",
      "├───────┼───────────────┼────────────────┼───────────────┼───────────────┼───────────────┼───────────────┤\n",
      "│     5 │ 0.635/7.36    │ 0.502/0.00     │ 0.302/0.03    │ 0.622/1.42    │ 0.580/1.03    │ 0.507/0.00    │\n",
      "╘═══════╧═══════════════╧════════════════╧═══════════════╧═══════════════╧═══════════════╧═══════════════╛\n"
     ]
    }
   ],
   "source": [
    "table = result_table(dc_curvature_correlations, c=1)"
   ]
  },
  {
   "cell_type": "code",
   "execution_count": 29,
   "metadata": {},
   "outputs": [
    {
     "name": "stdout",
     "output_type": "stream",
     "text": [
      "Codimension =  2\n",
      "╒═══════╤═══════════════╤════════════════╤═══════════════╤═══════════════╤═══════════════╤═══════════════╕\n",
      "│   dim │ Noise = 0.0   │ Noise = 0.05   │ Noise = 0.1   │ Noise = 0.2   │ Noise = 0.3   │ Noise = 0.5   │\n",
      "╞═══════╪═══════════════╪════════════════╪═══════════════╪═══════════════╪═══════════════╪═══════════════╡\n",
      "│     2 │ 0.646/4.03    │ 0.531/7.35     │ 0.493/0.00    │ 0.203/0.15    │ 0.132/0.36    │ 0.213/0.13    │\n",
      "├───────┼───────────────┼────────────────┼───────────────┼───────────────┼───────────────┼───────────────┤\n",
      "│     3 │ 0.612/2.30    │ 0.565/1.95     │ 0.675/7.45    │ 0.431/0.00    │ 0.013/0.93    │ 0.078/0.58    │\n",
      "├───────┼───────────────┼────────────────┼───────────────┼───────────────┼───────────────┼───────────────┤\n",
      "│     4 │ 0.647/3.90    │ 0.673/8.35     │ 0.547/3.99    │ 0.538/5.68    │ 0.444/0.00    │ 0.431/0.00    │\n",
      "├───────┼───────────────┼────────────────┼───────────────┼───────────────┼───────────────┼───────────────┤\n",
      "│     5 │ 0.756/2.12    │ 0.743/6.57     │ 0.620/1.55    │ 0.470/0.00    │ 0.688/3.43    │ 0.563/2.11    │\n",
      "╘═══════╧═══════════════╧════════════════╧═══════════════╧═══════════════╧═══════════════╧═══════════════╛\n"
     ]
    }
   ],
   "source": [
    "table = result_table(dc_curvature_correlations, c=2)"
   ]
  },
  {
   "cell_type": "code",
   "execution_count": 30,
   "metadata": {},
   "outputs": [
    {
     "name": "stdout",
     "output_type": "stream",
     "text": [
      "Codimension =  3\n",
      "╒═══════╤═══════════════╤════════════════╤═══════════════╤═══════════════╤═══════════════╤═══════════════╕\n",
      "│   dim │ Noise = 0.0   │ Noise = 0.05   │ Noise = 0.1   │ Noise = 0.2   │ Noise = 0.3   │ Noise = 0.5   │\n",
      "╞═══════╪═══════════════╪════════════════╪═══════════════╪═══════════════╪═══════════════╪═══════════════╡\n",
      "│     2 │ 0.684/4.32    │ 0.533/6.67     │ 0.386/0.00    │ 0.206/0.15    │ 0.394/0.00    │ 0.013/0.92    │\n",
      "├───────┼───────────────┼────────────────┼───────────────┼───────────────┼───────────────┼───────────────┤\n",
      "│     3 │ 0.552/3.20    │ 0.375/0.00     │ 0.277/0.05    │ 0.416/0.00    │ 0.281/0.04    │ 0.080/0.58    │\n",
      "├───────┼───────────────┼────────────────┼───────────────┼───────────────┼───────────────┼───────────────┤\n",
      "│     4 │ 0.601/3.86    │ 0.679/5.92     │ 0.593/5.63    │ 0.767/8.44    │ 0.412/0.00    │ 0.336/0.01    │\n",
      "├───────┼───────────────┼────────────────┼───────────────┼───────────────┼───────────────┼───────────────┤\n",
      "│     5 │ 0.550/3.47    │ 0.701/1.43     │ 0.648/3.57    │ 0.680/5.71    │ 0.637/6.70    │ 0.288/0.04    │\n",
      "╘═══════╧═══════════════╧════════════════╧═══════════════╧═══════════════╧═══════════════╧═══════════════╛\n"
     ]
    }
   ],
   "source": [
    "table = result_table(dc_curvature_correlations, c=3)"
   ]
  },
  {
   "cell_type": "code",
   "execution_count": 31,
   "metadata": {},
   "outputs": [
    {
     "name": "stdout",
     "output_type": "stream",
     "text": [
      "Codimension =  1\n",
      "\\begin{tabular}{rllllll}\n",
      "\\hline\n",
      "   dim & Noise = 0.0   & Noise = 0.05   & Noise = 0.1   & Noise = 0.2   & Noise = 0.3   & Noise = 0.5   \\\\\n",
      "\\hline\n",
      "     2 & 0.750/3.70    & 0.738/9.51     & 0.451/0.00    & 0.583/8.74    & 0.465/0.00    & 0.405/0.00    \\\\\n",
      "     3 & 0.712/6.66    & 0.575/1.23     & 0.638/6.22    & 0.449/0.00    & 0.477/0.00    & 0.405/0.00    \\\\\n",
      "     4 & 0.606/3.12    & 0.624/1.30     & 0.625/1.19    & 0.375/0.00    & 0.437/0.00    & 0.486/0.00    \\\\\n",
      "     5 & 0.635/7.36    & 0.502/0.00     & 0.302/0.03    & 0.622/1.42    & 0.580/1.03    & 0.507/0.00    \\\\\n",
      "\\hline\n",
      "\\end{tabular}\n",
      "Codimension =  2\n",
      "\\begin{tabular}{rllllll}\n",
      "\\hline\n",
      "   dim & Noise = 0.0   & Noise = 0.05   & Noise = 0.1   & Noise = 0.2   & Noise = 0.3   & Noise = 0.5   \\\\\n",
      "\\hline\n",
      "     2 & 0.646/4.03    & 0.531/7.35     & 0.493/0.00    & 0.203/0.15    & 0.132/0.36    & 0.213/0.13    \\\\\n",
      "     3 & 0.612/2.30    & 0.565/1.95     & 0.675/7.45    & 0.431/0.00    & 0.013/0.93    & 0.078/0.58    \\\\\n",
      "     4 & 0.647/3.90    & 0.673/8.35     & 0.547/3.99    & 0.538/5.68    & 0.444/0.00    & 0.431/0.00    \\\\\n",
      "     5 & 0.756/2.12    & 0.743/6.57     & 0.620/1.55    & 0.470/0.00    & 0.688/3.43    & 0.563/2.11    \\\\\n",
      "\\hline\n",
      "\\end{tabular}\n",
      "Codimension =  3\n",
      "\\begin{tabular}{rllllll}\n",
      "\\hline\n",
      "   dim & Noise = 0.0   & Noise = 0.05   & Noise = 0.1   & Noise = 0.2   & Noise = 0.3   & Noise = 0.5   \\\\\n",
      "\\hline\n",
      "     2 & 0.684/4.32    & 0.533/6.67     & 0.386/0.00    & 0.206/0.15    & 0.394/0.00    & 0.013/0.92    \\\\\n",
      "     3 & 0.552/3.20    & 0.375/0.00     & 0.277/0.05    & 0.416/0.00    & 0.281/0.04    & 0.080/0.58    \\\\\n",
      "     4 & 0.601/3.86    & 0.679/5.92     & 0.593/5.63    & 0.767/8.44    & 0.412/0.00    & 0.336/0.01    \\\\\n",
      "     5 & 0.550/3.47    & 0.701/1.43     & 0.648/3.57    & 0.680/5.71    & 0.637/6.70    & 0.288/0.04    \\\\\n",
      "\\hline\n",
      "\\end{tabular}\n"
     ]
    }
   ],
   "source": [
    "table_latex = result_table(dc_curvature_correlations, c=1, style='latex_raw')\n",
    "table_latex += result_table(dc_curvature_correlations, c=2, style='latex_raw')\n",
    "table_latex += result_table(dc_curvature_correlations, c=3, style='latex_raw')"
   ]
  },
  {
   "cell_type": "code",
   "execution_count": 36,
   "metadata": {},
   "outputs": [
    {
     "data": {
      "image/png": "[encoded data removed]",
      "text/plain": [
       "<Figure size 640x480 with 1 Axes>"
      ]
     },
     "metadata": {},
     "output_type": "display_data"
    }
   ],
   "source": [
    "import matplotlib.pyplot as plt\n",
    "d = 4\n",
    "c = 1\n",
    "noise_level = 0.0\n",
    "plt.scatter(CC[d][c][noise_level]['k'], computed_diffusion_curvatures[d][c][noise_level]['k'], alpha=0.1)\n",
    "plt.xlabel(\"True Curvature\")\n",
    "plt.ylabel(\"Computed Curvature\")\n",
    "plt.title(f\"Correlation = {dc_curvature_correlations[d][c][noise_level]['r']:.3f}\")\n",
    "plt.show()"
   ]
  },
  {
   "cell_type": "markdown",
   "metadata": {},
   "source": [
    "# Fidelity of Sign\n",
    "\n",
    "The above shows that the *unsigned* diffusion curvature correlates robustly with the true curvature. Let's measure how well the sign is predicted by diffusion curvature. "
   ]
  },
  {
   "cell_type": "code",
   "execution_count": 37,
   "metadata": {},
   "outputs": [],
   "source": [
    "#|export\n",
    "import numpy as np\n",
    "def compute_sign_score(\n",
    "        computed_curvature, # the computed curvature\n",
    "        CC, # the battery dictionary\n",
    "        ):\n",
    "    correlations = {}\n",
    "    for d in tqdm(CC['dims'], desc=\"intrinsic dimensions\"):\n",
    "        correlations[d] = {}\n",
    "        for c in CC[d]['codims']:\n",
    "            correlations[d][c] = {}\n",
    "            for noise_level in tqdm(CC[d][c]['noise_levels'], leave=False, desc=\"Noise Levels\"):\n",
    "                correlations[d][c][noise_level] = {}\n",
    "                correlations[d][c][noise_level]['r'] = []\n",
    "                correlations[d][c][noise_level]['p'] = []\n",
    "                # for i in trange(len(CC[d][c][noise_level]['Xs']), leave=False, desc=\"Samples\"):\n",
    "                k = computed_curvature[d][c][noise_level]['k']\n",
    "                k_true = CC[d][c][noise_level]['k']\n",
    "                # measure the 'classification accuracy' of the signs.\n",
    "                class_acc = np.sum(\n",
    "                    (np.sign(k) == np.sign(k_true)).astype(int)\n",
    "                ) / len(k)\n",
    "                correlations[d][c][noise_level]['accuracy'] = class_acc\n",
    "    return correlations"
   ]
  },
  {
   "cell_type": "code",
   "execution_count": 38,
   "metadata": {},
   "outputs": [
    {
     "data": {
      "application/vnd.jupyter.widget-view+json": {
       "model_id": "8caef296b98b45baafaf742fdd3ed007",
       "version_major": 2,
       "version_minor": 0
      },
      "text/plain": [
       "intrinsic dimensions:   0%|          | 0/4 [00:00<?, ?it/s]"
      ]
     },
     "metadata": {},
     "output_type": "display_data"
    },
    {
     "data": {
      "application/vnd.jupyter.widget-view+json": {
       "model_id": "0a6d6601d224449caecac05a1a970cea",
       "version_major": 2,
       "version_minor": 0
      },
      "text/plain": [
       "Noise Levels:   0%|          | 0/6 [00:00<?, ?it/s]"
      ]
     },
     "metadata": {},
     "output_type": "display_data"
    },
    {
     "data": {
      "application/vnd.jupyter.widget-view+json": {
       "model_id": "9acc1961656b41088b04c2c59e22c3e0",
       "version_major": 2,
       "version_minor": 0
      },
      "text/plain": [
       "Noise Levels:   0%|          | 0/6 [00:00<?, ?it/s]"
      ]
     },
     "metadata": {},
     "output_type": "display_data"
    },
    {
     "data": {
      "application/vnd.jupyter.widget-view+json": {
       "model_id": "d33d4c4785874021816e3f55e635c20e",
       "version_major": 2,
       "version_minor": 0
      },
      "text/plain": [
       "Noise Levels:   0%|          | 0/6 [00:00<?, ?it/s]"
      ]
     },
     "metadata": {},
     "output_type": "display_data"
    },
    {
     "data": {
      "application/vnd.jupyter.widget-view+json": {
       "model_id": "df33d75237e8484cbb34fbf620437eb6",
       "version_major": 2,
       "version_minor": 0
      },
      "text/plain": [
       "Noise Levels:   0%|          | 0/6 [00:00<?, ?it/s]"
      ]
     },
     "metadata": {},
     "output_type": "display_data"
    },
    {
     "data": {
      "application/vnd.jupyter.widget-view+json": {
       "model_id": "1397876b33fc4b8ba29a14e5565ae278",
       "version_major": 2,
       "version_minor": 0
      },
      "text/plain": [
       "Noise Levels:   0%|          | 0/6 [00:00<?, ?it/s]"
      ]
     },
     "metadata": {},
     "output_type": "display_data"
    },
    {
     "data": {
      "application/vnd.jupyter.widget-view+json": {
       "model_id": "3368b0f9f9a0417f9ec501b0b2c0adc4",
       "version_major": 2,
       "version_minor": 0
      },
      "text/plain": [
       "Noise Levels:   0%|          | 0/6 [00:00<?, ?it/s]"
      ]
     },
     "metadata": {},
     "output_type": "display_data"
    },
    {
     "data": {
      "application/vnd.jupyter.widget-view+json": {
       "model_id": "67030ad526da4cb7a9ceef878ee8c325",
       "version_major": 2,
       "version_minor": 0
      },
      "text/plain": [
       "Noise Levels:   0%|          | 0/6 [00:00<?, ?it/s]"
      ]
     },
     "metadata": {},
     "output_type": "display_data"
    },
    {
     "data": {
      "application/vnd.jupyter.widget-view+json": {
       "model_id": "1eaebfddf4c347f2b25672b8aeb088b4",
       "version_major": 2,
       "version_minor": 0
      },
      "text/plain": [
       "Noise Levels:   0%|          | 0/6 [00:00<?, ?it/s]"
      ]
     },
     "metadata": {},
     "output_type": "display_data"
    },
    {
     "data": {
      "application/vnd.jupyter.widget-view+json": {
       "model_id": "7d511b21c89a4e53a01272ba4b980bad",
       "version_major": 2,
       "version_minor": 0
      },
      "text/plain": [
       "Noise Levels:   0%|          | 0/6 [00:00<?, ?it/s]"
      ]
     },
     "metadata": {},
     "output_type": "display_data"
    },
    {
     "data": {
      "application/vnd.jupyter.widget-view+json": {
       "model_id": "67b5f1b6a52e4af48b5510d9c8683d8a",
       "version_major": 2,
       "version_minor": 0
      },
      "text/plain": [
       "Noise Levels:   0%|          | 0/6 [00:00<?, ?it/s]"
      ]
     },
     "metadata": {},
     "output_type": "display_data"
    },
    {
     "data": {
      "application/vnd.jupyter.widget-view+json": {
       "model_id": "a6cabf6caf2548a7976a2488fa2e20ca",
       "version_major": 2,
       "version_minor": 0
      },
      "text/plain": [
       "Noise Levels:   0%|          | 0/6 [00:00<?, ?it/s]"
      ]
     },
     "metadata": {},
     "output_type": "display_data"
    },
    {
     "data": {
      "application/vnd.jupyter.widget-view+json": {
       "model_id": "739cea3aadd244cc9f3e99fd23687052",
       "version_major": 2,
       "version_minor": 0
      },
      "text/plain": [
       "Noise Levels:   0%|          | 0/6 [00:00<?, ?it/s]"
      ]
     },
     "metadata": {},
     "output_type": "display_data"
    },
    {
     "data": {
      "application/vnd.jupyter.widget-view+json": {
       "model_id": "5e164c9a66dc485aa11a0355cd208102",
       "version_major": 2,
       "version_minor": 0
      },
      "text/plain": [
       "Noise Levels:   0%|          | 0/6 [00:00<?, ?it/s]"
      ]
     },
     "metadata": {},
     "output_type": "display_data"
    },
    {
     "data": {
      "application/vnd.jupyter.widget-view+json": {
       "model_id": "89198fa1e66941aa8282519803c054e1",
       "version_major": 2,
       "version_minor": 0
      },
      "text/plain": [
       "Noise Levels:   0%|          | 0/6 [00:00<?, ?it/s]"
      ]
     },
     "metadata": {},
     "output_type": "display_data"
    },
    {
     "data": {
      "application/vnd.jupyter.widget-view+json": {
       "model_id": "087de1b674a84e5da971c75c00199e5f",
       "version_major": 2,
       "version_minor": 0
      },
      "text/plain": [
       "Noise Levels:   0%|          | 0/6 [00:00<?, ?it/s]"
      ]
     },
     "metadata": {},
     "output_type": "display_data"
    },
    {
     "data": {
      "application/vnd.jupyter.widget-view+json": {
       "model_id": "2e500e91481a46ad90fcf719bfb8737b",
       "version_major": 2,
       "version_minor": 0
      },
      "text/plain": [
       "Noise Levels:   0%|          | 0/6 [00:00<?, ?it/s]"
      ]
     },
     "metadata": {},
     "output_type": "display_data"
    }
   ],
   "source": [
    "sign_accs = compute_sign_score(computed_diffusion_curvatures, CC)"
   ]
  },
  {
   "cell_type": "code",
   "execution_count": 39,
   "metadata": {},
   "outputs": [
    {
     "name": "stdout",
     "output_type": "stream",
     "text": [
      "Codimension =  2\n",
      "╒═══════╤═══════════════╤════════════════╤═══════════════╤═══════════════╤═══════════════╤═══════════════╕\n",
      "│   dim │   Noise = 0.0 │   Noise = 0.05 │   Noise = 0.1 │   Noise = 0.2 │   Noise = 0.3 │   Noise = 0.5 │\n",
      "╞═══════╪═══════════════╪════════════════╪═══════════════╪═══════════════╪═══════════════╪═══════════════╡\n",
      "│     2 │          0.50 │           0.56 │          0.60 │          0.72 │          0.70 │          0.58 │\n",
      "├───────┼───────────────┼────────────────┼───────────────┼───────────────┼───────────────┼───────────────┤\n",
      "│     3 │          0.22 │           0.26 │          0.16 │          0.24 │          0.22 │          0.34 │\n",
      "├───────┼───────────────┼────────────────┼───────────────┼───────────────┼───────────────┼───────────────┤\n",
      "│     4 │          0.18 │           0.12 │          0.10 │          0.18 │          0.08 │          0.20 │\n",
      "├───────┼───────────────┼────────────────┼───────────────┼───────────────┼───────────────┼───────────────┤\n",
      "│     5 │          0.16 │           0.16 │          0.12 │          0.16 │          0.14 │          0.12 │\n",
      "╘═══════╧═══════════════╧════════════════╧═══════════════╧═══════════════╧═══════════════╧═══════════════╛\n"
     ]
    }
   ],
   "source": [
    "table = result_table(sign_accs, c=2, keys=['accuracy'])"
   ]
  },
  {
   "cell_type": "code",
   "execution_count": 24,
   "metadata": {},
   "outputs": [],
   "source": [
    "#|hide\n",
    "!nbdev_export"
   ]
  },
  {
   "cell_type": "code",
   "execution_count": null,
   "metadata": {},
   "outputs": [],
   "source": []
  }
 ],
 "metadata": {
  "kernelspec": {
   "display_name": "diffusion_curvature",
   "language": "python",
   "name": "python3"
  },
  "language_info": {
   "codemirror_mode": {
    "name": "ipython",
    "version": 3
   },
   "file_extension": ".py",
   "mimetype": "text/x-python",
   "name": "python",
   "nbconvert_exporter": "python",
   "pygments_lexer": "ipython3",
   "version": "3.11.5"
  }
 },
 "nbformat": 4,
 "nbformat_minor": 4
}
