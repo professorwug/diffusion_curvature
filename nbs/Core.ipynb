{
 "cells": [
  {
   "cell_type": "code",
   "execution_count": null,
   "metadata": {},
   "outputs": [],
   "source": [
    "#| default_exp core\n",
    "# Diffusion Curvature utils\n",
    "from diffusion_curvature.utils import *\n",
    "# Python necessities\n",
    "import numpy as np\n",
    "from fastcore.all import *\n",
    "import matplotlib.pyplot as plt\n",
    "# Notebook Helpers\n",
    "from nbdev.showdoc import *\n",
    "from tqdm.notebook import trange, tqdm\n",
    "%load_ext autoreload\n",
    "%autoreload 2"
   ]
  },
  {
   "cell_type": "markdown",
   "metadata": {},
   "source": [
    "# Core \n",
    "> The representation common to all computational processes."
   ]
  },
  {
   "cell_type": "markdown",
   "metadata": {},
   "source": [
    "The algorithm behind diffusion curvature is comparatively simple. Regardless,"
   ]
  }
 ],
 "metadata": {
  "kernelspec": {
   "display_name": "python3",
   "language": "python",
   "name": "python3"
  },
  "language_info": {
   "name": "python",
   "version": "3.11.5"
  }
 },
 "nbformat": 4,
 "nbformat_minor": 2
}
