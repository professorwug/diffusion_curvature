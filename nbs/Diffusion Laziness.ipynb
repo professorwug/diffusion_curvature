{
 "cells": [
  {
   "cell_type": "code",
   "execution_count": null,
   "metadata": {},
   "outputs": [],
   "source": [
    "#| default_exp laziness\n",
    "# Diffusion Curvature utils\n",
    "from diffusion_curvature.kernels import *\n",
    "from diffusion_curvature.datasets import *\n",
    "from diffusion_curvature.core import *\n",
    "from diffusion_curvature.datasets import *\n",
    "from diffusion_curvature.kernels import *\n",
    "# Python necessities\n",
    "import numpy as np\n",
    "from fastcore.all import *\n",
    "import matplotlib.pyplot as plt\n",
    "# Notebook Helpers\n",
    "from nbdev.showdoc import *\n",
    "from tqdm.notebook import trange, tqdm\n",
    "%load_ext autoreload\n",
    "%autoreload 2"
   ]
  },
  {
   "cell_type": "markdown",
   "metadata": {},
   "source": [
    "# Measurements of Diffusion Laziness\n",
    "> Quantifies how much each diffusion spreads. This value alone gives curvature magnitude; when a comparison space is included, it becomes signed."
   ]
  },
  {
   "cell_type": "markdown",
   "metadata": {},
   "source": [
    "# Entropic Diffusion Laziness"
   ]
  },
  {
   "cell_type": "code",
   "execution_count": null,
   "metadata": {},
   "outputs": [],
   "source": [
    "import graphtools\n",
    "from scipy.stats import entropy\n",
    "#|export\n",
    "def entropy_of_diffusion(G:graphtools.graphs.DataGraph, idx=None):\n",
    "        \"\"\"\n",
    "        Returns the pointwise entropy of diffusion from the powered diffusion matrix in the inpiut \n",
    "        \"\"\"\n",
    "        assert G.Pt is not None\n",
    "        # TODO: Entropy may be compatible with scipy.sparse matrices\n",
    "        if type(G.Pt) == np.ndarray:\n",
    "            Pt = G.Pt\n",
    "        else:\n",
    "            Pt = G.Pt.toarray()\n",
    "        if idx is None:\n",
    "            return entropy(Pt, axis=1)\n",
    "        else:\n",
    "            return entropy(Pt[idx])"
   ]
  }
 ],
 "metadata": {
  "kernelspec": {
   "display_name": "python3",
   "language": "python",
   "name": "python3"
  }
 },
 "nbformat": 4,
 "nbformat_minor": 2
}
