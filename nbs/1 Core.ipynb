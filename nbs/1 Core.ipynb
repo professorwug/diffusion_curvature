{
 "cells": [
  {
   "cell_type": "code",
   "execution_count": 2,
   "metadata": {},
   "outputs": [],
   "source": [
    "#| default_exp core\n",
    "from diffusion_curvature.kernels import *\n",
    "from diffusion_curvature.datasets import *\n",
    "from fastcore.all import *\n",
    "import numpy as np\n",
    "from nbdev import show_doc"
   ]
  },
  {
   "cell_type": "markdown",
   "metadata": {},
   "source": [
    "# Implementation (PyGSP + JAX)\n",
    "> Curvature computations on any graphtools graph"
   ]
  },
  {
   "cell_type": "markdown",
   "metadata": {},
   "source": [
    "This notebook implements diffusion curvature atop the popular PyGSP library. To compute the curvature of any PyGSP graph, simply instantiate a `DiffusionCurvature` object with your choice of parameters, and pass the graphtools graph through as input.\n",
    "\n",
    "What follows is a literate implementation, showing the steps of the algorithm applied to our old friend, the torus."
   ]
  },
  {
   "cell_type": "markdown",
   "metadata": {},
   "source": [
    "The implementation of Diffusion Curvature involves several big pieces, each of which can be performed with different strategies:\n",
    "\n",
    "1. Simulating heat diffusion on the manifold, either via powering the diffusion matrix, or by Chebyshev approximation of the heat equation using the graph laplacian.\n",
    "2. Computing the \"spreads\" of diffusion. This can be done either via the entropy or the Wasserstein distance.\n",
    "3. Constructing a comparison space of approximately the same sampling as the input graph.\n",
    "4. (Experimental) Verification that the above is working by differentiating the spreads of diffusion over time.\n",
    "\n",
    "We implement everything generically in JAX (a high performance numpy replacement, which can compile to the GPU), treating each of the above as modules that can be parametrically tuned. Functional programming is our game: each function takes a graph object as input and returns an updated graph object with the required quantities computed. "
   ]
  },
  {
   "cell_type": "code",
   "execution_count": 3,
   "metadata": {},
   "outputs": [],
   "source": [
    "# Our sample dataset for testing the rest of the notebook\n",
    "from diffusion_curvature.datasets import torus\n",
    "X_torus, ks_torus = torus(5000,use_guide_points=True)"
   ]
  },
  {
   "cell_type": "markdown",
   "metadata": {},
   "source": [
    "# Graph Construction\n",
    "Our 'Graphs' notebook has code to create PyGSP graphs from pointcloud data, in several varieties. \n",
    "We also provide heuristics to sanity check the graphs, as well as choose the optimal parameters.\n",
    "TODO: MAKE THESE HEURISTICS"
   ]
  },
  {
   "cell_type": "code",
   "execution_count": 4,
   "metadata": {},
   "outputs": [],
   "source": [
    "from diffusion_curvature.graphs import get_alpha_decay_graph, get_knn_graph, get_scanpy_graph\n",
    "G_torus = get_alpha_decay_graph(X_torus,knn=15,decay=20,anisotropy=1.0)"
   ]
  },
  {
   "cell_type": "markdown",
   "metadata": {},
   "source": [
    "# Simulated Heat Diffusion"
   ]
  },
  {
   "cell_type": "code",
   "execution_count": 4,
   "metadata": {},
   "outputs": [],
   "source": [
    "#|export\n",
    "from typing import Literal, get_args, get_origin\n",
    "from inspect import getfullargspec\n",
    "def enforce_literals(function):\n",
    "    \"\"\"Decorator that raises AssertionError on Literal check failure.\"\"\"\n",
    "\n",
    "    def decorator(*args, **kwargs):\n",
    "        specs = getfullargspec(function)\n",
    "        args = {key: args[i] for i, key in enumerate(specs.args) if i < len(args)}\n",
    "        #  key_values = args | kwargs  # use this if python >= 3.9\n",
    "        key_values = {**args_new, **kwargs}  # this is for python 3.8\n",
    "\n",
    "        for name, type_ in getfullargspec(function).annotations.items():\n",
    "            value = key_values[name]\n",
    "            options = get_args(type_)\n",
    "            if (\n",
    "                get_origin(type_) is Literal\n",
    "                and name in specs.args\n",
    "                and value not in options\n",
    "            ):\n",
    "                raise AssertionError(f\"'{value}' is not in {options} for '{name}'\")\n",
    "        return function(*args, **kwargs)\n",
    "\n",
    "    return decorator\n",
    "\n",
    "\n",
    "_TYPES = Literal[\"solar\", \"view\", \"both\"]\n",
    "_NUMS = Literal[1, 2, 3, 4, 5]"
   ]
  },
  {
   "cell_type": "code",
   "execution_count": 6,
   "metadata": {},
   "outputs": [
    {
     "ename": "NameError",
     "evalue": "name 'function' is not defined",
     "output_type": "error",
     "traceback": [
      "\u001b[0;31m---------------------------------------------------------------------------\u001b[0m",
      "\u001b[0;31mNameError\u001b[0m                                 Traceback (most recent call last)",
      "\u001b[1;32m/home/piriac/Pumberton/Workshop/21-SUMRY-Curvature/diffusion_curvature/nbs/1 Core.ipynb Cell 10\u001b[0m line \u001b[0;36m1\n\u001b[1;32m     <a href='vscode-notebook-cell://ssh-remote%2Bathomia/home/piriac/Pumberton/Workshop/21-SUMRY-Curvature/diffusion_curvature/nbs/1%20Core.ipynb#X12sdnNjb2RlLXJlbW90ZQ%3D%3D?line=14'>15</a>\u001b[0m _LAZINESS_METHOD \u001b[39m=\u001b[39m Literal[\u001b[39m'\u001b[39m\u001b[39mWasserstein\u001b[39m\u001b[39m'\u001b[39m,\u001b[39m'\u001b[39m\u001b[39mEntropic\u001b[39m\u001b[39m'\u001b[39m]\n\u001b[1;32m     <a href='vscode-notebook-cell://ssh-remote%2Bathomia/home/piriac/Pumberton/Workshop/21-SUMRY-Curvature/diffusion_curvature/nbs/1%20Core.ipynb#X12sdnNjb2RlLXJlbW90ZQ%3D%3D?line=15'>16</a>\u001b[0m _COMPARISON_METHOD \u001b[39m=\u001b[39m Literal[\u001b[39m'\u001b[39m\u001b[39mOllivier\u001b[39m\u001b[39m'\u001b[39m, \u001b[39m'\u001b[39m\u001b[39mSubtraction\u001b[39m\u001b[39m'\u001b[39m]\n\u001b[1;32m     <a href='vscode-notebook-cell://ssh-remote%2Bathomia/home/piriac/Pumberton/Workshop/21-SUMRY-Curvature/diffusion_curvature/nbs/1%20Core.ipynb#X12sdnNjb2RlLXJlbW90ZQ%3D%3D?line=17'>18</a>\u001b[0m \u001b[39m@enforce_literals\u001b[39;49m\n\u001b[0;32m---> <a href='vscode-notebook-cell://ssh-remote%2Bathomia/home/piriac/Pumberton/Workshop/21-SUMRY-Curvature/diffusion_curvature/nbs/1%20Core.ipynb#X12sdnNjb2RlLXJlbW90ZQ%3D%3D?line=18'>19</a>\u001b[0m \u001b[39mclass\u001b[39;49;00m \u001b[39mDiffusionCurvature\u001b[39;49;00m():\n\u001b[1;32m     <a href='vscode-notebook-cell://ssh-remote%2Bathomia/home/piriac/Pumberton/Workshop/21-SUMRY-Curvature/diffusion_curvature/nbs/1%20Core.ipynb#X12sdnNjb2RlLXJlbW90ZQ%3D%3D?line=19'>20</a>\u001b[0m     \u001b[39mdef\u001b[39;49;00m \u001b[39m__init__\u001b[39;49m(\n\u001b[1;32m     <a href='vscode-notebook-cell://ssh-remote%2Bathomia/home/piriac/Pumberton/Workshop/21-SUMRY-Curvature/diffusion_curvature/nbs/1%20Core.ipynb#X12sdnNjb2RlLXJlbW90ZQ%3D%3D?line=20'>21</a>\u001b[0m             \u001b[39mself\u001b[39;49m,\n\u001b[1;32m     <a href='vscode-notebook-cell://ssh-remote%2Bathomia/home/piriac/Pumberton/Workshop/21-SUMRY-Curvature/diffusion_curvature/nbs/1%20Core.ipynb#X12sdnNjb2RlLXJlbW90ZQ%3D%3D?line=21'>22</a>\u001b[0m             diffusion_type:_DIFFUSION_TYPES \u001b[39m=\u001b[39;49m \u001b[39m'\u001b[39;49m\u001b[39mdiffusion matrix\u001b[39;49m\u001b[39m'\u001b[39;49m, \u001b[39m# Either ['diffusion matrix','heat kernel']\u001b[39;49;00m\n\u001b[0;32m   (...)\u001b[0m\n\u001b[1;32m     <a href='vscode-notebook-cell://ssh-remote%2Bathomia/home/piriac/Pumberton/Workshop/21-SUMRY-Curvature/diffusion_curvature/nbs/1%20Core.ipynb#X12sdnNjb2RlLXJlbW90ZQ%3D%3D?line=25'>26</a>\u001b[0m             dimest \u001b[39m=\u001b[39;49m \u001b[39mNone\u001b[39;49;00m, \u001b[39m# Dimension estimator to use. If none, defaults to kNN.\u001b[39;49;00m\n\u001b[1;32m     <a href='vscode-notebook-cell://ssh-remote%2Bathomia/home/piriac/Pumberton/Workshop/21-SUMRY-Curvature/diffusion_curvature/nbs/1%20Core.ipynb#X12sdnNjb2RlLXJlbW90ZQ%3D%3D?line=26'>27</a>\u001b[0m     ):\n\u001b[1;32m     <a href='vscode-notebook-cell://ssh-remote%2Bathomia/home/piriac/Pumberton/Workshop/21-SUMRY-Curvature/diffusion_curvature/nbs/1%20Core.ipynb#X12sdnNjb2RlLXJlbW90ZQ%3D%3D?line=27'>28</a>\u001b[0m         store_attr()\n",
      "\u001b[1;32m/home/piriac/Pumberton/Workshop/21-SUMRY-Curvature/diffusion_curvature/nbs/1 Core.ipynb Cell 10\u001b[0m line \u001b[0;36m2\n\u001b[1;32m     <a href='vscode-notebook-cell://ssh-remote%2Bathomia/home/piriac/Pumberton/Workshop/21-SUMRY-Curvature/diffusion_curvature/nbs/1%20Core.ipynb#X12sdnNjb2RlLXJlbW90ZQ%3D%3D?line=17'>18</a>\u001b[0m \u001b[39m@enforce_literals\u001b[39m\n\u001b[1;32m     <a href='vscode-notebook-cell://ssh-remote%2Bathomia/home/piriac/Pumberton/Workshop/21-SUMRY-Curvature/diffusion_curvature/nbs/1%20Core.ipynb#X12sdnNjb2RlLXJlbW90ZQ%3D%3D?line=18'>19</a>\u001b[0m \u001b[39mclass\u001b[39;00m \u001b[39mDiffusionCurvature\u001b[39;00m():\n\u001b[1;32m     <a href='vscode-notebook-cell://ssh-remote%2Bathomia/home/piriac/Pumberton/Workshop/21-SUMRY-Curvature/diffusion_curvature/nbs/1%20Core.ipynb#X12sdnNjb2RlLXJlbW90ZQ%3D%3D?line=19'>20</a>\u001b[0m     \u001b[39mdef\u001b[39;00m \u001b[39m__init__\u001b[39m(\n\u001b[1;32m     <a href='vscode-notebook-cell://ssh-remote%2Bathomia/home/piriac/Pumberton/Workshop/21-SUMRY-Curvature/diffusion_curvature/nbs/1%20Core.ipynb#X12sdnNjb2RlLXJlbW90ZQ%3D%3D?line=20'>21</a>\u001b[0m             \u001b[39mself\u001b[39m,\n\u001b[1;32m     <a href='vscode-notebook-cell://ssh-remote%2Bathomia/home/piriac/Pumberton/Workshop/21-SUMRY-Curvature/diffusion_curvature/nbs/1%20Core.ipynb#X12sdnNjb2RlLXJlbW90ZQ%3D%3D?line=21'>22</a>\u001b[0m             diffusion_type:_DIFFUSION_TYPES \u001b[39m=\u001b[39m \u001b[39m'\u001b[39m\u001b[39mdiffusion matrix\u001b[39m\u001b[39m'\u001b[39m, \u001b[39m# Either ['diffusion matrix','heat kernel']\u001b[39;00m\n\u001b[1;32m     <a href='vscode-notebook-cell://ssh-remote%2Bathomia/home/piriac/Pumberton/Workshop/21-SUMRY-Curvature/diffusion_curvature/nbs/1%20Core.ipynb#X12sdnNjb2RlLXJlbW90ZQ%3D%3D?line=22'>23</a>\u001b[0m             laziness_method: _LAZINESS_METHOD \u001b[39m=\u001b[39m \u001b[39m'\u001b[39m\u001b[39mWasserstein\u001b[39m\u001b[39m'\u001b[39m, \u001b[39m# Either ['Wasserstein','Entropic']\u001b[39;00m\n\u001b[1;32m     <a href='vscode-notebook-cell://ssh-remote%2Bathomia/home/piriac/Pumberton/Workshop/21-SUMRY-Curvature/diffusion_curvature/nbs/1%20Core.ipynb#X12sdnNjb2RlLXJlbW90ZQ%3D%3D?line=23'>24</a>\u001b[0m             comparison_method: _COMPARISON_METHOD \u001b[39m=\u001b[39m \u001b[39m'\u001b[39m\u001b[39mOllivier\u001b[39m\u001b[39m'\u001b[39m,\n\u001b[0;32m---> <a href='vscode-notebook-cell://ssh-remote%2Bathomia/home/piriac/Pumberton/Workshop/21-SUMRY-Curvature/diffusion_curvature/nbs/1%20Core.ipynb#X12sdnNjb2RlLXJlbW90ZQ%3D%3D?line=24'>25</a>\u001b[0m             distance_method:function \u001b[39m=\u001b[39m phate_distances,\n\u001b[1;32m     <a href='vscode-notebook-cell://ssh-remote%2Bathomia/home/piriac/Pumberton/Workshop/21-SUMRY-Curvature/diffusion_curvature/nbs/1%20Core.ipynb#X12sdnNjb2RlLXJlbW90ZQ%3D%3D?line=25'>26</a>\u001b[0m             dimest \u001b[39m=\u001b[39m \u001b[39mNone\u001b[39;00m, \u001b[39m# Dimension estimator to use. If none, defaults to kNN.\u001b[39;00m\n\u001b[1;32m     <a href='vscode-notebook-cell://ssh-remote%2Bathomia/home/piriac/Pumberton/Workshop/21-SUMRY-Curvature/diffusion_curvature/nbs/1%20Core.ipynb#X12sdnNjb2RlLXJlbW90ZQ%3D%3D?line=26'>27</a>\u001b[0m     ):\n\u001b[1;32m     <a href='vscode-notebook-cell://ssh-remote%2Bathomia/home/piriac/Pumberton/Workshop/21-SUMRY-Curvature/diffusion_curvature/nbs/1%20Core.ipynb#X12sdnNjb2RlLXJlbW90ZQ%3D%3D?line=27'>28</a>\u001b[0m         store_attr()\n\u001b[1;32m     <a href='vscode-notebook-cell://ssh-remote%2Bathomia/home/piriac/Pumberton/Workshop/21-SUMRY-Curvature/diffusion_curvature/nbs/1%20Core.ipynb#X12sdnNjb2RlLXJlbW90ZQ%3D%3D?line=28'>29</a>\u001b[0m         \u001b[39mif\u001b[39;00m \u001b[39mself\u001b[39m\u001b[39m.\u001b[39mdimest \u001b[39mis\u001b[39;00m \u001b[39mNone\u001b[39;00m:\n",
      "\u001b[0;31mNameError\u001b[0m: name 'function' is not defined"
     ]
    }
   ],
   "source": [
    "#| export\n",
    "import pygsp\n",
    "import jax\n",
    "import jax.numpy as jnp\n",
    "from fastcore.all import *\n",
    "import skdim\n",
    "\n",
    "from diffusion_curvature.graphs import diff_aff, diff_op\n",
    "from diffusion_curvature.heat_diffusion import heat_diffusion_on_signal, kronecker_delta, jax_power_matrix\n",
    "from diffusion_curvature.diffusion_laziness import wasserstein_spread_of_diffusion, entropy_of_diffusion\n",
    "from diffusion_curvature.distances import phate_distances\n",
    "from diffusion_curvature.comparison_space import EuclideanComparisonSpace, fit_comparison_space_model\n",
    "import diffusion_curvature\n",
    "\n",
    "_DIFFUSION_TYPES = Literal['diffusion matrix','heat kernel']\n",
    "_LAZINESS_METHOD = Literal['Wasserstein','Entropic']\n",
    "_COMPARISON_METHOD = Literal['Ollivier', 'Subtraction']\n",
    "\n",
    "@enforce_literals\n",
    "class DiffusionCurvature():\n",
    "    def __init__(\n",
    "            self,\n",
    "            diffusion_type:_DIFFUSION_TYPES = 'diffusion matrix', # Either ['diffusion matrix','heat kernel']\n",
    "            laziness_method: _LAZINESS_METHOD = 'Wasserstein', # Either ['Wasserstein','Entropic']\n",
    "            comparison_method: _COMPARISON_METHOD = 'Ollivier',\n",
    "            distance_method:function = phate_distances,\n",
    "            dimest = None, # Dimension estimator to use. If none, defaults to kNN.\n",
    "            different_comparison_space_for_each_point = True, # If true, constructs a comparison space for every point in the manifold. If false, only constructs unique comparison spaces for each unique dimension.\n",
    "    ):\n",
    "        store_attr()\n",
    "        self.D = None\n",
    "        if self.dimest is None:\n",
    "            self.dimest = skdim.id.KNN()\n",
    "    def unsigned_curvature(\n",
    "            self,\n",
    "            G:pygsp.graphs.Graph, # PyGSP input Graph\n",
    "            t:int, # Scale at which to compute curvature; number of steps of diffusion.\n",
    "            idx=None, # the index at which to compute curvature. If None, computes for all points. TODO: Implement\n",
    "            # The below are used internally\n",
    "            _also_return_first_scale = False, # if True, calculates the laziness measure at both specified t and t=1. The distances (if used) are calcualted with the larger t.\n",
    "            D = None, # Supply manifold distances yourself to override their computation. Only used with the Wasserstein laziness method.\n",
    "    ):\n",
    "        n = G.L.shape[0]\n",
    "        # Compute diffusion matrix\n",
    "        match self.diffusion_type:\n",
    "            case 'diffusion matrix':\n",
    "                P = diff_op(G)\n",
    "                P = jnp.array(P)\n",
    "                Pt = jax_power_matrix(P,t) \n",
    "                if idx: Pt = Pt[idx] # TODO: Could be more efficient here\n",
    "            case 'heat kernel':\n",
    "                signal = jnp.eye(n) if idx else kronecker_delta(n,idx=idx)\n",
    "                Ps = heat_diffusion_on_signal(G, signal, [1,t])\n",
    "                P = Ps[0]\n",
    "                Pt = Ps[1]\n",
    "            case _:\n",
    "                raise ValueError(f\"Diffusion Type {self.diffusion_type} not in {_DIFFUSION_TYPES}\")\n",
    "        match self.laziness_method:\n",
    "            case \"Wasserstein\":\n",
    "                if not D: D = self.distance_method(G) if not idx else self.distance_method(G)[idx] #TODO: Could be more efficient here\n",
    "                laziness = wasserstein_spread_of_diffusion(D,Pt)\n",
    "                if _also_return_first_scale: laziness_nought = wasserstein_spread_of_diffusion(D,P)\n",
    "            case \"Entropic\":\n",
    "                laziness = entropy_of_diffusion(Pt)\n",
    "                if _also_return_first_scale: laziness_nought = entropy_of_diffusion(P)\n",
    "            case _:\n",
    "                raise ValueError(f\"Laziness Method {self.laziness_method} not in {_LAZINESS_METHOD}\")\n",
    "        if _also_return_first_scale: \n",
    "            return laziness, laziness_nought\n",
    "        else:\n",
    "            return laziness\n",
    "    def curvature(\n",
    "            self,\n",
    "            G:pygsp.graphs.Graph, # Input Graph\n",
    "            t:int, # Scale\n",
    "            idx=None, # the index at which to compute curvature. If None, computes for all points.\n",
    "            dim = None, # the INTRINSIC dimension of your manifold, as an int for global dimension or list of pointwise dimensions; if none, tries to estimate pointwise.\n",
    "    ):\n",
    "        def fit_comparison_space(dimension, jump_of_diffusion, num_points_in_comparison):\n",
    "            model = EuclideanComparisonSpace(dimension=dimension, num_points=num_points_in_comparison, jump_of_diffusion=jump_of_diffusion)\n",
    "            params = fit_comparison_space_model(model, max_epochs=1000)\n",
    "            euclidean_stuffs = model.apply(params) # dictionary containing A, P, D\n",
    "            G_euclidean = pygsp.graphs.Graph(\n",
    "                W = euclidean_stuffs['A'],\n",
    "                lap_type = G.lap_type, # type of laplacian; we'll use the same as inputted.\n",
    "                )\n",
    "            return G_euclidean, euclidean_stuffs['D']\n",
    "\n",
    "\n",
    "        # Start by estimating the manifold's unsigned curvature, i.e. spreads of diffusion\n",
    "        manifold_spreads, manifold_spreads_nought = self.unsigned_curvature(G,t,idx, _also_return_first_scale=True)\n",
    "\n",
    "        n = G.L.shape[0]\n",
    "        if dim is None: # The dimension wasn't supplied; we'll estimate it pointwise\n",
    "            print(\"estimating local dimension of each point... may take a while\")\n",
    "            ldims = self.dimest.fit_pw(\n",
    "                                G.data, #TODO: Currently this requires underlying points!\n",
    "                                n_neighbors = 100,\n",
    "                                n_jobs = 1)\n",
    "            dims_per_point = np.round(ldims.dimension_pw_).astype(int)\n",
    "        else: # the dimension *was* supplied, but it may be either a single global dimension or a local dimension for each point\n",
    "            if isinstance(dim, int):\n",
    "                dims_per_point = np.ones(G.P.shape[0], dtype=int)*dim\n",
    "            else:\n",
    "                dims_per_point = dim\n",
    "        \n",
    "        flat_spreads = jnp.zeros(n)\n",
    "        num_points_in_comparison = n / 5 # TODO: Can surely find a better heuristic here\n",
    "\n",
    "        if self.different_comparison_space_for_each_point:\n",
    "            # iterate through each point, extract single step spread of diffuusion, erect comparison space tailored to that point\n",
    "            for i in range(n):\n",
    "                G_euclidean, euclidean_D = fit_comparison_space(\n",
    "                    dimension = dims_per_point[i],\n",
    "                    jump_of_diffusion = manifold_spreads[i],\n",
    "                    num_points_in_comparison = num_points_in_comparison,\n",
    "                    )\n",
    "                flat_spreads = flat_spreads.at[i].set(\n",
    "                    self.unsigned_curvature(G_euclidean,t,idx=0,D=euclidean_D)\n",
    "                )\n",
    "        else:\n",
    "            raise NotImplementedError # TODO: Implement this! Need to average spreads of all points of a dimension. Create a mapping\n",
    "            # between points and dimensions to get an easy mask of points per dimension. Use this to replace the set stuff below.\n",
    "            unique_dims = set(dims_per_point)\n",
    "            unique_flat_lazinesses = {}\n",
    "            for d in unique_dims:\n",
    "                G_euclidean, euclidean_D = fit_comparison_space(\n",
    "                    dimension = d,\n",
    "                    jump_of_diffusion = manifold_spreads[i], # Need average spreads in dimension\n",
    "                    num_points_in_comparison = num_points_in_comparison,\n",
    "                    )\n",
    "                flat_spreads = flat_spreads.at[i].set(\n",
    "                    self.unsigned_curvature(G_euclidean,t,idx=0,D=euclidean_D)\n",
    "                )\n",
    "\n",
    "                G_flat = euclidean_comparison_space(G, dimension=d)\n",
    "                G_flat = self.power_diffusion_matrix(G_flat,t)\n",
    "                unique_flat_lazinesses = self.unsigned_curvature(G_flat, t, idx=0)\n",
    "\n",
    "        match self.comparison_method:\n",
    "            case \"Ollivier\":\n",
    "                ks = 1 - manifold_spreads/flat_spreads\n",
    "            case \"Subtraction\":\n",
    "                ks = flat_spreads - manifold_spreads\n",
    "            case _:\n",
    "                raise ValueError(f'Comparison method must be in {_COMPARISON_METHOD}')        \n",
    "\n",
    "    \n",
    "\n",
    "\n",
    "        "
   ]
  },
  {
   "cell_type": "code",
   "execution_count": 5,
   "metadata": {},
   "outputs": [
    {
     "data": {
      "text/plain": [
       "'combinatorial'"
      ]
     },
     "execution_count": 5,
     "metadata": {},
     "output_type": "execute_result"
    }
   ],
   "source": [
    "G_torus.lap_type"
   ]
  },
  {
   "cell_type": "code",
   "execution_count": null,
   "metadata": {},
   "outputs": [
    {
     "data": {
      "text/plain": [
       "{'n_pca': None,\n",
       " 'random_state': None,\n",
       " 'kernel_symm': '+',\n",
       " 'theta': None,\n",
       " 'anisotropy': 0,\n",
       " 'knn': 5,\n",
       " 'decay': 40,\n",
       " 'bandwidth': None,\n",
       " 'bandwidth_scale': 1.0,\n",
       " 'distance': 'euclidean',\n",
       " 'precomputed': 'affinity'}"
      ]
     },
     "execution_count": 9,
     "metadata": {},
     "output_type": "execute_result"
    }
   ],
   "source": [
    "G_torus.get_params()"
   ]
  },
  {
   "cell_type": "code",
   "execution_count": null,
   "metadata": {},
   "outputs": [
    {
     "data": {
      "text/plain": [
       "graphtools.graphs.TraditionalPyGSPGraph"
      ]
     },
     "execution_count": 10,
     "metadata": {},
     "output_type": "execute_result"
    }
   ],
   "source": [
    "type(G_torus)"
   ]
  },
  {
   "cell_type": "code",
   "execution_count": null,
   "metadata": {},
   "outputs": [],
   "source": []
  }
 ],
 "metadata": {
  "kernelspec": {
   "display_name": "Python 3 (ipykernel)",
   "language": "python",
   "name": "python3"
  },
  "language_info": {
   "codemirror_mode": {
    "name": "ipython",
    "version": 3
   },
   "file_extension": ".py",
   "mimetype": "text/x-python",
   "name": "python",
   "nbconvert_exporter": "python",
   "pygments_lexer": "ipython3",
   "version": "3.11.5"
  }
 },
 "nbformat": 4,
 "nbformat_minor": 4
}
