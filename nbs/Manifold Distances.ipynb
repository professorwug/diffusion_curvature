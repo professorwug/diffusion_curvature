{
 "cells": [
  {
   "cell_type": "code",
   "execution_count": null,
   "metadata": {},
   "outputs": [],
   "source": [
    "#|default_exp distances"
   ]
  },
  {
   "cell_type": "markdown",
   "metadata": {},
   "source": [
    "# Manifold Distances\n",
    "\n",
    "Here we provide reimplementations of algorithms for estimating the manifold distances of a graph."
   ]
  },
  {
   "cell_type": "markdown",
   "metadata": {},
   "source": [
    "## PHATE Distances\n",
    "\n",
    "Wasserstein Diffusion Curvature -- despite the name -- requires only manifold distances. This saves quite a bit of computation, but doesn't alleviate the need for a good approximation of the manifold's geodesic distance. Here, we implement one straightforward and accurate manifold distance: that proposed by Moon et al. in PHATE (2019). The PHATE distance is an extension of the diffusion distance, except instead of calculating the L2 distances between diffusion coordinates (which corresponds roughly to the rows of the diffusion matrix), it takes the L2 distances between the log-transformed diffusions. This flips the weighting from local to global, as a diffusion that assigns a small mass where another assigns a miniscule mass becomes much further than those that differ only at their centers. This log transform has the additional advantage of, through the WAWA formulation of the heat equation, recovering the distance term.\n",
    "\n",
    "It is defined as:\n",
    "$$d_p(x,y) = \\| \\log(p_y^t)-\\log(p_x^t) \\|_2 $$"
   ]
  },
  {
   "cell_type": "code",
   "execution_count": null,
   "metadata": {},
   "outputs": [],
   "source": [
    "#|export\n",
    "from sklearn.metrics import pairwise_distances\n",
    "import numpy as np\n",
    "import scipy\n",
    "import graphtools\n",
    "def phate_distances(G:graphtools.api.Graph):\n",
    "    assert G.Pt is not None\n",
    "    if type(G.Pt) == np.ndarray:\n",
    "        log_Pts = -np.log(G.Pt + 1e-6)\n",
    "        D = pairwise_distances(log_Pts)\n",
    "    elif type(G.Pt) == scipy.sparse.csr_matrix:\n",
    "        # TODO: There's likely a more efficient way of doing this. \n",
    "        # But I mustn't tempt the devil of premature optimization\n",
    "        Pt_np = G.Pt.toarray()\n",
    "        log_Pts = -np.log(Pt_np + 1e-6)\n",
    "        D = pairwise_distances(log_Pts)\n",
    "    G.D = D\n",
    "    return G"
   ]
  },
  {
   "cell_type": "code",
   "execution_count": null,
   "metadata": {},
   "outputs": [],
   "source": [
    "from diffusion_curvature.datasets import torus\n",
    "X_torus, torus_gaussian_curvature = torus(n=3000)\n",
    "import graphtools\n",
    "G_torus = graphtools.Graph(X_torus)\n",
    "G_torus.Pt = G_torus.P ** 4"
   ]
  },
  {
   "cell_type": "code",
   "execution_count": null,
   "metadata": {},
   "outputs": [],
   "source": [
    "G_torus = phate_distances(G_torus)"
   ]
  },
  {
   "cell_type": "code",
   "execution_count": null,
   "metadata": {},
   "outputs": [
    {
     "data": {
      "text/plain": [
       "array([[ 0.        , 79.44588272, 91.79222008, ..., 86.89214593,\n",
       "        76.89037532, 84.1055431 ],\n",
       "       [79.44588272,  0.        , 80.39207031, ..., 74.74836671,\n",
       "        75.23454511, 71.46405865],\n",
       "       [91.79222008, 80.39207031,  0.        , ..., 87.75808631,\n",
       "        88.17255902, 84.99987688],\n",
       "       ...,\n",
       "       [86.89214593, 74.74836671, 87.75808631, ...,  0.        ,\n",
       "        83.05921696, 79.6832004 ],\n",
       "       [76.89037532, 75.23454511, 88.17255902, ..., 83.05921696,\n",
       "         0.        , 80.13944645],\n",
       "       [84.1055431 , 71.46405865, 84.99987688, ..., 79.6832004 ,\n",
       "        80.13944645,  0.        ]])"
      ]
     },
     "execution_count": null,
     "metadata": {},
     "output_type": "execute_result"
    }
   ],
   "source": [
    "G_torus.D"
   ]
  },
  {
   "cell_type": "code",
   "execution_count": null,
   "metadata": {},
   "outputs": [],
   "source": []
  }
 ],
 "metadata": {
  "kernelspec": {
   "display_name": "python3",
   "language": "python",
   "name": "python3"
  }
 },
 "nbformat": 4,
 "nbformat_minor": 2
}
