{
 "cells": [
  {
   "cell_type": "code",
   "execution_count": 6,
   "metadata": {},
   "outputs": [],
   "source": [
    "#|default_exp distances\n",
    "from diffusion_curvature.utils import *"
   ]
  },
  {
   "cell_type": "markdown",
   "metadata": {},
   "source": [
    "# Manifold Distances\n",
    "\n",
    "Here we provide reimplementations of algorithms for estimating the manifold distances of a graph."
   ]
  },
  {
   "cell_type": "markdown",
   "metadata": {},
   "source": [
    "## PHATE Distances\n",
    "\n",
    "Wasserstein Diffusion Curvature -- despite the name -- requires only manifold distances. This saves quite a bit of computation, but doesn't alleviate the need for a good approximation of the manifold's geodesic distance. Here, we implement one straightforward and accurate manifold distance: that proposed by Moon et al. in PHATE (2019). The PHATE distance is an extension of the diffusion distance, except instead of calculating the L2 distances between diffusion coordinates (which corresponds roughly to the rows of the diffusion matrix), it takes the L2 distances between the log-transformed diffusions. This flips the weighting from local to global, as a diffusion that assigns a small mass where another assigns a miniscule mass becomes much further than those that differ only at their centers. This log transform has the additional advantage of, through the WAWA formulation of the heat equation, recovering the distance term.\n",
    "\n",
    "It is defined as:\n",
    "$$d_p(x,y) = \\| \\log(p_y^t)-\\log(p_x^t) \\|_2 $$"
   ]
  },
  {
   "cell_type": "code",
   "execution_count": 7,
   "metadata": {},
   "outputs": [],
   "source": [
    "#|export\n",
    "from sklearn.metrics import pairwise_distances\n",
    "import numpy as np\n",
    "import scipy\n",
    "import graphtools\n",
    "def phate_distances(G:graphtools.api.Graph):\n",
    "    assert G.Pt is not None\n",
    "    if type(G.Pt) == np.ndarray:\n",
    "        log_Pts = -np.log(G.Pt + 1e-6)\n",
    "        D = pairwise_distances(log_Pts)\n",
    "    elif type(G.Pt) == scipy.sparse.csr_matrix:\n",
    "        # TODO: There's likely a more efficient way of doing this. \n",
    "        # But I mustn't tempt the devil of premature optimization\n",
    "        Pt_np = G.Pt.toarray()\n",
    "        log_Pts = -np.log(Pt_np + 1e-6)\n",
    "        D = pairwise_distances(log_Pts)\n",
    "    G.D = D\n",
    "    return G"
   ]
  },
  {
   "cell_type": "code",
   "execution_count": 8,
   "metadata": {},
   "outputs": [],
   "source": [
    "#|export\n",
    "import jax.numpy as jnp\n",
    "def pairwise_euclidean(x, y):\n",
    "  # Pairwise euclidean distances in Jax, courtesy of [jakevdp](https://github.com/google/jax/discussions/11841)\n",
    "  assert x.ndim == y.ndim == 2\n",
    "  return jnp.sqrt(((x[:, None, :] - y[None, :, :]) ** 2).sum(-1))\n",
    "def phate_distances_differentiable(Pt):\n",
    "    log_Pts = -jnp.log(Pt + 1e-6)\n",
    "    D = pairwise_euclidean(log_Pts, log_Pts)\n",
    "    return D"
   ]
  },
  {
   "cell_type": "code",
   "execution_count": 9,
   "metadata": {},
   "outputs": [
    {
     "ename": "AssertionError",
     "evalue": "",
     "output_type": "error",
     "traceback": [
      "\u001b[0;31m---------------------------------------------------------------------------\u001b[0m",
      "\u001b[0;31mAssertionError\u001b[0m                            Traceback (most recent call last)",
      "\u001b[1;32m/home/piriac/Pumberton/Workshop/21-SUMRY-Curvature/diffusion_curvature/nbs/Manifold Distances.ipynb Cell 6\u001b[0m line \u001b[0;36m2\n\u001b[1;32m      <a href='vscode-notebook-cell://ssh-remote%2Bathomia/home/piriac/Pumberton/Workshop/21-SUMRY-Curvature/diffusion_curvature/nbs/Manifold%20Distances.ipynb#W5sdnNjb2RlLXJlbW90ZQ%3D%3D?line=0'>1</a>\u001b[0m A \u001b[39m=\u001b[39m random_jnparray(\u001b[39m8\u001b[39m,\u001b[39m3\u001b[39m)\n\u001b[0;32m----> <a href='vscode-notebook-cell://ssh-remote%2Bathomia/home/piriac/Pumberton/Workshop/21-SUMRY-Curvature/diffusion_curvature/nbs/Manifold%20Distances.ipynb#W5sdnNjb2RlLXJlbW90ZQ%3D%3D?line=1'>2</a>\u001b[0m D \u001b[39m=\u001b[39m pairwise_euclidean(A,A[\u001b[39m0\u001b[39;49m])\n",
      "\u001b[1;32m/home/piriac/Pumberton/Workshop/21-SUMRY-Curvature/diffusion_curvature/nbs/Manifold Distances.ipynb Cell 6\u001b[0m line \u001b[0;36m5\n\u001b[1;32m      <a href='vscode-notebook-cell://ssh-remote%2Bathomia/home/piriac/Pumberton/Workshop/21-SUMRY-Curvature/diffusion_curvature/nbs/Manifold%20Distances.ipynb#W5sdnNjb2RlLXJlbW90ZQ%3D%3D?line=2'>3</a>\u001b[0m \u001b[39mdef\u001b[39;00m \u001b[39mpairwise_euclidean\u001b[39m(x, y):\n\u001b[1;32m      <a href='vscode-notebook-cell://ssh-remote%2Bathomia/home/piriac/Pumberton/Workshop/21-SUMRY-Curvature/diffusion_curvature/nbs/Manifold%20Distances.ipynb#W5sdnNjb2RlLXJlbW90ZQ%3D%3D?line=3'>4</a>\u001b[0m   \u001b[39m# Pairwise euclidean distances in Jax, courtesy of [jakevdp](https://github.com/google/jax/discussions/11841)\u001b[39;00m\n\u001b[0;32m----> <a href='vscode-notebook-cell://ssh-remote%2Bathomia/home/piriac/Pumberton/Workshop/21-SUMRY-Curvature/diffusion_curvature/nbs/Manifold%20Distances.ipynb#W5sdnNjb2RlLXJlbW90ZQ%3D%3D?line=4'>5</a>\u001b[0m   \u001b[39massert\u001b[39;00m x\u001b[39m.\u001b[39mndim \u001b[39m==\u001b[39m y\u001b[39m.\u001b[39mndim \u001b[39m==\u001b[39m \u001b[39m2\u001b[39m\n\u001b[1;32m      <a href='vscode-notebook-cell://ssh-remote%2Bathomia/home/piriac/Pumberton/Workshop/21-SUMRY-Curvature/diffusion_curvature/nbs/Manifold%20Distances.ipynb#W5sdnNjb2RlLXJlbW90ZQ%3D%3D?line=5'>6</a>\u001b[0m   \u001b[39mreturn\u001b[39;00m jnp\u001b[39m.\u001b[39msqrt(((x[:, \u001b[39mNone\u001b[39;00m, :] \u001b[39m-\u001b[39m y[\u001b[39mNone\u001b[39;00m, :, :]) \u001b[39m*\u001b[39m\u001b[39m*\u001b[39m \u001b[39m2\u001b[39m)\u001b[39m.\u001b[39msum(\u001b[39m-\u001b[39m\u001b[39m1\u001b[39m))\n",
      "\u001b[0;31mAssertionError\u001b[0m: "
     ]
    }
   ],
   "source": [
    "A = random_jnparray(8,3)\n",
    "D = pairwise_euclidean(A,A)"
   ]
  },
  {
   "cell_type": "code",
   "execution_count": null,
   "metadata": {},
   "outputs": [
    {
     "data": {
      "text/plain": [
       "(8, 8)"
      ]
     },
     "execution_count": 9,
     "metadata": {},
     "output_type": "execute_result"
    }
   ],
   "source": [
    "D.shape"
   ]
  },
  {
   "cell_type": "code",
   "execution_count": null,
   "metadata": {},
   "outputs": [],
   "source": [
    "from diffusion_curvature.datasets import torus\n",
    "X_torus, torus_gaussian_curvature = torus(n=3000)\n",
    "import graphtools\n",
    "G_torus = graphtools.Graph(X_torus)\n",
    "G_torus.Pt = G_torus.P ** 4"
   ]
  },
  {
   "cell_type": "code",
   "execution_count": null,
   "metadata": {},
   "outputs": [],
   "source": [
    "G_torus = phate_distances(G_torus)"
   ]
  },
  {
   "cell_type": "code",
   "execution_count": null,
   "metadata": {},
   "outputs": [
    {
     "data": {
      "text/plain": [
       "array([[ 0.        , 93.7875039 , 94.59402414, ..., 92.54080119,\n",
       "        90.6213935 , 92.93120075],\n",
       "       [93.7875039 ,  0.        , 89.16673659, ..., 86.98550107,\n",
       "        84.94065264, 87.40071844],\n",
       "       [94.59402414, 89.16673659,  0.        , ..., 87.64808383,\n",
       "        85.61906139, 82.96883047],\n",
       "       ...,\n",
       "       [92.54080119, 86.98550107, 87.64808383, ...,  0.        ,\n",
       "        83.30204347, 85.8508315 ],\n",
       "       [90.6213935 , 84.94065264, 85.61906139, ..., 83.30204347,\n",
       "         0.        , 83.77829279],\n",
       "       [92.93120075, 87.40071844, 82.96883047, ..., 85.8508315 ,\n",
       "        83.77829279,  0.        ]])"
      ]
     },
     "execution_count": 6,
     "metadata": {},
     "output_type": "execute_result"
    }
   ],
   "source": [
    "G_torus.D"
   ]
  },
  {
   "cell_type": "code",
   "execution_count": null,
   "metadata": {},
   "outputs": [],
   "source": []
  }
 ],
 "metadata": {
  "kernelspec": {
   "display_name": "python3",
   "language": "python",
   "name": "python3"
  },
  "language_info": {
   "codemirror_mode": {
    "name": "ipython",
    "version": 3
   },
   "file_extension": ".py",
   "mimetype": "text/x-python",
   "name": "python",
   "nbconvert_exporter": "python",
   "pygments_lexer": "ipython3",
   "version": "3.11.5"
  }
 },
 "nbformat": 4,
 "nbformat_minor": 2
}
