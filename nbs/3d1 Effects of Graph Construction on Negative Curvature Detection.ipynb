{
 "cells": [
  {
   "cell_type": "code",
   "execution_count": 1,
   "id": "39ba99dd-c39d-4b6c-9b52-557fc48ec7cd",
   "metadata": {},
   "outputs": [],
   "source": [
    "#|default_exp 3c1_graph_construction_experiments\n",
    "#|hide\n",
    "## Standard libraries\n",
    "import os\n",
    "import math\n",
    "import numpy as np\n",
    "import time\n",
    "# Configure environment\n",
    "os.environ['XLA_PYTHON_CLIENT_PREALLOCATE']='false' # Tells Jax not to hog all of the memory to this process.\n",
    "\n",
    "## Imports for plotting\n",
    "import matplotlib.pyplot as plt\n",
    "%matplotlib inline\n",
    "from matplotlib.colors import to_rgba\n",
    "import seaborn as sns\n",
    "sns.set()\n",
    "\n",
    "## Progress bar\n",
    "from tqdm.notebook import tqdm, trange\n",
    "\n",
    "## project specifics\n",
    "import diffusion_curvature\n",
    "from diffusion_curvature.datasets import *\n",
    "from diffusion_curvature.graphs import *\n",
    "from diffusion_curvature.core import *\n",
    "import jax\n",
    "import jax.numpy as jnp\n",
    "jax.devices()\n",
    "\n",
    "%load_ext autoreload\n",
    "%autoreload 2"
   ]
  },
  {
   "cell_type": "markdown",
   "id": "b7bf0673-7659-48ac-b5c5-4b2402b0815c",
   "metadata": {},
   "source": [
    "# 3d1 Effects of Graph Construction on Negative Curvature"
   ]
  },
  {
   "cell_type": "markdown",
   "id": "6aecd7ae-d2ef-42c3-a5f1-7dc52366dff3",
   "metadata": {},
   "source": [
    "In 3d, we noticed that the knn value has a suspiciously large effect on the signs of curvature measured. With $k=5$, DC has trouble picking up any negative curvature; with $k=15$, it struggles to identify anything as positive."
   ]
  },
  {
   "cell_type": "markdown",
   "id": "842dc8c3-b8cf-4ecd-a294-fecbe315ac99",
   "metadata": {},
   "source": [
    "Here we'll test the method by probing its ability to separate saddles and spheres in various dimensions."
   ]
  },
  {
   "cell_type": "code",
   "execution_count": 3,
   "id": "951363b9-5668-4eba-9b2f-ce747c0da198",
   "metadata": {},
   "outputs": [],
   "source": [
    "import graphtools\n",
    "from diffusion_curvature.core import DiffusionCurvature\n",
    "from diffusion_curvature.datasets import rejection_sample_from_saddle, sphere\n",
    "\n",
    "def get_dc_of_saddles_and_spheres(\n",
    "    dim = 3,\n",
    "    num_samplings = 100,\n",
    "    knn = 15,\n",
    "):\n",
    "    samplings = [2000]*num_samplings\n",
    "    ks_dc_saddles = []\n",
    "    ks_dc_spheres = []\n",
    "    X_saddles_sampled = []\n",
    "    X_spheres_sampled = []\n",
    "    \n",
    "    for n_points in tqdm(samplings):\n",
    "        X_saddle, k_saddle = rejection_sample_from_saddle(n_points, dim)\n",
    "        X_saddles_sampled.append(X_saddle)\n",
    "        X_sphere, k_sphere = sphere(n_points, d=dim)\n",
    "        X_spheres_sampled.append(X_sphere)\n",
    "        # Compute Diffusion Curvature on Sphere\n",
    "        G = graphtools.Graph(X_sphere, anisotropy=1, knn=knn, decay=None).to_pygsp()\n",
    "        DC = DiffusionCurvature(\n",
    "            laziness_method=\"Entropic\",\n",
    "            flattening_method=\"Mean Fixed\",\n",
    "            comparison_method=\"Subtraction\",\n",
    "            points_per_cluster=None, # construct separate comparison spaces around each point\n",
    "            comparison_space_size_factor=1\n",
    "        )\n",
    "        ks = DC.curvature(G, t=25, dim=dim, knn=knn, idx=0)\n",
    "        ks_dc_spheres.append(ks)\n",
    "        # Compute Diffusion Curvature on Saddle\n",
    "        G = graphtools.Graph(X_saddle, anisotropy=1, knn=knn, decay=None).to_pygsp()\n",
    "        DC = DiffusionCurvature(\n",
    "            laziness_method=\"Entropic\",\n",
    "            flattening_method=\"Mean Fixed\",\n",
    "            comparison_method=\"Subtraction\",\n",
    "            points_per_cluster=None, # construct separate comparison spaces around each point\n",
    "            comparison_space_size_factor=1\n",
    "        )\n",
    "        ks = DC.curvature(G, t=25, dim=dim, knn=knn, idx=0)\n",
    "        ks_dc_saddles.append(ks)\n",
    "    \n",
    "    # plot a histogram of the diffusion curvatures\n",
    "    plt.hist(ks_dc, bins=20, color='blue', label = 'Saddles')\n",
    "    plt.hist(ks_dc, bins=20, color='blue', label = 'Spheres')\n",
    "    plt.legend()\n",
    "    # plt.xlabel('')\n",
    "    # plt.ylabel('Frequency')"
   ]
  },
  {
   "cell_type": "code",
   "execution_count": null,
   "id": "3d3b938b-dbeb-4151-8728-749271001302",
   "metadata": {},
   "outputs": [
    {
     "data": {
      "application/vnd.jupyter.widget-view+json": {
       "model_id": "a9a0455779184316a94c2f88231dc1a9",
       "version_major": 2,
       "version_minor": 0
      },
      "text/plain": [
       "  0%|          | 0/100 [00:00<?, ?it/s]"
      ]
     },
     "metadata": {},
     "output_type": "display_data"
    }
   ],
   "source": [
    "get_dc_of_saddles_and_spheres(knn=15)"
   ]
  },
  {
   "cell_type": "code",
   "execution_count": null,
   "id": "1faa7b43-1da6-4363-81c4-0a9d0e7cf04b",
   "metadata": {},
   "outputs": [],
   "source": []
  }
 ],
 "metadata": {
  "kernelspec": {
   "display_name": "diffusion-curvature",
   "language": "python",
   "name": "diffusion-curvature"
  },
  "language_info": {
   "codemirror_mode": {
    "name": "ipython",
    "version": 3
   },
   "file_extension": ".py",
   "mimetype": "text/x-python",
   "name": "python",
   "nbconvert_exporter": "python",
   "pygments_lexer": "ipython3",
   "version": "3.11.6"
  }
 },
 "nbformat": 4,
 "nbformat_minor": 5
}
