{
 "cells": [
  {
   "cell_type": "code",
   "execution_count": null,
   "metadata": {},
   "outputs": [],
   "source": [
    "#|default_exp compute_mean_flat_entropies"
   ]
  },
  {
   "cell_type": "markdown",
   "metadata": {},
   "source": [
    "# 1c1 Mean Entropy of Uniform Flat Spaces"
   ]
  },
  {
   "cell_type": "code",
   "execution_count": null,
   "metadata": {},
   "outputs": [],
   "source": [
    "#|export\n",
    "import jax.numpy as jnp\n",
    "from diffusion_curvature.core import DiffusionCurvature, get_adaptive_graph\n",
    "from diffusion_curvature.utils import *\n",
    "from tqdm.auto import tqdm\n",
    "import graphtools\n",
    "\n",
    "def average_flat_entropies(\n",
    "        dim,\n",
    "        t,\n",
    "        num_trials,\n",
    "        num_points_in_comparison = 10000,\n",
    "        graph_former = get_adaptive_graph\n",
    "):\n",
    "    DC = DiffusionCurvature(\n",
    "        laziness_method=\"Entropic\",\n",
    "        flattening_method=\"Fixed\",\n",
    "        comparison_method=\"Subtraction\",\n",
    "        points_per_cluster=None, # construct separate comparison spaces around each point\n",
    "        comparison_space_size_factor=1\n",
    "    )\n",
    "    flat_spreads = jnp.zeros(num_trials)\n",
    "    for i in range(num_trials):\n",
    "        Rn = jnp.concatenate([jnp.zeros((1,dim)), 2*random_jnparray(num_points_in_comparison-1, dim)-1])\n",
    "        G = graph_former(Rn) #graphtools.Graph(Rn, anisotropy=1, knn=k, decay=None,).to_pygsp()\n",
    "        fs = DC.unsigned_curvature(G, t, idx=0)\n",
    "        flat_spreads = flat_spreads.at[i].set(fs)\n",
    "    return jnp.mean(flat_spreads)"
   ]
  },
  {
   "cell_type": "code",
   "execution_count": null,
   "metadata": {},
   "outputs": [],
   "source": [
    "#|export\n",
    "import h5py\n",
    "from fastcore.all import *\n",
    "@call_parse\n",
    "def create_mean_entropy_database(\n",
    "    outfile = \"../data/entropies_averaged.h5\",\n",
    "    dimensions:Param(\"(Intrinsic) Dimensions to Take Mean Entropies over\", int, nargs='+') = [1,2,3,4,5,6],\n",
    "    knns:Param(\"k-nearest neighbor values to compute\", int, nargs='+') = [5,10,15],\n",
    "    ts:Param(\"time values to compute\", int, nargs='+') = [25,30,35],\n",
    "):\n",
    "    # load the database\n",
    "    f = h5py.File(outfile,'a')\n",
    "    for i, dim in tqdm(enumerate(dimensions)):\n",
    "        # load the group corresponding to dimension; create if it doesn't exist\n",
    "        if str(dim) in f.keys(): dim_group = f[str(dim)]\n",
    "        else:               dim_group = f.create_group(str(dim))\n",
    "        for j, knn in tqdm(enumerate(knns),leave=False):\n",
    "            if str(knn) in dim_group.keys(): knn_group = dim_group[str(knn)]\n",
    "            else:                            knn_group = dim_group.create_group(str(knn))\n",
    "            for k, t in tqdm(enumerate(ts),leave=False):\n",
    "                if str(t) in knn_group.keys(): continue\n",
    "                else:\n",
    "                    afe = average_flat_entropies(dim, knn, t, 100)\n",
    "                    knn_group.create_dataset(str(t), data=afe)\n",
    "    return f\n"
   ]
  },
  {
   "cell_type": "code",
   "execution_count": null,
   "metadata": {},
   "outputs": [],
   "source": [
    "#|export\n",
    "import h5py\n",
    "def load_average_entropies(filename):\n",
    "    d = {}\n",
    "    with h5py.File(filename,'r') as f:\n",
    "        for dim in f.keys():\n",
    "            d[dim] = {}\n",
    "            for knn in f[dim].keys():\n",
    "                d[dim][knn] = {}\n",
    "                for t in f[dim][knn].keys():\n",
    "                    d[dim][knn][t] = f[dim][knn][t][()]\n",
    "    return d"
   ]
  },
  {
   "cell_type": "code",
   "execution_count": null,
   "metadata": {},
   "outputs": [],
   "source": [
    "d = load_average_entropies('../data/entropies_averaged.h5')"
   ]
  },
  {
   "cell_type": "code",
   "execution_count": null,
   "metadata": {},
   "outputs": [
    {
     "data": {
      "text/plain": [
       "{'1': {'10': {'25': 4.1617084},\n",
       "  '15': {'25': 4.5504103},\n",
       "  '5': {'25': 3.4661007}},\n",
       " '2': {'10': {'25': 5.775014}, '15': {'25': 6.2073145}, '5': {'25': 4.912664}},\n",
       " '3': {'10': {'25': 7.301388},\n",
       "  '15': {'25': 7.7671103},\n",
       "  '5': {'25': 6.2948627}},\n",
       " '4': {'10': {'25': 8.641593}, '15': {'25': 8.925011}, '5': {'25': 7.6750712}},\n",
       " '5': {'10': {'25': 9.111419}, '15': {'25': 9.178771}, '5': {'25': 8.638502}},\n",
       " '6': {'10': {'25': 9.189743}, '15': {'25': 9.203704}, '5': {'25': 9.015003}}}"
      ]
     },
     "execution_count": null,
     "metadata": {},
     "output_type": "execute_result"
    }
   ],
   "source": [
    "d"
   ]
  },
  {
   "cell_type": "code",
   "execution_count": 3,
   "metadata": {},
   "outputs": [],
   "source": [
    "!nbdev_export"
   ]
  },
  {
   "cell_type": "code",
   "execution_count": null,
   "metadata": {},
   "outputs": [],
   "source": []
  }
 ],
 "metadata": {
  "kernelspec": {
   "display_name": "Python [conda env:diffusion_curvature]",
   "language": "python",
   "name": "conda-env-diffusion_curvature-py"
  },
  "language_info": {
   "codemirror_mode": {
    "name": "ipython",
    "version": 3
   },
   "file_extension": ".py",
   "mimetype": "text/x-python",
   "name": "python",
   "nbconvert_exporter": "python",
   "pygments_lexer": "ipython3",
   "version": "3.11.6"
  }
 },
 "nbformat": 4,
 "nbformat_minor": 4
}
