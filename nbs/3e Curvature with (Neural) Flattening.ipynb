{
 "cells": [
  {
   "cell_type": "code",
   "execution_count": null,
   "id": "ea0a00a4-c3c9-4ee5-a65f-4d50f66b0e69",
   "metadata": {},
   "outputs": [
    {
     "name": "stdout",
     "output_type": "stream",
     "text": [
      "[gpu(id=0)]\n"
     ]
    }
   ],
   "source": [
    "#| echo: false\n",
    "# project imports go here\n",
    "import numpy as np\n",
    "\n",
    "import matplotlib.pyplot as plt\n",
    "from tqdm.auto import tqdm, trange\n",
    "import diffusion_curvature\n",
    "from diffusion_curvature.utils import *\n",
    "\n",
    "## project specifics\n",
    "import diffusion_curvature\n",
    "from diffusion_curvature.datasets import *\n",
    "from diffusion_curvature.graphs import *\n",
    "from diffusion_curvature.core import *\n",
    "import jax\n",
    "import jax.numpy as jnp\n",
    "print(jax.devices())\n",
    "\n",
    "%load_ext autoreload\n",
    "%autoreload 2"
   ]
  },
  {
   "cell_type": "markdown",
   "id": "64b0e4a6-0824-475b-b256-1d533214b8bd",
   "metadata": {},
   "source": [
    "# 3e Curvature Via (Neural) Flattening\n",
    "\n",
    "The bugbear of diffusion curvature, as it now stands, is that the local sampling of each neighborhood is (especially in high dimensions) full of pockmarks and holes that interfere with the curvature measurement. \n",
    "\n",
    "One possible solution is to create a comparison space that have the same deformities. This notebook tests two methods of doing this:\n",
    "\n",
    "1. Just taking a PCA projection of the data into the (known) intrinsic dimension, then building a graph in the euclidean PCA plane, and using this as the comparison graph.\n",
    "2. Performing \"Neural Flattening\" on the PCA'd space, to force points to migrate out of areas with high density into a more uniform distribution."
   ]
  },
  {
   "cell_type": "markdown",
   "id": "a626117b-82d7-4414-8e1b-c39e109e3d59",
   "metadata": {},
   "source": [
    "# The Normal Way\n",
    "\n",
    "First, we create a dataset of saddles and take the diffusion curvature on them in the normal way, with the mean precomputed comparison space."
   ]
  },
  {
   "cell_type": "code",
   "execution_count": null,
   "id": "e5bbbbc5-b350-456a-b820-7f8ba7e521fe",
   "metadata": {},
   "outputs": [
    {
     "data": {
      "application/vnd.jupyter.widget-view+json": {
       "model_id": "f136c5ef679f455f985847ba33f17d4f",
       "version_major": 2,
       "version_minor": 0
      },
      "text/plain": [
       "  0%|          | 0/100 [00:00<?, ?it/s]"
      ]
     },
     "metadata": {},
     "output_type": "display_data"
    },
    {
     "name": "stderr",
     "output_type": "stream",
     "text": [
      "2023-12-08 15:24:09.030037: W external/xla/xla/stream_executor/gpu/asm_compiler.cc:231] Falling back to the CUDA driver for PTX compilation; ptxas does not support CC 8.9\n",
      "2023-12-08 15:24:09.030055: W external/xla/xla/stream_executor/gpu/asm_compiler.cc:234] Used ptxas at ptxas\n",
      "2023-12-08 15:24:09.030122: W external/xla/xla/stream_executor/gpu/redzone_allocator.cc:322] UNIMPLEMENTED: ptxas ptxas too old. Falling back to the driver to compile.\n",
      "Relying on driver to perform ptx compilation. \n",
      "Modify $PATH to customize ptxas location.\n",
      "This message will be only logged once.\n",
      "2023-12-08 15:24:09.032957: W external/xla/xla/service/gpu/buffer_comparator.cc:641] UNIMPLEMENTED: ptxas ptxas too old. Falling back to the driver to compile.\n",
      "Relying on driver to perform ptx compilation. \n",
      "Setting XLA_FLAGS=--xla_gpu_cuda_data_dir=/path/to/cuda  or modifying $PATH can be used to set the location of ptxas\n",
      "This message will only be logged once.\n",
      "2023-12-08 15:24:09.063303: E external/xla/xla/stream_executor/cuda/cuda_driver.cc:548] failed to load PTX text as a module: CUDA_ERROR_INVALID_IMAGE: device kernel image is invalid\n",
      "2023-12-08 15:24:09.063327: E external/xla/xla/stream_executor/cuda/cuda_driver.cc:553] error log buffer (63 bytes): error   : Binary format for key='0', ident='' is not recognize\n",
      "2023-12-08 15:24:09.063350: W external/xla/xla/service/gpu/runtime/support.cc:58] Intercepted XLA runtime error:\n",
      "INTERNAL: Failed to load PTX text as a module: CUDA_ERROR_INVALID_IMAGE: device kernel image is invalid\n",
      "2023-12-08 15:24:09.063374: E external/xla/xla/pjrt/pjrt_stream_executor_client.cc:2593] Execution of replica 0 failed: INTERNAL: Failed to execute XLA Runtime executable: run time error: custom call 'xla.gpu.func.launch' failed: Failed to load PTX text as a module: CUDA_ERROR_INVALID_IMAGE: device kernel image is invalid; current tracing scope: concatenate.1; current profiling annotation: XlaModule:#hlo_module=jit_matrix_power,program_id=2#.\n"
     ]
    },
    {
     "ename": "XlaRuntimeError",
     "evalue": "INTERNAL: Failed to execute XLA Runtime executable: run time error: custom call 'xla.gpu.func.launch' failed: Failed to load PTX text as a module: CUDA_ERROR_INVALID_IMAGE: device kernel image is invalid; current tracing scope: concatenate.1; current profiling annotation: XlaModule:#hlo_module=jit_matrix_power,program_id=2#.",
     "output_type": "error",
     "traceback": [
      "\u001b[0;31m---------------------------------------------------------------------------\u001b[0m",
      "\u001b[0;31mXlaRuntimeError\u001b[0m                           Traceback (most recent call last)",
      "Cell \u001b[0;32mIn[2], line 20\u001b[0m\n\u001b[1;32m     12\u001b[0m     G \u001b[38;5;241m=\u001b[39m graphtools\u001b[38;5;241m.\u001b[39mGraph(X, anisotropy\u001b[38;5;241m=\u001b[39m\u001b[38;5;241m1\u001b[39m, knn\u001b[38;5;241m=\u001b[39m\u001b[38;5;241m5\u001b[39m, decay\u001b[38;5;241m=\u001b[39m\u001b[38;5;28;01mNone\u001b[39;00m)\u001b[38;5;241m.\u001b[39mto_pygsp()\n\u001b[1;32m     13\u001b[0m     DC \u001b[38;5;241m=\u001b[39m DiffusionCurvature(\n\u001b[1;32m     14\u001b[0m         laziness_method\u001b[38;5;241m=\u001b[39m\u001b[38;5;124m\"\u001b[39m\u001b[38;5;124mEntropic\u001b[39m\u001b[38;5;124m\"\u001b[39m,\n\u001b[1;32m     15\u001b[0m         flattening_method\u001b[38;5;241m=\u001b[39m\u001b[38;5;124m\"\u001b[39m\u001b[38;5;124mMean Fixed\u001b[39m\u001b[38;5;124m\"\u001b[39m,\n\u001b[0;32m   (...)\u001b[0m\n\u001b[1;32m     18\u001b[0m         comparison_space_size_factor\u001b[38;5;241m=\u001b[39m\u001b[38;5;241m1\u001b[39m\n\u001b[1;32m     19\u001b[0m     )\n\u001b[0;32m---> 20\u001b[0m     ks \u001b[38;5;241m=\u001b[39m \u001b[43mDC\u001b[49m\u001b[38;5;241;43m.\u001b[39;49m\u001b[43mcurvature\u001b[49m\u001b[43m(\u001b[49m\u001b[43mG\u001b[49m\u001b[43m,\u001b[49m\u001b[43m \u001b[49m\u001b[43mt\u001b[49m\u001b[38;5;241;43m=\u001b[39;49m\u001b[38;5;241;43m25\u001b[39;49m\u001b[43m,\u001b[49m\u001b[43m \u001b[49m\u001b[43mdim\u001b[49m\u001b[38;5;241;43m=\u001b[39;49m\u001b[43mdim\u001b[49m\u001b[43m,\u001b[49m\u001b[43m \u001b[49m\u001b[43mknn\u001b[49m\u001b[38;5;241;43m=\u001b[39;49m\u001b[38;5;241;43m5\u001b[39;49m\u001b[43m,\u001b[49m\u001b[43m \u001b[49m\u001b[43midx\u001b[49m\u001b[38;5;241;43m=\u001b[39;49m\u001b[38;5;241;43m0\u001b[39;49m\u001b[43m)\u001b[49m\n\u001b[1;32m     21\u001b[0m     ks_dc\u001b[38;5;241m.\u001b[39mappend(ks)\n\u001b[1;32m     22\u001b[0m \u001b[38;5;66;03m# plot a histogram of the diffusion curvatures\u001b[39;00m\n",
      "File \u001b[0;32m~/Pumberton/Workshop/21-SUMRY-Curvature/diffusion_curvature/diffusion_curvature/core.py:179\u001b[0m, in \u001b[0;36mDiffusionCurvature.curvature\u001b[0;34m(self, G, t, idx, dim, knn)\u001b[0m\n\u001b[1;32m    175\u001b[0m                 \u001b[38;5;28;01mreturn\u001b[39;00m \u001b[38;5;28mself\u001b[39m\u001b[38;5;241m.\u001b[39mSGT[dimension][knn][t]\n\u001b[1;32m    178\u001b[0m \u001b[38;5;66;03m# Start by estimating the manifold's unsigned curvature, i.e. spreads of diffusion\u001b[39;00m\n\u001b[0;32m--> 179\u001b[0m manifold_spreads, manifold_spreads_nought, P, Pt, t \u001b[38;5;241m=\u001b[39m \u001b[38;5;28;43mself\u001b[39;49m\u001b[38;5;241;43m.\u001b[39;49m\u001b[43munsigned_curvature\u001b[49m\u001b[43m(\u001b[49m\u001b[43mG\u001b[49m\u001b[43m,\u001b[49m\u001b[43mt\u001b[49m\u001b[43m,\u001b[49m\u001b[43midx\u001b[49m\u001b[43m,\u001b[49m\u001b[43m \u001b[49m\u001b[43m_also_return_first_scale\u001b[49m\u001b[38;5;241;43m=\u001b[39;49m\u001b[38;5;28;43;01mTrue\u001b[39;49;00m\u001b[43m)\u001b[49m\n\u001b[1;32m    181\u001b[0m n \u001b[38;5;241m=\u001b[39m G\u001b[38;5;241m.\u001b[39mL\u001b[38;5;241m.\u001b[39mshape[\u001b[38;5;241m0\u001b[39m]\n\u001b[1;32m    182\u001b[0m \u001b[38;5;28;01mif\u001b[39;00m dim \u001b[38;5;129;01mis\u001b[39;00m \u001b[38;5;28;01mNone\u001b[39;00m: \u001b[38;5;66;03m# The dimension wasn't supplied; we'll estimate it pointwise\u001b[39;00m\n",
      "File \u001b[0;32m~/Pumberton/Workshop/21-SUMRY-Curvature/diffusion_curvature/diffusion_curvature/core.py:81\u001b[0m, in \u001b[0;36mDiffusionCurvature.unsigned_curvature\u001b[0;34m(self, G, t, idx, _also_return_first_scale, D)\u001b[0m\n\u001b[1;32m     79\u001b[0m     P \u001b[38;5;241m=\u001b[39m jnp\u001b[38;5;241m.\u001b[39marray(P)\n\u001b[1;32m     80\u001b[0m     \u001b[38;5;28;01mif\u001b[39;00m t \u001b[38;5;129;01mis\u001b[39;00m \u001b[38;5;28;01mNone\u001b[39;00m: t \u001b[38;5;241m=\u001b[39m optimal_t_via_vne(P)\n\u001b[0;32m---> 81\u001b[0m     Pt \u001b[38;5;241m=\u001b[39m \u001b[43mjax_power_matrix\u001b[49m\u001b[43m(\u001b[49m\u001b[43mP\u001b[49m\u001b[43m,\u001b[49m\u001b[43mt\u001b[49m\u001b[43m)\u001b[49m\n\u001b[1;32m     82\u001b[0m \u001b[38;5;28;01mcase\u001b[39;00m \u001b[38;5;124m'\u001b[39m\u001b[38;5;124mheat kernel\u001b[39m\u001b[38;5;124m'\u001b[39m:\n\u001b[1;32m     83\u001b[0m     signal \u001b[38;5;241m=\u001b[39m jnp\u001b[38;5;241m.\u001b[39meye(n) \u001b[38;5;28;01mif\u001b[39;00m idx \u001b[38;5;129;01mis\u001b[39;00m \u001b[38;5;129;01mnot\u001b[39;00m \u001b[38;5;28;01mNone\u001b[39;00m \u001b[38;5;28;01melse\u001b[39;00m kronecker_delta(n,idx\u001b[38;5;241m=\u001b[39midx)\n",
      "File \u001b[0;32m~/Pumberton/Workshop/21-SUMRY-Curvature/diffusion_curvature/diffusion_curvature/heat_diffusion.py:15\u001b[0m, in \u001b[0;36mjax_power_matrix\u001b[0;34m(P, t)\u001b[0m\n\u001b[1;32m     11\u001b[0m \u001b[38;5;28;01mdef\u001b[39;00m \u001b[38;5;21mjax_power_matrix\u001b[39m(\n\u001b[1;32m     12\u001b[0m           P:jax\u001b[38;5;241m.\u001b[39mArray, \n\u001b[1;32m     13\u001b[0m           t:\u001b[38;5;28mint\u001b[39m,\n\u001b[1;32m     14\u001b[0m           ):\n\u001b[0;32m---> 15\u001b[0m             \u001b[38;5;28;01mreturn\u001b[39;00m \u001b[43mjnp\u001b[49m\u001b[38;5;241;43m.\u001b[39;49m\u001b[43mlinalg\u001b[49m\u001b[38;5;241;43m.\u001b[39;49m\u001b[43mmatrix_power\u001b[49m\u001b[43m(\u001b[49m\u001b[43mP\u001b[49m\u001b[43m,\u001b[49m\u001b[43m \u001b[49m\u001b[43mt\u001b[49m\u001b[43m)\u001b[49m\n",
      "    \u001b[0;31m[... skipping hidden 10 frame]\u001b[0m\n",
      "File \u001b[0;32m~/mambaforge/envs/diffusion_curvature/lib/python3.11/site-packages/jax/_src/interpreters/pxla.py:1152\u001b[0m, in \u001b[0;36mExecuteReplicated.__call__\u001b[0;34m(self, *args)\u001b[0m\n\u001b[1;32m   1150\u001b[0m   \u001b[38;5;28mself\u001b[39m\u001b[38;5;241m.\u001b[39m_handle_token_bufs(result_token_bufs, sharded_runtime_token)\n\u001b[1;32m   1151\u001b[0m \u001b[38;5;28;01melse\u001b[39;00m:\n\u001b[0;32m-> 1152\u001b[0m   results \u001b[38;5;241m=\u001b[39m \u001b[38;5;28;43mself\u001b[39;49m\u001b[38;5;241;43m.\u001b[39;49m\u001b[43mxla_executable\u001b[49m\u001b[38;5;241;43m.\u001b[39;49m\u001b[43mexecute_sharded\u001b[49m\u001b[43m(\u001b[49m\u001b[43minput_bufs\u001b[49m\u001b[43m)\u001b[49m\n\u001b[1;32m   1153\u001b[0m \u001b[38;5;28;01mif\u001b[39;00m dispatch\u001b[38;5;241m.\u001b[39mneeds_check_special():\n\u001b[1;32m   1154\u001b[0m   out_arrays \u001b[38;5;241m=\u001b[39m results\u001b[38;5;241m.\u001b[39mdisassemble_into_single_device_arrays()\n",
      "\u001b[0;31mXlaRuntimeError\u001b[0m: INTERNAL: Failed to execute XLA Runtime executable: run time error: custom call 'xla.gpu.func.launch' failed: Failed to load PTX text as a module: CUDA_ERROR_INVALID_IMAGE: device kernel image is invalid; current tracing scope: concatenate.1; current profiling annotation: XlaModule:#hlo_module=jit_matrix_power,program_id=2#."
     ]
    }
   ],
   "source": [
    "import graphtools\n",
    "from diffusion_curvature.core import DiffusionCurvature\n",
    "from diffusion_curvature.datasets import rejection_sample_from_saddle\n",
    "ks_dc = []\n",
    "dim = 2\n",
    "samplings = [200]*100\n",
    "Xs_sampled = []\n",
    "for n_points in tqdm(samplings):\n",
    "    X, k = rejection_sample_from_saddle(n_points, dim)\n",
    "    Xs_sampled.append(X)\n",
    "    # Compute Diffusion Curvature\n",
    "    G = graphtools.Graph(X, anisotropy=1, knn=5, decay=None).to_pygsp()\n",
    "    DC = DiffusionCurvature(\n",
    "        laziness_method=\"Entropic\",\n",
    "        flattening_method=\"Mean Fixed\",\n",
    "        comparison_method=\"Subtraction\",\n",
    "        points_per_cluster=None, # construct separate comparison spaces around each point\n",
    "        comparison_space_size_factor=1\n",
    "    )\n",
    "    ks = DC.curvature(G, t=25, dim=dim, knn=5, idx=0)\n",
    "    ks_dc.append(ks)\n",
    "# plot a histogram of the diffusion curvatures\n",
    "plt.hist(ks_dc, bins=20)"
   ]
  },
  {
   "cell_type": "markdown",
   "id": "669194b7-1435-422c-888b-048fdc47e34f",
   "metadata": {},
   "source": []
  }
 ],
 "metadata": {
  "kernelspec": {
   "display_name": "diffusion-curvature",
   "language": "python",
   "name": "diffusion-curvature"
  },
  "language_info": {
   "codemirror_mode": {
    "name": "ipython",
    "version": 3
   },
   "file_extension": ".py",
   "mimetype": "text/x-python",
   "name": "python",
   "nbconvert_exporter": "python",
   "pygments_lexer": "ipython3",
   "version": "3.11.6"
  }
 },
 "nbformat": 4,
 "nbformat_minor": 5
}
