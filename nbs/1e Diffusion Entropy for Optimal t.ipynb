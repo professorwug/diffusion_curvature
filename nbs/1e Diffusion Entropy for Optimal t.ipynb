{
 "cells": [
  {
   "cell_type": "code",
   "execution_count": 33,
   "metadata": {},
   "outputs": [],
   "source": [
    "#|default_exp vne"
   ]
  },
  {
   "cell_type": "code",
   "execution_count": 34,
   "metadata": {},
   "outputs": [],
   "source": [
    "#|export\n",
    "# original code Daniel Burkhardt <daniel.burkhardt@yale.edu> for PHATE\n",
    "# (C) 2017 Krishnaswamy Lab GPLv2\n",
    "# adapted by Kincaid MacDonald to support JAX\n",
    "\n",
    "from __future__ import print_function, division\n",
    "import jax.numpy as jnp\n",
    "from scipy.linalg import svd\n",
    "\n",
    "# Von Neumann Entropy\n",
    "\n",
    "\n",
    "def compute_von_neumann_entropy(data, t_max=100):\n",
    "    \"\"\"\n",
    "    Determines the Von Neumann entropy of data\n",
    "    at varying matrix powers. The user should select a value of t\n",
    "    around the \"knee\" of the entropy curve.\n",
    "\n",
    "    Parameters\n",
    "    ----------\n",
    "    t_max : int, default: 100\n",
    "        Maximum value of t to test\n",
    "\n",
    "    Returns\n",
    "    -------\n",
    "    entropy : array, shape=[t_max]\n",
    "        The entropy of the diffusion affinities for each value of t\n",
    "\n",
    "    Examples\n",
    "    --------\n",
    "    >>> import numpy as np\n",
    "    >>> import phate\n",
    "    >>> X = np.eye(10)\n",
    "    >>> X[0,0] = 5\n",
    "    >>> X[3,2] = 4\n",
    "    >>> h = phate.vne.compute_von_neumann_entropy(X)\n",
    "    >>> phate.vne.find_knee_point(h)\n",
    "    23\n",
    "\n",
    "    \"\"\"\n",
    "    eigenvalues = jnp.linalg.svd(data, compute_uv=False)\n",
    "    entropy = []\n",
    "    eigenvalues_t = jnp.copy(eigenvalues)\n",
    "    for _ in range(t_max):\n",
    "        prob = eigenvalues_t / jnp.sum(eigenvalues_t)\n",
    "        prob = prob + jnp.finfo(float).eps\n",
    "        entropy.append(-jnp.sum(prob * jnp.log(prob)))\n",
    "        eigenvalues_t = eigenvalues_t * eigenvalues\n",
    "    entropy = jnp.array(entropy)\n",
    "\n",
    "    return jnp.array(entropy)\n",
    "\n",
    "\n",
    "def find_knee_point(y, x=None):\n",
    "    \"\"\"\n",
    "    Returns the x-location of a (single) knee of curve y=f(x)\n",
    "\n",
    "    Parameters\n",
    "    ----------\n",
    "\n",
    "    y : array, shape=[n]\n",
    "        data for which to find the knee point\n",
    "\n",
    "    x : array, optional, shape=[n], default=np.arange(len(y))\n",
    "        indices of the data points of y,\n",
    "        if these are not in order and evenly spaced\n",
    "\n",
    "    Returns\n",
    "    -------\n",
    "    knee_point : int\n",
    "    The index (or x value) of the knee point on y\n",
    "\n",
    "    Examples\n",
    "    --------\n",
    "    >>> import numpy as np\n",
    "    >>> import phate\n",
    "    >>> x = np.arange(20)\n",
    "    >>> y = np.exp(-x/10)\n",
    "    >>> phate.vne.find_knee_point(y,x)\n",
    "    8\n",
    "\n",
    "    \"\"\"\n",
    "    try:\n",
    "        y.shape\n",
    "    except AttributeError:\n",
    "        y = jnp.array(y)\n",
    "\n",
    "    if len(y) < 3:\n",
    "        raise ValueError(\"Cannot find knee point on vector of length 3\")\n",
    "    elif len(y.shape) > 1:\n",
    "        raise ValueError(\"y must be 1-dimensional\")\n",
    "\n",
    "    if x is None:\n",
    "        x = jnp.arange(len(y))\n",
    "    else:\n",
    "        try:\n",
    "            x.shape\n",
    "        except AttributeError:\n",
    "            x = jnp.array(x)\n",
    "        if not x.shape == y.shape:\n",
    "            raise ValueError(\"x and y must be the same shape\")\n",
    "        else:\n",
    "            # ensure x is sorted float\n",
    "            idx = jnp.argsort(x)\n",
    "            x = x[idx]\n",
    "            y = y[idx]\n",
    "\n",
    "    n = jnp.arange(2, len(y) + 1).astype(jnp.float32)\n",
    "    # figure out the m and b (in the y=mx+b sense) for the \"left-of-knee\"\n",
    "    sigma_xy = jnp.cumsum(x * y)[1:]\n",
    "    sigma_x = jnp.cumsum(x)[1:]\n",
    "    sigma_y = jnp.cumsum(y)[1:]\n",
    "    sigma_xx = jnp.cumsum(x * x)[1:]\n",
    "    det = n * sigma_xx - sigma_x * sigma_x\n",
    "    mfwd = (n * sigma_xy - sigma_x * sigma_y) / det\n",
    "    bfwd = -(sigma_x * sigma_xy - sigma_xx * sigma_y) / det\n",
    "\n",
    "    # figure out the m and b (in the y=mx+b sense) for the \"right-of-knee\"\n",
    "    sigma_xy = jnp.cumsum(x[::-1] * y[::-1])[1:]\n",
    "    sigma_x = jnp.cumsum(x[::-1])[1:]\n",
    "    sigma_y = jnp.cumsum(y[::-1])[1:]\n",
    "    sigma_xx = jnp.cumsum(x[::-1] * x[::-1])[1:]\n",
    "    det = n * sigma_xx - sigma_x * sigma_x\n",
    "    mbck = ((n * sigma_xy - sigma_x * sigma_y) / det)[::-1]\n",
    "    bbck = (-(sigma_x * sigma_xy - sigma_xx * sigma_y) / det)[::-1]\n",
    "\n",
    "    # figure out the sum of per-point errors for left- and right- of-knee fits\n",
    "    error_curve = jnp.full_like(y, jnp.nan)\n",
    "    for breakpt in jnp.arange(1, len(y) - 1):\n",
    "        delsfwd = (mfwd[breakpt - 1] * x[: breakpt + 1] + bfwd[breakpt - 1]) - y[\n",
    "            : breakpt + 1\n",
    "        ]\n",
    "        delsbck = (mbck[breakpt - 1] * x[breakpt:] + bbck[breakpt - 1]) - y[breakpt:]\n",
    "\n",
    "        error_curve = error_curve.at[breakpt].set(\n",
    "            jnp.sum(jnp.abs(delsfwd)) + jnp.sum(jnp.abs(delsbck))\n",
    "        )\n",
    "\n",
    "    # find location of the min of the error curve\n",
    "    loc = jnp.argmin(error_curve[1:-1]) + 1\n",
    "    knee_point = x[loc]\n",
    "    return knee_point"
   ]
  },
  {
   "cell_type": "code",
   "execution_count": 35,
   "metadata": {},
   "outputs": [],
   "source": [
    "#|export\n",
    "def optimal_t_via_vne(P, tmax=100):\n",
    "    h = compute_von_neumann_entropy(P,t_max=tmax)\n",
    "    t = find_knee_point(h)\n",
    "    return int(t)"
   ]
  },
  {
   "cell_type": "code",
   "execution_count": 36,
   "metadata": {},
   "outputs": [],
   "source": [
    "from diffusion_curvature.datasets import torus\n",
    "import graphtools\n",
    "X, ks = torus(5000)\n",
    "G = graphtools.Graph(X, anisotropy=1, knn=15, decay=None).to_pygsp()\n",
    "from diffusion_curvature.graphs import diff_aff, diff_op, diffusion_matrix_from_affinities\n",
    "P = diff_op(G).todense()"
   ]
  },
  {
   "cell_type": "code",
   "execution_count": 37,
   "metadata": {},
   "outputs": [
    {
     "data": {
      "text/plain": [
       "matrix([[0., 0., 0., ..., 0., 0., 0.],\n",
       "        [0., 0., 0., ..., 0., 0., 0.],\n",
       "        [0., 0., 0., ..., 0., 0., 0.],\n",
       "        ...,\n",
       "        [0., 0., 0., ..., 0., 0., 0.],\n",
       "        [0., 0., 0., ..., 0., 0., 0.],\n",
       "        [0., 0., 0., ..., 0., 0., 0.]])"
      ]
     },
     "execution_count": 37,
     "metadata": {},
     "output_type": "execute_result"
    }
   ],
   "source": [
    "P"
   ]
  },
  {
   "cell_type": "code",
   "execution_count": 38,
   "metadata": {},
   "outputs": [
    {
     "data": {
      "text/plain": [
       "26"
      ]
     },
     "execution_count": 38,
     "metadata": {},
     "output_type": "execute_result"
    }
   ],
   "source": [
    "optimal_t_via_vne(P, tmax=100)"
   ]
  },
  {
   "cell_type": "code",
   "execution_count": null,
   "metadata": {},
   "outputs": [],
   "source": []
  }
 ],
 "metadata": {
  "kernelspec": {
   "display_name": "diffusion_curvature",
   "language": "python",
   "name": "python3"
  },
  "language_info": {
   "codemirror_mode": {
    "name": "ipython",
    "version": 3
   },
   "file_extension": ".py",
   "mimetype": "text/x-python",
   "name": "python",
   "nbconvert_exporter": "python",
   "pygments_lexer": "ipython3",
   "version": "3.11.5"
  }
 },
 "nbformat": 4,
 "nbformat_minor": 2
}
