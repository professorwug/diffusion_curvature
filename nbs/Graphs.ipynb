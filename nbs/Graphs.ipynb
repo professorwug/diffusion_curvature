{
 "cells": [
  {
   "cell_type": "code",
   "execution_count": 21,
   "metadata": {},
   "outputs": [],
   "source": [
    "#|default_exp graphs\n",
    "import numpy as np"
   ]
  },
  {
   "cell_type": "markdown",
   "metadata": {},
   "source": [
    "# Graph Creation Utils\n",
    "\n",
    "Written by Alex Tong & Guillaume Huguet for [KrishnaswamyLab/HeatGeo: Embedding with the Heat-geodesic dissimilarity](https://github.com/KrishnaswamyLab/HeatGeo). Adapted for diffusion curvature.\n",
    "\n",
    "This uses the marvelous library PyGSP to handle graph creation and basic graph signal processing.\n",
    "\n",
    "By default we use the alpha-decay kernel from [PHATE](https://www.nature.com/articles/s41587-019-0336-3). We implemented other types of kernels, to use them you need to install our package with `[dev]`."
   ]
  },
  {
   "cell_type": "code",
   "execution_count": 22,
   "metadata": {},
   "outputs": [],
   "source": [
    "#| export\n",
    "import graphtools as gt\n",
    "import pygsp\n",
    "from typing import Union\n",
    "from graphtools.matrix import set_diagonal, to_array\n",
    "from scipy import sparse\n",
    "from sklearn.preprocessing import normalize\n",
    "import numpy as np\n",
    "\n",
    "try:\n",
    "    # optional dependencies\n",
    "    import scanpy as sc\n",
    "    import umap\n",
    "except ImportError as imp_err:\n",
    "    sc = imp_err\n",
    "    umap = imp_err"
   ]
  },
  {
   "cell_type": "code",
   "execution_count": 23,
   "metadata": {},
   "outputs": [],
   "source": [
    "#| export\n",
    "\n",
    "def diff_op(graph):\n",
    "    \"\"\"\n",
    "    Compute the diffusion operator for a pygsp graph.\n",
    "    \"\"\"\n",
    "    assert isinstance(graph, pygsp.graphs.Graph)\n",
    "    K = set_diagonal(graph.W, 1)\n",
    "    diff_op_ = normalize(K, norm=\"l1\", axis=1)\n",
    "    return diff_op_\n",
    "\n",
    "\n",
    "def kernel_degree(graph):\n",
    "    \"\"\"\n",
    "    Compute the kernel degree for a pygsp graph.\n",
    "    \"\"\"\n",
    "    assert isinstance(graph, pygsp.graphs.Graph)\n",
    "    K = set_diagonal(graph.W, 1)\n",
    "    return to_array(K.sum(axis=1)).reshape(-1, 1)\n",
    "\n",
    "\n",
    "def diff_aff(graph):\n",
    "    \"\"\"\n",
    "    Compute the diffusion affinity for a pygsp graph.\n",
    "    \"\"\"\n",
    "    assert isinstance(graph, pygsp.graphs.Graph)\n",
    "    K = set_diagonal(graph.W, 1)\n",
    "    row_degrees = kernel_degree(graph)\n",
    "\n",
    "    if sparse.issparse(K):\n",
    "        # diagonal matrix\n",
    "        degrees = sparse.csr_matrix(\n",
    "            (\n",
    "                1 / np.sqrt(row_degrees.flatten()),\n",
    "                np.arange(len(row_degrees)),\n",
    "                np.arange(len(row_degrees) + 1),\n",
    "            )\n",
    "        )\n",
    "        return degrees @ K @ degrees\n",
    "    else:\n",
    "        col_degrees = row_degrees.T\n",
    "        return (K / np.sqrt(row_degrees)) / np.sqrt(col_degrees)\n",
    "\n",
    "\n",
    "###------------------------Graphs Classes ----------------------------###\n",
    "\n",
    "\n",
    "def get_knn_graph(X, knn=5, **kwargs):\n",
    "    return pygsp.graphs.NNGraph(X, k=knn)\n",
    "\n",
    "\n",
    "def get_alpha_decay_graph(\n",
    "    X,\n",
    "    knn: int = 5,\n",
    "    decay: float = 40.0,\n",
    "    anisotropy: float = 0,\n",
    "    n_pca: int = None,\n",
    "    **kwargs\n",
    "):\n",
    "    return gt.Graph(\n",
    "        X,\n",
    "        knn=knn,\n",
    "        decay=decay,\n",
    "        anisotropy=anisotropy,\n",
    "        n_pca=n_pca,\n",
    "        use_pygsp=True,\n",
    "        random_state=42,\n",
    "    ).to_pygsp()\n",
    "\n",
    "\n",
    "def get_scanpy_graph(X, knn=5, **kwargs):\n",
    "\n",
    "    if isinstance(sc, ImportError):\n",
    "        raise ImportError(\"Scanpy is not installed.\")\n",
    "\n",
    "    adata = sc.AnnData(X)\n",
    "    sc.pp.neighbors(adata, n_neighbors=knn)\n",
    "    w = adata.obsp[\"connectivities\"]\n",
    "    return pygsp.graphs.Graph(w)\n",
    "\n",
    "\n",
    "def get_umap_graph(X, knn=5, **kwargs):  # knn default to 15 in UMAP\n",
    "    if isinstance(umap, ImportError):\n",
    "        raise ImportError(\"UMAP is not installed.\")\n",
    "    umap_op = umap.UMAP(n_neighbors=knn, metric=\"euclidean\")\n",
    "    umap_op.fit(X)\n",
    "    w = umap_op.graph_.toarray()\n",
    "    return pygsp.graphs.Graph(w)"
   ]
  },
  {
   "cell_type": "markdown",
   "metadata": {},
   "source": [
    "# The Differentiable Kernel"
   ]
  },
  {
   "cell_type": "code",
   "execution_count": 24,
   "metadata": {},
   "outputs": [],
   "source": [
    "#|export\n",
    "import jax\n",
    "import jax.numpy as jnp\n",
    "\n",
    "def generic_kernel(\n",
    "        D, # distance matrix\n",
    "        sigma, # kernel bandwidth\n",
    "        anisotropic_density_normalization, \n",
    "\n",
    "):  \n",
    "    W = (1/(sigma*np.sqrt(2*jnp.pi)))*jnp.exp((-D**2)/(2*sigma**2))\n",
    "    D = jnp.diag(1/((jnp.sum(W,axis=1)+1e-8)**anisotropic_density_normalization))\n",
    "    W = D @ W @ D\n",
    "    return W"
   ]
  },
  {
   "cell_type": "code",
   "execution_count": null,
   "metadata": {},
   "outputs": [],
   "source": [
    "#|export\n",
    "\n",
    "def diffusion_matrix_from_affinities(\n",
    "        W\n",
    "):\n",
    "    W = W + jnp.eye(len(W))*1e-8\n",
    "    D = jnp.diag(1/jnp.sum(W,axis=1))\n",
    "    P = D @ W\n",
    "    return P"
   ]
  },
  {
   "cell_type": "code",
   "execution_count": null,
   "metadata": {},
   "outputs": [],
   "source": [
    "from diffusion_curvature.utils import random_jnparray\n",
    "from diffusion_curvature.distances import pairwise_euclidean\n",
    "X = random_jnparray(100,9)\n",
    "D = pairwise_euclidean(X,X)\n",
    "W = generic_kernel(D,0.7,0.5)\n",
    "P = diffusion_matrix_from_affinities(W)"
   ]
  },
  {
   "cell_type": "code",
   "execution_count": 11,
   "metadata": {},
   "outputs": [
    {
     "data": {
      "text/plain": [
       "Array(1.e+08, dtype=float32)"
      ]
     },
     "execution_count": 11,
     "metadata": {},
     "output_type": "execute_result"
    }
   ],
   "source": [
    "import jax.numpy as jnp\n",
    "jnp.max(jnp.array([1, 0.4, 1, 3])/jnp.array([1e-8,1,1,1]))"
   ]
  },
  {
   "cell_type": "code",
   "execution_count": 9,
   "metadata": {},
   "outputs": [
    {
     "data": {
      "text/plain": [
       "Array([inf, 0.4, 1. , 3. ], dtype=float32)"
      ]
     },
     "execution_count": 9,
     "metadata": {},
     "output_type": "execute_result"
    }
   ],
   "source": [
    "jnp.array([1, 0.4, 1, 3])/jnp.array([0,1,1,1])"
   ]
  },
  {
   "cell_type": "code",
   "execution_count": null,
   "metadata": {},
   "outputs": [],
   "source": []
  }
 ],
 "metadata": {
  "kernelspec": {
   "display_name": "diffusion_curvature",
   "language": "python",
   "name": "python3"
  },
  "language_info": {
   "codemirror_mode": {
    "name": "ipython",
    "version": 3
   },
   "file_extension": ".py",
   "mimetype": "text/x-python",
   "name": "python",
   "nbconvert_exporter": "python",
   "pygments_lexer": "ipython3",
   "version": "3.11.5"
  }
 },
 "nbformat": 4,
 "nbformat_minor": 2
}
